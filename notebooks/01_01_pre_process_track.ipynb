{
 "cells": [
  {
   "cell_type": "markdown",
   "metadata": {},
   "source": [
    "# Imports"
   ]
  },
  {
   "cell_type": "code",
   "execution_count": 1,
   "metadata": {},
   "outputs": [],
   "source": [
    "from nb_utils import set_root\n",
    "PROJECT_DIR = set_root(2)"
   ]
  },
  {
   "cell_type": "code",
   "execution_count": 2,
   "metadata": {},
   "outputs": [],
   "source": [
    "import os\n",
    "import re\n",
    "import pandas as pd"
   ]
  },
  {
   "cell_type": "markdown",
   "metadata": {},
   "source": [
    "# Methods"
   ]
  },
  {
   "cell_type": "code",
   "execution_count": 3,
   "metadata": {},
   "outputs": [],
   "source": [
    "def is_numeric(string):\n",
    "    pattern = re.compile(r"^\\d+$")\n",
    "    return bool(pattern.match(string))"
   ]
  },
  {
   "cell_type": "markdown",
   "metadata": {},
   "source": [
    "# Parameters"
   ]
  },
  {
   "cell_type": "code",
   "execution_count": 4,
   "metadata": {},
   "outputs": [],
   "source": [
    "path_data = PROJECT_DIR / "data"\n",
    "path_datasets = PROJECT_DIR / \"datasets\" / \"data\" / \"train\"\n",
    "path_intermediate = path_data / \"02_intermediate\"\n",
    "path_primary = path_data / \"03_primary\"\n",
    "\n",
    "files_sample = [i for i in os.listdir(path_datasets) if is_numeric(i)]\n",
    "file_path_tracker = {i: path_primary / \"tracker_data\" / f\"{i}.parquet\" for i in files_sample}"
   ]
  },
  {
   "cell_type": "markdown",
   "metadata": {},
   "source": [
    "# Read"
   ]
  },
  {
   "cell_type": "code",
   "execution_count": null,
   "metadata": {},
   "outputs": [],
   "source": [
    "data_tracker = {}\n",
    "for key, path in file_path_tracker.items():\n",
    "    data_tracker[key] = pd.read_parquet(path)\n",
    "    data_tracker[key][\"ID\"] = key"
   ]
  },
  {
   "cell_type": "code",
   "execution_count": 27,
   "metadata": {},
   "outputs": [],
   "source": [
    "data_tracker = pd.concat(list(data_tracker.values()), ignore_index=True)"
   ]
  },
  {
   "cell_type": "markdown",
   "metadata": {},
   "source": [
    "# Create center point"
   ]
  },
  {
   "cell_type": "code",
   "execution_count": 28,
   "metadata": {},
   "outputs": [],
   "source": [
    "data_tracker[\"x_center\"] = (data_tracker["x_min"] + data_tracker["x_max"]) / 2\n",
    "data_tracker[\"y_center\"] = (data_tracker["y_min"] + data_tracker["y_max"]) / 2"
   ]
  },
  {
   "cell_type": "markdown",
   "metadata": {},
   "source": [
    "# Save"
   ]
  },
  {
   "cell_type": "code",
   "execution_count": 29,
   "metadata": {},
   "outputs": [],
   "source": [
    "data_tracker.to_parquet(path_primary / \"tracker.parquet\")"
   ]
  }
 ],
 "metadata": {
  "kernelspec": {
   "display_name": "template-hooks-75HnZkhL-py3.10",
   "language": "python",
   "name": "python3"
  },
  "language_info": {
   "codemirror_mode": {
    "name": "ipython",
    "version": 3
   },
   "file_extension": ".py",
   "mimetype": "text/x-python",
   "name": "python",
   "nbconvert_exporter": "python",
   "pygments_lexer": "ipython3",
   "version": "3.10.12"
  }
 },
 "nbformat": 4,
 "nbformat_minor": 2
}
