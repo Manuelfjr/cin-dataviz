{
 "cells": [
  {
   "cell_type": "code",
   "execution_count": 2,
   "metadata": {},
   "outputs": [],
   "source": [
    "# %pip install ultralytics"
   ]
  },
  {
   "cell_type": "code",
   "execution_count": null,
   "metadata": {},
   "outputs": [],
   "source": [
    "import ultralytics\n",
    "ultralytics.checks()"
   ]
  },
  {
   "cell_type": "markdown",
   "metadata": {},
   "source": [
    "**Treinamento do Modelo**"
   ]
  },
  {
   "cell_type": "code",
   "execution_count": null,
   "metadata": {},
   "outputs": [],
   "source": [
    "!pwd"
   ]
  },
  {
   "cell_type": "code",
   "execution_count": null,
   "metadata": {},
   "outputs": [],
   "source": [
    "from ultralytics import YOLO\n",
    "\n",
    "# Load a model\n",
    "model = YOLO('yolov8s.yaml')  # build a new model from scratch\n",
    "model = YOLO('yolov8s.pt')  # load a pretrained model (recommended for training)\n",
    "\n",
    "# Use the model\n",
    "results = model.train(data='data.yaml', epochs=3)  # train the model\n",
    "results = model.val()  # evaluate model performance on the validation set"
   ]
  },
  {
   "cell_type": "code",
   "execution_count": 6,
   "metadata": {},
   "outputs": [],
   "source": [
    "# !pip install supervision ultralytics"
   ]
  },
  {
   "cell_type": "markdown",
   "metadata": {},
   "source": [
    "**Detecção em Vídeo**"
   ]
  },
  {
   "cell_type": "code",
   "execution_count": 8,
   "metadata": {},
   "outputs": [
    {
     "name": "stdout",
     "output_type": "stream",
     "text": [
      "pwd ..\n"
     ]
    }
   ],
   "source": [
    "!echo pwd .."
   ]
  },
  {
   "cell_type": "code",
   "execution_count": null,
   "metadata": {},
   "outputs": [],
   "source": [
    "import numpy as np\n",
    "import pandas as pd\n",
    "import supervision as sv\n",
    "from ultralytics import YOLO\n",
    "\n",
    "# Inicializando o modelo, o rastreador e os anotadores\n",
    "model = YOLO('runs/detect/train/weights/best.pt')\n",
    "tracker = sv.ByteTrack()\n",
    "annotator = sv.RoundBoxAnnotator()\n",
    "label_annotator = sv.LabelAnnotator()\n",
    "trace_annotator = sv.TraceAnnotator()\n",
    "\n",
    "# Criando um DataFrame vazio para armazenar as detecções\n",
    "df_detections = pd.DataFrame(columns=[\"tracker_id\", \"class_id\", \"x_min\", \"y_min\", \"x_max\", \"y_max\"])\n",
    "\n",
    "# Função de callback para processar cada frame\n",
    "def callback(frame: np.ndarray, _: int) -> np.ndarray:\n",
    "    global df_detections\n",
    "\n",
    "    # Fazendo a predição no frame atual\n",
    "    results = model(frame)[0]\n",
    "\n",
    "    # Convertendo resultados para o formato de detecção\n",
    "    detections = sv.Detections.from_ultralytics(results)\n",
    "\n",
    "    # Atualizando os rastreamentos com o ByteTrack\n",
    "    detections = tracker.update_with_detections(detections)\n",
    "    \n",
    "    # Extraindo informações das detecções para o DataFrame\n",
    "    new_data = []\n",
    "    for i, (class_id, tracker_id, box) in enumerate(zip(detections.class_id, detections.tracker_id, detections.xyxy)):\n",
    "        # Extraindo coordenadas da bounding box\n",
    "        x_min, y_min, x_max, y_max = box\n",
    "        \n",
    "        # Adicionando as informações à lista de novas linhas\n",
    "        new_data.append({\n",
    "            \"tracker_id\": tracker_id,\n",
    "            \"class_id\": class_id,\n",
    "            \"x_min\": x_min,\n",
    "            \"y_min\": y_min,\n",
    "            \"x_max\": x_max,\n",
    "            \"y_max\": y_max\n",
    "        })\n",
    "\n",
    "    # Concatenando novas linhas ao DataFrame\n",
    "    df_detections = pd.concat([df_detections, pd.DataFrame(new_data)], ignore_index=True)\n",
    "\n",
    "    # Criando rótulos para cada detecção\n",
    "    labels = [\n",
    "        f\"#{tracker_id} {results.names[class_id]}\"\n",
    "        for class_id, tracker_id\n",
    "        in zip(detections.class_id, detections.tracker_id)\n",
    "    ]\n",
    "\n",
    "    # Anotando o frame com as caixas de detecção, rótulos e rastros\n",
    "    annotated_frame = annotator.annotate(frame.copy(), detections=detections)\n",
    "    annotated_frame = label_annotator.annotate(annotated_frame, detections=detections, labels=labels)\n",
    "    return trace_annotator.annotate(annotated_frame, detections=detections)\n",
    "\n",
    "# Processando o vídeo e salvando o resultado\n",
    "sv.process_video(\n",
    "    source_path=\"11.2.mp4\",\n",
    "    target_path=\"resultIDTraceRo.mp4\",\n",
    "    callback=callback\n",
    ")\n",
    "\n",
    "# Exibindo as primeiras linhas do DataFrame ao final do processamento\n",
    "print(df_detections.head())\n"
   ]
  }
 ],
 "metadata": {
  "kernelspec": {
   "display_name": "v8",
   "language": "python",
   "name": "python3"
  },
  "language_info": {
   "codemirror_mode": {
    "name": "ipython",
    "version": 3
   },
   "file_extension": ".py",
   "mimetype": "text/x-python",
   "name": "python",
   "nbconvert_exporter": "python",
   "pygments_lexer": "ipython3",
   "version": "3.10.12"
  }
 },
 "nbformat": 4,
 "nbformat_minor": 2
}
