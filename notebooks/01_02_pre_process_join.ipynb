{
 "cells": [
  {
   "cell_type": "markdown",
   "metadata": {},
   "source": [
    "# Imports"
   ]
  },
  {
   "cell_type": "code",
   "execution_count": 27,
   "metadata": {},
   "outputs": [],
   "source": [
    "from nb_utils import set_root\n",
    "PROJECT_DIR = set_root(2)"
   ]
  },
  {
   "cell_type": "code",
   "execution_count": 28,
   "metadata": {},
   "outputs": [],
   "source": [
    "import pandas as pd"
   ]
  },
  {
   "cell_type": "markdown",
   "metadata": {},
   "source": [
    "# Parameters"
   ]
  },
  {
   "cell_type": "code",
   "execution_count": 29,
   "metadata": {},
   "outputs": [],
   "source": [
    "path_data = PROJECT_DIR / 'data'\n",
    "path_intermediate = path_data / \"02_intermediate\"\n",
    "path_primary = path_data / \"03_primary\"\n",
    "\n",
    "file_path_tracker = path_primary / \"tracker.parquet\"\n",
    "file_path_horm = path_intermediate / \"data_horm_concat.parquet\""
   ]
  },
  {
   "cell_type": "code",
   "execution_count": 30,
   "metadata": {},
   "outputs": [],
   "source": [
    "entity_id = \"ID\""
   ]
  },
  {
   "cell_type": "markdown",
   "metadata": {},
   "source": [
    "# Read"
   ]
  },
  {
   "cell_type": "code",
   "execution_count": 31,
   "metadata": {},
   "outputs": [],
   "source": [
    "data_tracker = pd.read_parquet(file_path_tracker)\n",
    "data_horm = pd.read_parquet(file_path_horm).reset_index()"
   ]
  },
  {
   "cell_type": "markdown",
   "metadata": {},
   "source": [
    "# Merge"
   ]
  },
  {
   "cell_type": "code",
   "execution_count": 32,
   "metadata": {},
   "outputs": [],
   "source": [
    "data_tracker[\"ID\"] = data_tracker[\"ID\"].astype(int)"
   ]
  },
  {
   "cell_type": "code",
   "execution_count": 33,
   "metadata": {},
   "outputs": [],
   "source": [
    "data_join = data_tracker.merge(data_horm, how = \"inner\", on = \"ID\")"
   ]
  },
  {
   "cell_type": "markdown",
   "metadata": {},
   "source": [
    "# Order columns"
   ]
  },
  {
   "cell_type": "code",
   "execution_count": 34,
   "metadata": {},
   "outputs": [
    {
     "data": {
      "text/html": [
       "<div>\n",
       "<style scoped>\n",
       "    .dataframe tbody tr th:only-of-type {\n",
       "        vertical-align: middle;\n",
       "    }\n",
       "\n",
       "    .dataframe tbody tr th {\n",
       "        vertical-align: top;\n",
       "    }\n",
       "\n",
       "    .dataframe thead th {\n",
       "        text-align: right;\n",
       "    }\n",
       "</style>\n",
       "<table border=\"1\" class=\"dataframe\">\n",
       "  <thead>\n",
       "    <tr style=\"text-align: right;\">\n",
       "      <th></th>\n",
       "      <th>ID</th>\n",
       "      <th>tracker_id</th>\n",
       "      <th>class_id</th>\n",
       "      <th>x_min</th>\n",
       "      <th>y_min</th>\n",
       "      <th>x_max</th>\n",
       "      <th>y_max</th>\n",
       "      <th>x_center</th>\n",
       "      <th>y_center</th>\n",
       "      <th>Serum C14:0</th>\n",
       "      <th>...</th>\n",
       "      <th>Sperm C20:1 n-9</th>\n",
       "      <th>Sperm C20:2 n-6</th>\n",
       "      <th>Sperm C22:0</th>\n",
       "      <th>Sperm C20:3 n-6</th>\n",
       "      <th>Sperm C20:4 n-6 &amp; C22:1 n-9</th>\n",
       "      <th>Sperm C20:5 n-3</th>\n",
       "      <th>Sperm C24:0</th>\n",
       "      <th>Sperm C24:1 n-9</th>\n",
       "      <th>Sperm C22:5 n-3</th>\n",
       "      <th>Sperm C22:6 n-3</th>\n",
       "    </tr>\n",
       "  </thead>\n",
       "  <tbody>\n",
       "    <tr>\n",
       "      <th>0</th>\n",
       "      <td>47</td>\n",
       "      <td>0</td>\n",
       "      <td>0</td>\n",
       "      <td>4.348797</td>\n",
       "      <td>118.514236</td>\n",
       "      <td>22.273115</td>\n",
       "      <td>138.625229</td>\n",
       "      <td>13.310956</td>\n",
       "      <td>128.569733</td>\n",
       "      <td>0.2</td>\n",
       "      <td>...</td>\n",
       "      <td>0.4</td>\n",
       "      <td>0.4</td>\n",
       "      <td>2.1</td>\n",
       "      <td>2.4</td>\n",
       "      <td>1.7</td>\n",
       "      <td>0.04</td>\n",
       "      <td>1.6</td>\n",
       "      <td>1.6</td>\n",
       "      <td>0.9</td>\n",
       "      <td>23.3</td>\n",
       "    </tr>\n",
       "    <tr>\n",
       "      <th>1</th>\n",
       "      <td>47</td>\n",
       "      <td>1</td>\n",
       "      <td>0</td>\n",
       "      <td>485.946716</td>\n",
       "      <td>145.540283</td>\n",
       "      <td>506.476501</td>\n",
       "      <td>166.668884</td>\n",
       "      <td>496.211609</td>\n",
       "      <td>156.104584</td>\n",
       "      <td>0.2</td>\n",
       "      <td>...</td>\n",
       "      <td>0.4</td>\n",
       "      <td>0.4</td>\n",
       "      <td>2.1</td>\n",
       "      <td>2.4</td>\n",
       "      <td>1.7</td>\n",
       "      <td>0.04</td>\n",
       "      <td>1.6</td>\n",
       "      <td>1.6</td>\n",
       "      <td>0.9</td>\n",
       "      <td>23.3</td>\n",
       "    </tr>\n",
       "    <tr>\n",
       "      <th>2</th>\n",
       "      <td>47</td>\n",
       "      <td>2</td>\n",
       "      <td>0</td>\n",
       "      <td>28.142849</td>\n",
       "      <td>251.524780</td>\n",
       "      <td>49.713924</td>\n",
       "      <td>272.921570</td>\n",
       "      <td>38.928387</td>\n",
       "      <td>262.223175</td>\n",
       "      <td>0.2</td>\n",
       "      <td>...</td>\n",
       "      <td>0.4</td>\n",
       "      <td>0.4</td>\n",
       "      <td>2.1</td>\n",
       "      <td>2.4</td>\n",
       "      <td>1.7</td>\n",
       "      <td>0.04</td>\n",
       "      <td>1.6</td>\n",
       "      <td>1.6</td>\n",
       "      <td>0.9</td>\n",
       "      <td>23.3</td>\n",
       "    </tr>\n",
       "    <tr>\n",
       "      <th>3</th>\n",
       "      <td>47</td>\n",
       "      <td>3</td>\n",
       "      <td>0</td>\n",
       "      <td>103.487030</td>\n",
       "      <td>363.432861</td>\n",
       "      <td>124.152924</td>\n",
       "      <td>384.810669</td>\n",
       "      <td>113.819977</td>\n",
       "      <td>374.121765</td>\n",
       "      <td>0.2</td>\n",
       "      <td>...</td>\n",
       "      <td>0.4</td>\n",
       "      <td>0.4</td>\n",
       "      <td>2.1</td>\n",
       "      <td>2.4</td>\n",
       "      <td>1.7</td>\n",
       "      <td>0.04</td>\n",
       "      <td>1.6</td>\n",
       "      <td>1.6</td>\n",
       "      <td>0.9</td>\n",
       "      <td>23.3</td>\n",
       "    </tr>\n",
       "    <tr>\n",
       "      <th>4</th>\n",
       "      <td>47</td>\n",
       "      <td>4</td>\n",
       "      <td>0</td>\n",
       "      <td>81.397095</td>\n",
       "      <td>360.035797</td>\n",
       "      <td>98.433258</td>\n",
       "      <td>378.959076</td>\n",
       "      <td>89.915176</td>\n",
       "      <td>369.497437</td>\n",
       "      <td>0.2</td>\n",
       "      <td>...</td>\n",
       "      <td>0.4</td>\n",
       "      <td>0.4</td>\n",
       "      <td>2.1</td>\n",
       "      <td>2.4</td>\n",
       "      <td>1.7</td>\n",
       "      <td>0.04</td>\n",
       "      <td>1.6</td>\n",
       "      <td>1.6</td>\n",
       "      <td>0.9</td>\n",
       "      <td>23.3</td>\n",
       "    </tr>\n",
       "  </tbody>\n",
       "</table>\n",
       "<p>5 rows × 73 columns</p>\n",
       "</div>"
      ],
      "text/plain": [
       "   ID  tracker_id  class_id       x_min       y_min       x_max       y_max  \\\n",
       "0  47           0         0    4.348797  118.514236   22.273115  138.625229   \n",
       "1  47           1         0  485.946716  145.540283  506.476501  166.668884   \n",
       "2  47           2         0   28.142849  251.524780   49.713924  272.921570   \n",
       "3  47           3         0  103.487030  363.432861  124.152924  384.810669   \n",
       "4  47           4         0   81.397095  360.035797   98.433258  378.959076   \n",
       "\n",
       "     x_center    y_center  Serum C14:0  ...  Sperm C20:1 n-9  Sperm C20:2 n-6  \\\n",
       "0   13.310956  128.569733          0.2  ...              0.4              0.4   \n",
       "1  496.211609  156.104584          0.2  ...              0.4              0.4   \n",
       "2   38.928387  262.223175          0.2  ...              0.4              0.4   \n",
       "3  113.819977  374.121765          0.2  ...              0.4              0.4   \n",
       "4   89.915176  369.497437          0.2  ...              0.4              0.4   \n",
       "\n",
       "   Sperm C22:0  Sperm C20:3 n-6  Sperm C20:4 n-6 & C22:1 n-9  Sperm C20:5 n-3  \\\n",
       "0          2.1              2.4                          1.7             0.04   \n",
       "1          2.1              2.4                          1.7             0.04   \n",
       "2          2.1              2.4                          1.7             0.04   \n",
       "3          2.1              2.4                          1.7             0.04   \n",
       "4          2.1              2.4                          1.7             0.04   \n",
       "\n",
       "   Sperm C24:0  Sperm C24:1 n-9  Sperm C22:5 n-3  Sperm C22:6 n-3  \n",
       "0          1.6              1.6              0.9             23.3  \n",
       "1          1.6              1.6              0.9             23.3  \n",
       "2          1.6              1.6              0.9             23.3  \n",
       "3          1.6              1.6              0.9             23.3  \n",
       "4          1.6              1.6              0.9             23.3  \n",
       "\n",
       "[5 rows x 73 columns]"
      ]
     },
     "execution_count": 34,
     "metadata": {},
     "output_type": "execute_result"
    }
   ],
   "source": [
    "data_join = data_join[[entity_id] + [col for col in data_join.columns if  col != entity_id]]\n",
    "data_join.head()"
   ]
  },
  {
   "cell_type": "markdown",
   "metadata": {},
   "source": [
    "# Save"
   ]
  },
  {
   "cell_type": "code",
   "execution_count": 35,
   "metadata": {},
   "outputs": [],
   "source": [
    "data_join.to_parquet(path_primary / \"horm_tracker.parquet\")"
   ]
  }
 ],
 "metadata": {
  "kernelspec": {
   "display_name": "template-hooks-75HnZkhL-py3.10",
   "language": "python",
   "name": "python3"
  },
  "language_info": {
   "codemirror_mode": {
    "name": "ipython",
    "version": 3
   },
   "file_extension": ".py",
   "mimetype": "text/x-python",
   "name": "python",
   "nbconvert_exporter": "python",
   "pygments_lexer": "ipython3",
   "version": "3.10.12"
  }
 },
 "nbformat": 4,
 "nbformat_minor": 2
}
