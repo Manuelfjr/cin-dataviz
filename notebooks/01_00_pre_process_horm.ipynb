{
 "cells": [
  {
   "cell_type": "markdown",
   "metadata": {},
   "source": [
    "# Imports"
   ]
  },
  {
   "cell_type": "code",
   "execution_count": 48,
   "metadata": {},
   "outputs": [],
   "source": [
    "from nb_utils import set_root\n",
    "PROJECT_DIR = set_root(2)"
   ]
  },
  {
   "cell_type": "code",
   "execution_count": 49,
   "metadata": {},
   "outputs": [],
   "source": [
    "import pandas as pd"
   ]
  },
  {
   "cell_type": "markdown",
   "metadata": {},
   "source": [
    "# Params"
   ]
  },
  {
   "cell_type": "code",
   "execution_count": 50,
   "metadata": {},
   "outputs": [],
   "source": [
    "path_data = PROJECT_DIR / \"data\"\n",
    "path_raw = path_data / \"01_raw\"\n",
    "path_intermediate = path_data / \"02_intermediate\"\n",
    "\n",
    "files = [\n",
    "    'fatty_acids_serum_Train.csv',\n",
    "    'participant_related_data_Train.csv',\n",
    "    'semen_analysis_data_Train.csv',\n",
    "    'sex_hormones_Train.csv',\n",
    "    'fatty_acids_spermatoza_Train.csv'\n",
    "]\n",
    "file_paths = {i.split(\".\")[0]: path_raw / i for i in files}"
   ]
  },
  {
   "cell_type": "code",
   "execution_count": 51,
   "metadata": {},
   "outputs": [],
   "source": [
    "rename_dict = {\n",
    "    'Serum C14:0 (myristic acid)': 'Serum C14:0',\n",
    "    'Serum C16:0 (palmitic acid)': 'Serum C16:0',\n",
    "    'Serum C16:1 (palmitoleic acid)': 'Serum C16:1',\n",
    "    'Serum C18:0 (stearic acid)': 'Serum C18:0',\n",
    "    'Serum C18:1 n-9 (oleic acid)': 'Serum C18:1 n-9',\n",
    "    'Serum total C18:1': 'Serum total C18:1',\n",
    "    'Serum C18:2 n-6 (linoleic acid, LA)': 'Serum C18:2 n-6',\n",
    "    'Serum C18:3 n-6 (gamma-linoleic acid, GLA)': 'Serum C18:3 n-6',\n",
    "    'Serum C20:1 n-9': 'Serum C20:1 n-9',\n",
    "    'Serum C20:2 n-6': 'Serum C20:2 n-6',\n",
    "    'Serum C20:3 n-6': 'Serum C20:3 n-6',\n",
    "    'Serum C20:4 n-6': 'Serum C20:4 n-6',\n",
    "    'Serum C20:5 n-3  (eicosapentaenoic acid, EPA)': 'Serum C20:5 n-3',\n",
    "    'Serum C22:5 n-3 (docosapentaenoic acid, DPA)': 'Serum C22:5 n-3',\n",
    "    'Serum C22:6 n-3 (docosahexaenoic acid, DHA)': 'Serum C22:6 n-3',\n",
    "    'Abstinence time(days)': 'Abstinence time',\n",
    "    'Body mass index (kg/m²)': 'BMI',\n",
    "    'Age (years)': 'Age',\n",
    "    'Sperm concentration (x10⁶/mL)': 'Sperm conc',\n",
    "    'Total sperm count (x10⁶)': 'Total sperm count',\n",
    "    'Ejaculate volume (mL)': 'Ejaculate volume',\n",
    "    'Sperm vitality (%)': 'Sperm vitality',\n",
    "    'Normal spermatozoa (%)': 'Normal sperm',\n",
    "    'Head defects (%)': 'Head defects',\n",
    "    'Midpiece and neck defects (%)': 'Midpiece defects',\n",
    "    'Tail defects (%)': 'Tail defects',\n",
    "    'Cytoplasmic droplet (%)': 'Cytoplasmic droplet',\n",
    "    'Teratozoospermia index': 'Teratozoospermia index',\n",
    "    'Progressive motility (%)': 'Progressive motility',\n",
    "    'Non progressive sperm motility (%)': 'Non progressive motility',\n",
    "    'Immotile sperm (%)': 'Immotile sperm',\n",
    "    'High DNA stainability, HDS (%)': 'HDS',\n",
    "    'DNA fragmentation index, DFI (%)': 'DFI',\n",
    "    'Seminal plasma anti-Müllerian hormone (AMH) (pmol/L)': 'Seminal AMH',\n",
    "    'Serum total testosterone (nmol/L)': 'Serum testosterone',\n",
    "    'Serum oestradiol (nmol/L)': 'Serum oestradiol',\n",
    "    'Serum sex hormone-binding globulin, SHBG (nmol/L)': 'Serum SHBG',\n",
    "    'Serum follicle-stimulating hormone, FSH (IU/L)': 'Serum FSH',\n",
    "    'Serum Luteinizing hormone, LH (IU/L)': 'Serum LH',\n",
    "    'Serum inhibin B (ng/L)': 'Serum inhibin B',\n",
    "    'Serum anti-Müllerian hormone, AMH (pmol/L)': 'Serum AMH',\n",
    "    'Sperm C14:0 (myristic acid)': 'Sperm C14:0',\n",
    "    'Sperm C15:0 (pentadecanoic acid)': 'Sperm C15:0',\n",
    "    'Sperm C16:0 (palmitic acid)': 'Sperm C16:0',\n",
    "    'Sperm C16:1 n-7 (palmitoleic acid)': 'Sperm C16:1 n-7',\n",
    "    'Sperm C17:0': 'Sperm C17:0',\n",
    "    'Sperm C18:0 (stearic acid)': 'Sperm C18:0',\n",
    "    'Sperm C18:1 trans n-6 to n-11': 'Sperm C18:1 trans',\n",
    "    'Sperm C18:1 n-9 (oleic acid)': 'Sperm C18:1 n-9',\n",
    "    'Sperm C18:1 n-7 to n-11': 'Sperm C18:1 n-7',\n",
    "    'Sperm C18:2 n-6 (Linoleic acid, LA)': 'Sperm C18:2 n-6',\n",
    "    'Sperm C20:0': 'Sperm C20:0',\n",
    "    'Sperm C18:3 n-6 (gamma-linoleic acid, GLA)': 'Sperm C18:3 n-6',\n",
    "    'Sperm C18:3 n-3 (a-linoleic acid, ALA)': 'Sperm C18:3 n-3',\n",
    "    'Sperm C20:1 n-9': 'Sperm C20:1 n-9',\n",
    "    'Sperm C20:2 n-6': 'Sperm C20:2 n-6',\n",
    "    'Sperm C22:0': 'Sperm C22:0',\n",
    "    'Sperm C20:3 n-6': 'Sperm C20:3 n-6',\n",
    "    'Sperm C20:4 n-6 and C22:1 n-9 combined': 'Sperm C20:4 n-6 & C22:1 n-9',\n",
    "    'Sperm C20:5 n-3 (eicosapentaenoic acid, EPA)': 'Sperm C20:5 n-3',\n",
    "    'Sperm C24:0': 'Sperm C24:0',\n",
    "    'Sperm C24:1 n-9': 'Sperm C24:1 n-9',\n",
    "    'Sperm C22:5 n-3 (docosapentaenoic acid, DPA)': 'Sperm C22:5 n-3',\n",
    "    'Sperm C22:6,n3 (docosahexaenoic acid, DHA)': 'Sperm C22:6 n-3'\n",
    "}"
   ]
  },
  {
   "cell_type": "markdown",
   "metadata": {},
   "source": [
    "# Read"
   ]
  },
  {
   "cell_type": "code",
   "execution_count": 52,
   "metadata": {},
   "outputs": [],
   "source": [
    "data = {key: pd.read_csv(url, index_col=0) for key, url in file_paths.items()}"
   ]
  },
  {
   "cell_type": "markdown",
   "metadata": {},
   "source": [
    "# Processing"
   ]
  },
  {
   "cell_type": "code",
   "execution_count": 53,
   "metadata": {},
   "outputs": [],
   "source": [
    "data_join = data[\"fatty_acids_serum_Train\"].join(data[\"participant_related_data_Train\"], how=\"inner\")\n",
    "data_join = data_join.join(data[\"semen_analysis_data_Train\"])\n",
    "data_join = data_join.join(data[\"sex_hormones_Train\"])\n",
    "data_join = data_join.join(data[\"fatty_acids_spermatoza_Train\"])\n",
    "for col in data_join.select_dtypes(include=object).columns:\n",
    "    data_join[col] = data_join[col].replace({\"Not reported\": -1}).astype(float)"
   ]
  },
  {
   "cell_type": "code",
   "execution_count": 54,
   "metadata": {},
   "outputs": [],
   "source": [
    "data_join.rename(columns=rename_dict, inplace=True)"
   ]
  },
  {
   "cell_type": "code",
   "execution_count": 55,
   "metadata": {},
   "outputs": [],
   "source": [
    "corr_matrix = data_join.corr()"
   ]
  },
  {
   "cell_type": "markdown",
   "metadata": {},
   "source": [
    "# Feature correlation selection"
   ]
  },
  {
   "cell_type": "code",
   "execution_count": 56,
   "metadata": {},
   "outputs": [],
   "source": [
    "k_feats = 10\n",
    "threshold = 0.5\n",
    "\n",
    "feats = list(((corr_matrix > threshold) | (corr_matrix < -threshold)).sum(axis=1).sort_values().tail(k_feats).index)\n",
    "feats = [f for f in feats if f not in [\"Age\", \"BMI\", \"Sperm vitality\"]] + [\"Age\", \"BMI\", \"Sperm vitality\"]"
   ]
  },
  {
   "cell_type": "code",
   "execution_count": 57,
   "metadata": {},
   "outputs": [],
   "source": [
    "data_input = data_join[feats].copy()"
   ]
  },
  {
   "cell_type": "markdown",
   "metadata": {},
   "source": [
    "# Save"
   ]
  },
  {
   "cell_type": "code",
   "execution_count": 58,
   "metadata": {},
   "outputs": [],
   "source": [
    "data_input.to_parquet(path_intermediate / \"data_horm_concat_corr.parquet\")\n",
    "data_join.to_parquet(path_intermediate / \"data_horm_concat.parquet\")"
   ]
  }
 ],
 "metadata": {
  "kernelspec": {
   "display_name": "template-hooks-75HnZkhL-py3.10",
   "language": "python",
   "name": "python3"
  },
  "language_info": {
   "codemirror_mode": {
    "name": "ipython",
    "version": 3
   },
   "file_extension": ".py",
   "mimetype": "text/x-python",
   "name": "python",
   "nbconvert_exporter": "python",
   "pygments_lexer": "ipython3",
   "version": "3.10.12"
  }
 },
 "nbformat": 4,
 "nbformat_minor": 2
}
