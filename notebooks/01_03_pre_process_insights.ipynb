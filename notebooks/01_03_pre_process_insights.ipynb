{
 "cells": [
  {
   "cell_type": "markdown",
   "metadata": {},
   "source": [
    "# Imports"
   ]
  },
  {
   "cell_type": "code",
   "execution_count": 186,
   "metadata": {},
   "outputs": [],
   "source": [
    "from nb_utils import set_root\n",
    "PROJECT_DIR = set_root(2)"
   ]
  },
  {
   "cell_type": "code",
   "execution_count": 187,
   "metadata": {},
   "outputs": [],
   "source": [
    "import numpy as np\n",
    "import pandas as pd\n",
    "import matplotlib.pyplot as plt\n",
    "from sklearn.decomposition import PCA\n",
    "import plotly.graph_objects as go"
   ]
  },
  {
   "cell_type": "markdown",
   "metadata": {},
   "source": [
    "# Parameters"
   ]
  },
  {
   "cell_type": "code",
   "execution_count": 188,
   "metadata": {},
   "outputs": [],
   "source": [
    "path_data = PROJECT_DIR / 'data'\n",
    "path_primary = path_data / \"03_primary\"\n",
    "\n",
    "file_path_data = path_primary / \"horm_tracker.parquet\"\n",
    "tracker_columns = [\n",
    "    \"tracker_id\", \"class_id\", \"x_min\", \"y_min\", \"x_max\", \"y_max\", \"x_center\", \"y_center\"\n",
    "]"
   ]
  },
  {
   "cell_type": "markdown",
   "metadata": {},
   "source": [
    "# Read"
   ]
  },
  {
   "cell_type": "code",
   "execution_count": 189,
   "metadata": {},
   "outputs": [
    {
     "data": {
      "text/html": [
       "<div>\n",
       "<style scoped>\n",
       "    .dataframe tbody tr th:only-of-type {\n",
       "        vertical-align: middle;\n",
       "    }\n",
       "\n",
       "    .dataframe tbody tr th {\n",
       "        vertical-align: top;\n",
       "    }\n",
       "\n",
       "    .dataframe thead th {\n",
       "        text-align: right;\n",
       "    }\n",
       "</style>\n",
       "<table border=\"1\" class=\"dataframe\">\n",
       "  <thead>\n",
       "    <tr style=\"text-align: right;\">\n",
       "      <th></th>\n",
       "      <th>ID</th>\n",
       "      <th>tracker_id</th>\n",
       "      <th>class_id</th>\n",
       "      <th>x_min</th>\n",
       "      <th>y_min</th>\n",
       "      <th>x_max</th>\n",
       "      <th>y_max</th>\n",
       "      <th>x_center</th>\n",
       "      <th>y_center</th>\n",
       "      <th>Serum C14:0</th>\n",
       "      <th>...</th>\n",
       "      <th>Sperm C20:1 n-9</th>\n",
       "      <th>Sperm C20:2 n-6</th>\n",
       "      <th>Sperm C22:0</th>\n",
       "      <th>Sperm C20:3 n-6</th>\n",
       "      <th>Sperm C20:4 n-6 &amp; C22:1 n-9</th>\n",
       "      <th>Sperm C20:5 n-3</th>\n",
       "      <th>Sperm C24:0</th>\n",
       "      <th>Sperm C24:1 n-9</th>\n",
       "      <th>Sperm C22:5 n-3</th>\n",
       "      <th>Sperm C22:6 n-3</th>\n",
       "    </tr>\n",
       "  </thead>\n",
       "  <tbody>\n",
       "    <tr>\n",
       "      <th>0</th>\n",
       "      <td>47</td>\n",
       "      <td>0</td>\n",
       "      <td>0</td>\n",
       "      <td>4.348797</td>\n",
       "      <td>118.51424</td>\n",
       "      <td>22.273115</td>\n",
       "      <td>138.62523</td>\n",
       "      <td>13.310956</td>\n",
       "      <td>128.569735</td>\n",
       "      <td>0.2</td>\n",
       "      <td>...</td>\n",
       "      <td>0.4</td>\n",
       "      <td>0.4</td>\n",
       "      <td>2.1</td>\n",
       "      <td>2.4</td>\n",
       "      <td>1.7</td>\n",
       "      <td>0.04</td>\n",
       "      <td>1.6</td>\n",
       "      <td>1.6</td>\n",
       "      <td>0.9</td>\n",
       "      <td>23.3</td>\n",
       "    </tr>\n",
       "    <tr>\n",
       "      <th>1</th>\n",
       "      <td>47</td>\n",
       "      <td>1</td>\n",
       "      <td>0</td>\n",
       "      <td>485.946720</td>\n",
       "      <td>145.54028</td>\n",
       "      <td>506.476500</td>\n",
       "      <td>166.66888</td>\n",
       "      <td>496.211610</td>\n",
       "      <td>156.104580</td>\n",
       "      <td>0.2</td>\n",
       "      <td>...</td>\n",
       "      <td>0.4</td>\n",
       "      <td>0.4</td>\n",
       "      <td>2.1</td>\n",
       "      <td>2.4</td>\n",
       "      <td>1.7</td>\n",
       "      <td>0.04</td>\n",
       "      <td>1.6</td>\n",
       "      <td>1.6</td>\n",
       "      <td>0.9</td>\n",
       "      <td>23.3</td>\n",
       "    </tr>\n",
       "    <tr>\n",
       "      <th>2</th>\n",
       "      <td>47</td>\n",
       "      <td>2</td>\n",
       "      <td>0</td>\n",
       "      <td>28.142849</td>\n",
       "      <td>251.52478</td>\n",
       "      <td>49.713924</td>\n",
       "      <td>272.92157</td>\n",
       "      <td>38.928387</td>\n",
       "      <td>262.223175</td>\n",
       "      <td>0.2</td>\n",
       "      <td>...</td>\n",
       "      <td>0.4</td>\n",
       "      <td>0.4</td>\n",
       "      <td>2.1</td>\n",
       "      <td>2.4</td>\n",
       "      <td>1.7</td>\n",
       "      <td>0.04</td>\n",
       "      <td>1.6</td>\n",
       "      <td>1.6</td>\n",
       "      <td>0.9</td>\n",
       "      <td>23.3</td>\n",
       "    </tr>\n",
       "    <tr>\n",
       "      <th>3</th>\n",
       "      <td>47</td>\n",
       "      <td>3</td>\n",
       "      <td>0</td>\n",
       "      <td>103.487030</td>\n",
       "      <td>363.43286</td>\n",
       "      <td>124.152920</td>\n",
       "      <td>384.81067</td>\n",
       "      <td>113.819975</td>\n",
       "      <td>374.121765</td>\n",
       "      <td>0.2</td>\n",
       "      <td>...</td>\n",
       "      <td>0.4</td>\n",
       "      <td>0.4</td>\n",
       "      <td>2.1</td>\n",
       "      <td>2.4</td>\n",
       "      <td>1.7</td>\n",
       "      <td>0.04</td>\n",
       "      <td>1.6</td>\n",
       "      <td>1.6</td>\n",
       "      <td>0.9</td>\n",
       "      <td>23.3</td>\n",
       "    </tr>\n",
       "    <tr>\n",
       "      <th>4</th>\n",
       "      <td>47</td>\n",
       "      <td>4</td>\n",
       "      <td>0</td>\n",
       "      <td>81.397095</td>\n",
       "      <td>360.03580</td>\n",
       "      <td>98.433260</td>\n",
       "      <td>378.95908</td>\n",
       "      <td>89.915177</td>\n",
       "      <td>369.497440</td>\n",
       "      <td>0.2</td>\n",
       "      <td>...</td>\n",
       "      <td>0.4</td>\n",
       "      <td>0.4</td>\n",
       "      <td>2.1</td>\n",
       "      <td>2.4</td>\n",
       "      <td>1.7</td>\n",
       "      <td>0.04</td>\n",
       "      <td>1.6</td>\n",
       "      <td>1.6</td>\n",
       "      <td>0.9</td>\n",
       "      <td>23.3</td>\n",
       "    </tr>\n",
       "  </tbody>\n",
       "</table>\n",
       "<p>5 rows × 73 columns</p>\n",
       "</div>"
      ],
      "text/plain": [
       "   ID  tracker_id  class_id       x_min      y_min       x_max      y_max  \\\n",
       "0  47           0         0    4.348797  118.51424   22.273115  138.62523   \n",
       "1  47           1         0  485.946720  145.54028  506.476500  166.66888   \n",
       "2  47           2         0   28.142849  251.52478   49.713924  272.92157   \n",
       "3  47           3         0  103.487030  363.43286  124.152920  384.81067   \n",
       "4  47           4         0   81.397095  360.03580   98.433260  378.95908   \n",
       "\n",
       "     x_center    y_center  Serum C14:0  ...  Sperm C20:1 n-9  Sperm C20:2 n-6  \\\n",
       "0   13.310956  128.569735          0.2  ...              0.4              0.4   \n",
       "1  496.211610  156.104580          0.2  ...              0.4              0.4   \n",
       "2   38.928387  262.223175          0.2  ...              0.4              0.4   \n",
       "3  113.819975  374.121765          0.2  ...              0.4              0.4   \n",
       "4   89.915177  369.497440          0.2  ...              0.4              0.4   \n",
       "\n",
       "   Sperm C22:0  Sperm C20:3 n-6  Sperm C20:4 n-6 & C22:1 n-9  Sperm C20:5 n-3  \\\n",
       "0          2.1              2.4                          1.7             0.04   \n",
       "1          2.1              2.4                          1.7             0.04   \n",
       "2          2.1              2.4                          1.7             0.04   \n",
       "3          2.1              2.4                          1.7             0.04   \n",
       "4          2.1              2.4                          1.7             0.04   \n",
       "\n",
       "   Sperm C24:0  Sperm C24:1 n-9  Sperm C22:5 n-3  Sperm C22:6 n-3  \n",
       "0          1.6              1.6              0.9             23.3  \n",
       "1          1.6              1.6              0.9             23.3  \n",
       "2          1.6              1.6              0.9             23.3  \n",
       "3          1.6              1.6              0.9             23.3  \n",
       "4          1.6              1.6              0.9             23.3  \n",
       "\n",
       "[5 rows x 73 columns]"
      ]
     },
     "execution_count": 189,
     "metadata": {},
     "output_type": "execute_result"
    }
   ],
   "source": [
    "data = pd.read_parquet(file_path_data)\n",
    "data.head()"
   ]
  },
  {
   "cell_type": "code",
   "execution_count": 190,
   "metadata": {},
   "outputs": [],
   "source": [
    "data[\"ID\"] = data[\"ID\"].astype(int)"
   ]
  },
  {
   "cell_type": "code",
   "execution_count": 191,
   "metadata": {},
   "outputs": [],
   "source": [
    "data_tracker = data[[\"ID\"] + tracker_columns].copy()\n",
    "data_horm = data.drop(tracker_columns, axis=1).drop_duplicates().copy()"
   ]
  },
  {
   "cell_type": "markdown",
   "metadata": {},
   "source": [
    "# PCA"
   ]
  },
  {
   "cell_type": "markdown",
   "metadata": {},
   "source": [
    "## 1) Hormonios"
   ]
  },
  {
   "cell_type": "code",
   "execution_count": 192,
   "metadata": {},
   "outputs": [],
   "source": [
    "pca = PCA(n_components=2)\n",
    "X_pca = pd.DataFrame(\n",
    "    pca.fit_transform(data_horm.drop(\"ID\", axis=1)),\n",
    "    columns=['PCA1', 'PCA2']\n",
    ")\n",
    "\n",
    "loadings = pd.DataFrame(\n",
    "    pca.components_.T,\n",
    "    columns=['PCA1', 'PCA2'],\n",
    "    index=data_horm.drop(\"ID\", axis=1).columns\n",
    ").sort_values([\"PCA1\", \"PCA2\"], ascending=False)\n"
   ]
  },
  {
   "cell_type": "code",
   "execution_count": 193,
   "metadata": {},
   "outputs": [
    {
     "data": {
      "text/plain": [
       "('Total sperm count', 'Seminal AMH')"
      ]
     },
     "execution_count": 193,
     "metadata": {},
     "output_type": "execute_result"
    }
   ],
   "source": [
    "# Encontra a variável com o valor máximo em cada coluna\n",
    "max_pc1_variable = loadings.loc[loadings['PCA1'].idxmax()].name\n",
    "max_pc2_variable = loadings.loc[loadings['PCA2'].idxmax()].name\n",
    "\n",
    "max_pc1_variable, max_pc2_variable"
   ]
  },
  {
   "cell_type": "code",
   "execution_count": 194,
   "metadata": {},
   "outputs": [
    {
     "data": {
      "text/html": [
       "<div>\n",
       "<style scoped>\n",
       "    .dataframe tbody tr th:only-of-type {\n",
       "        vertical-align: middle;\n",
       "    }\n",
       "\n",
       "    .dataframe tbody tr th {\n",
       "        vertical-align: top;\n",
       "    }\n",
       "\n",
       "    .dataframe thead th {\n",
       "        text-align: right;\n",
       "    }\n",
       "</style>\n",
       "<table border=\"1\" class=\"dataframe\">\n",
       "  <thead>\n",
       "    <tr style=\"text-align: right;\">\n",
       "      <th></th>\n",
       "      <th>ID</th>\n",
       "      <th>Serum C14:0</th>\n",
       "      <th>Serum C16:0</th>\n",
       "      <th>Serum C16:1</th>\n",
       "      <th>Serum C18:0</th>\n",
       "      <th>Serum C18:1 n-9</th>\n",
       "      <th>Serum total C18:1</th>\n",
       "      <th>Serum C18:2 n-6</th>\n",
       "      <th>Serum C18:3 n-6</th>\n",
       "      <th>Serum C20:1 n-9</th>\n",
       "      <th>...</th>\n",
       "      <th>Sperm C20:1 n-9</th>\n",
       "      <th>Sperm C20:2 n-6</th>\n",
       "      <th>Sperm C22:0</th>\n",
       "      <th>Sperm C20:3 n-6</th>\n",
       "      <th>Sperm C20:4 n-6 &amp; C22:1 n-9</th>\n",
       "      <th>Sperm C20:5 n-3</th>\n",
       "      <th>Sperm C24:0</th>\n",
       "      <th>Sperm C24:1 n-9</th>\n",
       "      <th>Sperm C22:5 n-3</th>\n",
       "      <th>Sperm C22:6 n-3</th>\n",
       "    </tr>\n",
       "  </thead>\n",
       "  <tbody>\n",
       "    <tr>\n",
       "      <th>0</th>\n",
       "      <td>47</td>\n",
       "      <td>0.20</td>\n",
       "      <td>30.84</td>\n",
       "      <td>0.62</td>\n",
       "      <td>13.85</td>\n",
       "      <td>8.59</td>\n",
       "      <td>10.41</td>\n",
       "      <td>20.13</td>\n",
       "      <td>0.12</td>\n",
       "      <td>0.12</td>\n",
       "      <td>...</td>\n",
       "      <td>0.4</td>\n",
       "      <td>0.4</td>\n",
       "      <td>2.1</td>\n",
       "      <td>2.4</td>\n",
       "      <td>1.7</td>\n",
       "      <td>0.04</td>\n",
       "      <td>1.6</td>\n",
       "      <td>1.6</td>\n",
       "      <td>0.9</td>\n",
       "      <td>23.3</td>\n",
       "    </tr>\n",
       "    <tr>\n",
       "      <th>13821</th>\n",
       "      <td>12</td>\n",
       "      <td>0.17</td>\n",
       "      <td>29.77</td>\n",
       "      <td>0.45</td>\n",
       "      <td>13.99</td>\n",
       "      <td>6.66</td>\n",
       "      <td>8.23</td>\n",
       "      <td>18.50</td>\n",
       "      <td>0.15</td>\n",
       "      <td>0.18</td>\n",
       "      <td>...</td>\n",
       "      <td>0.4</td>\n",
       "      <td>0.5</td>\n",
       "      <td>1.6</td>\n",
       "      <td>1.8</td>\n",
       "      <td>2.4</td>\n",
       "      <td>0.08</td>\n",
       "      <td>0.9</td>\n",
       "      <td>1.4</td>\n",
       "      <td>2.0</td>\n",
       "      <td>25.0</td>\n",
       "    </tr>\n",
       "    <tr>\n",
       "      <th>60564</th>\n",
       "      <td>21</td>\n",
       "      <td>0.20</td>\n",
       "      <td>27.26</td>\n",
       "      <td>0.47</td>\n",
       "      <td>16.65</td>\n",
       "      <td>8.41</td>\n",
       "      <td>10.00</td>\n",
       "      <td>27.12</td>\n",
       "      <td>0.15</td>\n",
       "      <td>0.15</td>\n",
       "      <td>...</td>\n",
       "      <td>0.4</td>\n",
       "      <td>0.5</td>\n",
       "      <td>1.2</td>\n",
       "      <td>3.2</td>\n",
       "      <td>2.5</td>\n",
       "      <td>0.06</td>\n",
       "      <td>1.5</td>\n",
       "      <td>2.3</td>\n",
       "      <td>0.9</td>\n",
       "      <td>17.4</td>\n",
       "    </tr>\n",
       "    <tr>\n",
       "      <th>92918</th>\n",
       "      <td>82</td>\n",
       "      <td>0.24</td>\n",
       "      <td>26.62</td>\n",
       "      <td>0.26</td>\n",
       "      <td>15.03</td>\n",
       "      <td>8.24</td>\n",
       "      <td>10.62</td>\n",
       "      <td>27.21</td>\n",
       "      <td>0.23</td>\n",
       "      <td>0.31</td>\n",
       "      <td>...</td>\n",
       "      <td>0.5</td>\n",
       "      <td>1.3</td>\n",
       "      <td>3.0</td>\n",
       "      <td>2.1</td>\n",
       "      <td>1.9</td>\n",
       "      <td>0.04</td>\n",
       "      <td>0.7</td>\n",
       "      <td>1.1</td>\n",
       "      <td>1.3</td>\n",
       "      <td>23.6</td>\n",
       "    </tr>\n",
       "    <tr>\n",
       "      <th>133848</th>\n",
       "      <td>35</td>\n",
       "      <td>0.24</td>\n",
       "      <td>29.94</td>\n",
       "      <td>0.56</td>\n",
       "      <td>14.17</td>\n",
       "      <td>9.43</td>\n",
       "      <td>11.26</td>\n",
       "      <td>19.10</td>\n",
       "      <td>0.14</td>\n",
       "      <td>0.14</td>\n",
       "      <td>...</td>\n",
       "      <td>0.3</td>\n",
       "      <td>1.0</td>\n",
       "      <td>0.7</td>\n",
       "      <td>3.5</td>\n",
       "      <td>2.3</td>\n",
       "      <td>0.06</td>\n",
       "      <td>0.8</td>\n",
       "      <td>1.1</td>\n",
       "      <td>1.6</td>\n",
       "      <td>25.4</td>\n",
       "    </tr>\n",
       "    <tr>\n",
       "      <th>203001</th>\n",
       "      <td>38</td>\n",
       "      <td>0.34</td>\n",
       "      <td>27.48</td>\n",
       "      <td>0.88</td>\n",
       "      <td>17.33</td>\n",
       "      <td>13.60</td>\n",
       "      <td>15.00</td>\n",
       "      <td>18.99</td>\n",
       "      <td>0.42</td>\n",
       "      <td>0.12</td>\n",
       "      <td>...</td>\n",
       "      <td>0.3</td>\n",
       "      <td>0.6</td>\n",
       "      <td>1.5</td>\n",
       "      <td>3.3</td>\n",
       "      <td>2.4</td>\n",
       "      <td>0.08</td>\n",
       "      <td>1.6</td>\n",
       "      <td>1.7</td>\n",
       "      <td>1.6</td>\n",
       "      <td>22.4</td>\n",
       "    </tr>\n",
       "    <tr>\n",
       "      <th>215566</th>\n",
       "      <td>54</td>\n",
       "      <td>0.27</td>\n",
       "      <td>28.42</td>\n",
       "      <td>0.67</td>\n",
       "      <td>15.97</td>\n",
       "      <td>11.47</td>\n",
       "      <td>13.07</td>\n",
       "      <td>22.40</td>\n",
       "      <td>0.13</td>\n",
       "      <td>0.11</td>\n",
       "      <td>...</td>\n",
       "      <td>0.3</td>\n",
       "      <td>0.4</td>\n",
       "      <td>1.6</td>\n",
       "      <td>4.2</td>\n",
       "      <td>2.6</td>\n",
       "      <td>0.39</td>\n",
       "      <td>1.5</td>\n",
       "      <td>1.3</td>\n",
       "      <td>1.3</td>\n",
       "      <td>20.5</td>\n",
       "    </tr>\n",
       "    <tr>\n",
       "      <th>267903</th>\n",
       "      <td>15</td>\n",
       "      <td>0.26</td>\n",
       "      <td>28.94</td>\n",
       "      <td>0.41</td>\n",
       "      <td>14.79</td>\n",
       "      <td>11.45</td>\n",
       "      <td>13.47</td>\n",
       "      <td>18.84</td>\n",
       "      <td>0.20</td>\n",
       "      <td>0.11</td>\n",
       "      <td>...</td>\n",
       "      <td>0.7</td>\n",
       "      <td>0.6</td>\n",
       "      <td>2.3</td>\n",
       "      <td>1.7</td>\n",
       "      <td>2.1</td>\n",
       "      <td>0.06</td>\n",
       "      <td>1.9</td>\n",
       "      <td>1.8</td>\n",
       "      <td>1.0</td>\n",
       "      <td>16.0</td>\n",
       "    </tr>\n",
       "    <tr>\n",
       "      <th>289395</th>\n",
       "      <td>19</td>\n",
       "      <td>0.12</td>\n",
       "      <td>32.15</td>\n",
       "      <td>0.33</td>\n",
       "      <td>12.09</td>\n",
       "      <td>6.95</td>\n",
       "      <td>8.91</td>\n",
       "      <td>20.81</td>\n",
       "      <td>0.13</td>\n",
       "      <td>0.15</td>\n",
       "      <td>...</td>\n",
       "      <td>0.7</td>\n",
       "      <td>0.6</td>\n",
       "      <td>1.8</td>\n",
       "      <td>2.2</td>\n",
       "      <td>6.3</td>\n",
       "      <td>0.66</td>\n",
       "      <td>2.6</td>\n",
       "      <td>5.1</td>\n",
       "      <td>1.5</td>\n",
       "      <td>7.3</td>\n",
       "    </tr>\n",
       "    <tr>\n",
       "      <th>324986</th>\n",
       "      <td>36</td>\n",
       "      <td>0.26</td>\n",
       "      <td>28.09</td>\n",
       "      <td>0.36</td>\n",
       "      <td>15.76</td>\n",
       "      <td>7.68</td>\n",
       "      <td>9.70</td>\n",
       "      <td>20.79</td>\n",
       "      <td>0.16</td>\n",
       "      <td>0.15</td>\n",
       "      <td>...</td>\n",
       "      <td>0.5</td>\n",
       "      <td>0.4</td>\n",
       "      <td>2.0</td>\n",
       "      <td>1.8</td>\n",
       "      <td>2.6</td>\n",
       "      <td>0.26</td>\n",
       "      <td>1.8</td>\n",
       "      <td>2.1</td>\n",
       "      <td>0.9</td>\n",
       "      <td>13.9</td>\n",
       "    </tr>\n",
       "    <tr>\n",
       "      <th>378105</th>\n",
       "      <td>52</td>\n",
       "      <td>0.29</td>\n",
       "      <td>29.13</td>\n",
       "      <td>0.42</td>\n",
       "      <td>16.69</td>\n",
       "      <td>8.61</td>\n",
       "      <td>10.12</td>\n",
       "      <td>19.82</td>\n",
       "      <td>0.16</td>\n",
       "      <td>0.12</td>\n",
       "      <td>...</td>\n",
       "      <td>0.6</td>\n",
       "      <td>0.3</td>\n",
       "      <td>1.7</td>\n",
       "      <td>0.9</td>\n",
       "      <td>1.6</td>\n",
       "      <td>0.14</td>\n",
       "      <td>3.9</td>\n",
       "      <td>1.7</td>\n",
       "      <td>0.6</td>\n",
       "      <td>4.2</td>\n",
       "    </tr>\n",
       "    <tr>\n",
       "      <th>394197</th>\n",
       "      <td>11</td>\n",
       "      <td>0.26</td>\n",
       "      <td>29.64</td>\n",
       "      <td>0.37</td>\n",
       "      <td>14.92</td>\n",
       "      <td>7.43</td>\n",
       "      <td>9.02</td>\n",
       "      <td>23.22</td>\n",
       "      <td>0.14</td>\n",
       "      <td>0.19</td>\n",
       "      <td>...</td>\n",
       "      <td>0.5</td>\n",
       "      <td>0.6</td>\n",
       "      <td>1.2</td>\n",
       "      <td>1.7</td>\n",
       "      <td>1.6</td>\n",
       "      <td>0.02</td>\n",
       "      <td>1.0</td>\n",
       "      <td>1.2</td>\n",
       "      <td>0.9</td>\n",
       "      <td>18.6</td>\n",
       "    </tr>\n",
       "    <tr>\n",
       "      <th>485141</th>\n",
       "      <td>23</td>\n",
       "      <td>0.19</td>\n",
       "      <td>29.36</td>\n",
       "      <td>0.41</td>\n",
       "      <td>15.47</td>\n",
       "      <td>7.74</td>\n",
       "      <td>9.68</td>\n",
       "      <td>23.24</td>\n",
       "      <td>0.13</td>\n",
       "      <td>0.13</td>\n",
       "      <td>...</td>\n",
       "      <td>1.0</td>\n",
       "      <td>0.5</td>\n",
       "      <td>2.1</td>\n",
       "      <td>1.0</td>\n",
       "      <td>1.0</td>\n",
       "      <td>0.21</td>\n",
       "      <td>8.5</td>\n",
       "      <td>1.5</td>\n",
       "      <td>0.4</td>\n",
       "      <td>5.3</td>\n",
       "    </tr>\n",
       "    <tr>\n",
       "      <th>495255</th>\n",
       "      <td>13</td>\n",
       "      <td>0.20</td>\n",
       "      <td>29.22</td>\n",
       "      <td>0.48</td>\n",
       "      <td>15.34</td>\n",
       "      <td>8.32</td>\n",
       "      <td>9.90</td>\n",
       "      <td>20.98</td>\n",
       "      <td>0.29</td>\n",
       "      <td>0.13</td>\n",
       "      <td>...</td>\n",
       "      <td>0.5</td>\n",
       "      <td>0.4</td>\n",
       "      <td>1.4</td>\n",
       "      <td>1.9</td>\n",
       "      <td>2.0</td>\n",
       "      <td>0.07</td>\n",
       "      <td>1.2</td>\n",
       "      <td>1.3</td>\n",
       "      <td>0.8</td>\n",
       "      <td>16.1</td>\n",
       "    </tr>\n",
       "    <tr>\n",
       "      <th>572636</th>\n",
       "      <td>60</td>\n",
       "      <td>0.27</td>\n",
       "      <td>32.23</td>\n",
       "      <td>0.69</td>\n",
       "      <td>12.35</td>\n",
       "      <td>11.80</td>\n",
       "      <td>13.89</td>\n",
       "      <td>20.33</td>\n",
       "      <td>0.18</td>\n",
       "      <td>0.16</td>\n",
       "      <td>...</td>\n",
       "      <td>0.4</td>\n",
       "      <td>0.7</td>\n",
       "      <td>2.0</td>\n",
       "      <td>2.5</td>\n",
       "      <td>2.9</td>\n",
       "      <td>0.09</td>\n",
       "      <td>1.7</td>\n",
       "      <td>1.7</td>\n",
       "      <td>1.0</td>\n",
       "      <td>20.1</td>\n",
       "    </tr>\n",
       "    <tr>\n",
       "      <th>591679</th>\n",
       "      <td>24</td>\n",
       "      <td>0.27</td>\n",
       "      <td>29.15</td>\n",
       "      <td>0.40</td>\n",
       "      <td>16.48</td>\n",
       "      <td>7.82</td>\n",
       "      <td>9.17</td>\n",
       "      <td>23.33</td>\n",
       "      <td>0.27</td>\n",
       "      <td>0.11</td>\n",
       "      <td>...</td>\n",
       "      <td>0.3</td>\n",
       "      <td>0.5</td>\n",
       "      <td>2.0</td>\n",
       "      <td>1.6</td>\n",
       "      <td>2.5</td>\n",
       "      <td>0.07</td>\n",
       "      <td>1.2</td>\n",
       "      <td>1.7</td>\n",
       "      <td>1.0</td>\n",
       "      <td>24.9</td>\n",
       "    </tr>\n",
       "    <tr>\n",
       "      <th>683988</th>\n",
       "      <td>30</td>\n",
       "      <td>0.25</td>\n",
       "      <td>27.58</td>\n",
       "      <td>0.40</td>\n",
       "      <td>15.96</td>\n",
       "      <td>8.36</td>\n",
       "      <td>10.28</td>\n",
       "      <td>27.96</td>\n",
       "      <td>0.28</td>\n",
       "      <td>0.14</td>\n",
       "      <td>...</td>\n",
       "      <td>0.3</td>\n",
       "      <td>0.6</td>\n",
       "      <td>1.9</td>\n",
       "      <td>2.9</td>\n",
       "      <td>2.7</td>\n",
       "      <td>0.05</td>\n",
       "      <td>1.2</td>\n",
       "      <td>1.7</td>\n",
       "      <td>0.7</td>\n",
       "      <td>25.0</td>\n",
       "    </tr>\n",
       "    <tr>\n",
       "      <th>705186</th>\n",
       "      <td>29</td>\n",
       "      <td>0.36</td>\n",
       "      <td>29.49</td>\n",
       "      <td>0.33</td>\n",
       "      <td>14.35</td>\n",
       "      <td>7.44</td>\n",
       "      <td>9.09</td>\n",
       "      <td>25.62</td>\n",
       "      <td>0.21</td>\n",
       "      <td>0.17</td>\n",
       "      <td>...</td>\n",
       "      <td>0.5</td>\n",
       "      <td>0.6</td>\n",
       "      <td>2.1</td>\n",
       "      <td>1.9</td>\n",
       "      <td>1.0</td>\n",
       "      <td>0.02</td>\n",
       "      <td>3.0</td>\n",
       "      <td>1.0</td>\n",
       "      <td>1.2</td>\n",
       "      <td>10.5</td>\n",
       "    </tr>\n",
       "    <tr>\n",
       "      <th>709403</th>\n",
       "      <td>14</td>\n",
       "      <td>0.31</td>\n",
       "      <td>28.76</td>\n",
       "      <td>0.49</td>\n",
       "      <td>17.03</td>\n",
       "      <td>7.73</td>\n",
       "      <td>9.37</td>\n",
       "      <td>22.50</td>\n",
       "      <td>0.20</td>\n",
       "      <td>0.09</td>\n",
       "      <td>...</td>\n",
       "      <td>0.8</td>\n",
       "      <td>0.4</td>\n",
       "      <td>2.2</td>\n",
       "      <td>1.0</td>\n",
       "      <td>4.2</td>\n",
       "      <td>0.31</td>\n",
       "      <td>2.9</td>\n",
       "      <td>3.8</td>\n",
       "      <td>0.8</td>\n",
       "      <td>3.6</td>\n",
       "    </tr>\n",
       "    <tr>\n",
       "      <th>719935</th>\n",
       "      <td>22</td>\n",
       "      <td>0.35</td>\n",
       "      <td>29.04</td>\n",
       "      <td>0.53</td>\n",
       "      <td>14.67</td>\n",
       "      <td>9.76</td>\n",
       "      <td>11.91</td>\n",
       "      <td>21.86</td>\n",
       "      <td>0.34</td>\n",
       "      <td>0.14</td>\n",
       "      <td>...</td>\n",
       "      <td>0.8</td>\n",
       "      <td>0.5</td>\n",
       "      <td>1.2</td>\n",
       "      <td>1.3</td>\n",
       "      <td>5.8</td>\n",
       "      <td>0.12</td>\n",
       "      <td>1.4</td>\n",
       "      <td>3.6</td>\n",
       "      <td>0.8</td>\n",
       "      <td>4.6</td>\n",
       "    </tr>\n",
       "  </tbody>\n",
       "</table>\n",
       "<p>20 rows × 65 columns</p>\n",
       "</div>"
      ],
      "text/plain": [
       "        ID  Serum C14:0  Serum C16:0  Serum C16:1  Serum C18:0  \\\n",
       "0       47         0.20        30.84         0.62        13.85   \n",
       "13821   12         0.17        29.77         0.45        13.99   \n",
       "60564   21         0.20        27.26         0.47        16.65   \n",
       "92918   82         0.24        26.62         0.26        15.03   \n",
       "133848  35         0.24        29.94         0.56        14.17   \n",
       "203001  38         0.34        27.48         0.88        17.33   \n",
       "215566  54         0.27        28.42         0.67        15.97   \n",
       "267903  15         0.26        28.94         0.41        14.79   \n",
       "289395  19         0.12        32.15         0.33        12.09   \n",
       "324986  36         0.26        28.09         0.36        15.76   \n",
       "378105  52         0.29        29.13         0.42        16.69   \n",
       "394197  11         0.26        29.64         0.37        14.92   \n",
       "485141  23         0.19        29.36         0.41        15.47   \n",
       "495255  13         0.20        29.22         0.48        15.34   \n",
       "572636  60         0.27        32.23         0.69        12.35   \n",
       "591679  24         0.27        29.15         0.40        16.48   \n",
       "683988  30         0.25        27.58         0.40        15.96   \n",
       "705186  29         0.36        29.49         0.33        14.35   \n",
       "709403  14         0.31        28.76         0.49        17.03   \n",
       "719935  22         0.35        29.04         0.53        14.67   \n",
       "\n",
       "        Serum C18:1 n-9  Serum total C18:1  Serum C18:2 n-6  Serum C18:3 n-6  \\\n",
       "0                  8.59              10.41            20.13             0.12   \n",
       "13821              6.66               8.23            18.50             0.15   \n",
       "60564              8.41              10.00            27.12             0.15   \n",
       "92918              8.24              10.62            27.21             0.23   \n",
       "133848             9.43              11.26            19.10             0.14   \n",
       "203001            13.60              15.00            18.99             0.42   \n",
       "215566            11.47              13.07            22.40             0.13   \n",
       "267903            11.45              13.47            18.84             0.20   \n",
       "289395             6.95               8.91            20.81             0.13   \n",
       "324986             7.68               9.70            20.79             0.16   \n",
       "378105             8.61              10.12            19.82             0.16   \n",
       "394197             7.43               9.02            23.22             0.14   \n",
       "485141             7.74               9.68            23.24             0.13   \n",
       "495255             8.32               9.90            20.98             0.29   \n",
       "572636            11.80              13.89            20.33             0.18   \n",
       "591679             7.82               9.17            23.33             0.27   \n",
       "683988             8.36              10.28            27.96             0.28   \n",
       "705186             7.44               9.09            25.62             0.21   \n",
       "709403             7.73               9.37            22.50             0.20   \n",
       "719935             9.76              11.91            21.86             0.34   \n",
       "\n",
       "        Serum C20:1 n-9  ...  Sperm C20:1 n-9  Sperm C20:2 n-6  Sperm C22:0  \\\n",
       "0                  0.12  ...              0.4              0.4          2.1   \n",
       "13821              0.18  ...              0.4              0.5          1.6   \n",
       "60564              0.15  ...              0.4              0.5          1.2   \n",
       "92918              0.31  ...              0.5              1.3          3.0   \n",
       "133848             0.14  ...              0.3              1.0          0.7   \n",
       "203001             0.12  ...              0.3              0.6          1.5   \n",
       "215566             0.11  ...              0.3              0.4          1.6   \n",
       "267903             0.11  ...              0.7              0.6          2.3   \n",
       "289395             0.15  ...              0.7              0.6          1.8   \n",
       "324986             0.15  ...              0.5              0.4          2.0   \n",
       "378105             0.12  ...              0.6              0.3          1.7   \n",
       "394197             0.19  ...              0.5              0.6          1.2   \n",
       "485141             0.13  ...              1.0              0.5          2.1   \n",
       "495255             0.13  ...              0.5              0.4          1.4   \n",
       "572636             0.16  ...              0.4              0.7          2.0   \n",
       "591679             0.11  ...              0.3              0.5          2.0   \n",
       "683988             0.14  ...              0.3              0.6          1.9   \n",
       "705186             0.17  ...              0.5              0.6          2.1   \n",
       "709403             0.09  ...              0.8              0.4          2.2   \n",
       "719935             0.14  ...              0.8              0.5          1.2   \n",
       "\n",
       "        Sperm C20:3 n-6  Sperm C20:4 n-6 & C22:1 n-9  Sperm C20:5 n-3  \\\n",
       "0                   2.4                          1.7             0.04   \n",
       "13821               1.8                          2.4             0.08   \n",
       "60564               3.2                          2.5             0.06   \n",
       "92918               2.1                          1.9             0.04   \n",
       "133848              3.5                          2.3             0.06   \n",
       "203001              3.3                          2.4             0.08   \n",
       "215566              4.2                          2.6             0.39   \n",
       "267903              1.7                          2.1             0.06   \n",
       "289395              2.2                          6.3             0.66   \n",
       "324986              1.8                          2.6             0.26   \n",
       "378105              0.9                          1.6             0.14   \n",
       "394197              1.7                          1.6             0.02   \n",
       "485141              1.0                          1.0             0.21   \n",
       "495255              1.9                          2.0             0.07   \n",
       "572636              2.5                          2.9             0.09   \n",
       "591679              1.6                          2.5             0.07   \n",
       "683988              2.9                          2.7             0.05   \n",
       "705186              1.9                          1.0             0.02   \n",
       "709403              1.0                          4.2             0.31   \n",
       "719935              1.3                          5.8             0.12   \n",
       "\n",
       "        Sperm C24:0  Sperm C24:1 n-9  Sperm C22:5 n-3  Sperm C22:6 n-3  \n",
       "0               1.6              1.6              0.9             23.3  \n",
       "13821           0.9              1.4              2.0             25.0  \n",
       "60564           1.5              2.3              0.9             17.4  \n",
       "92918           0.7              1.1              1.3             23.6  \n",
       "133848          0.8              1.1              1.6             25.4  \n",
       "203001          1.6              1.7              1.6             22.4  \n",
       "215566          1.5              1.3              1.3             20.5  \n",
       "267903          1.9              1.8              1.0             16.0  \n",
       "289395          2.6              5.1              1.5              7.3  \n",
       "324986          1.8              2.1              0.9             13.9  \n",
       "378105          3.9              1.7              0.6              4.2  \n",
       "394197          1.0              1.2              0.9             18.6  \n",
       "485141          8.5              1.5              0.4              5.3  \n",
       "495255          1.2              1.3              0.8             16.1  \n",
       "572636          1.7              1.7              1.0             20.1  \n",
       "591679          1.2              1.7              1.0             24.9  \n",
       "683988          1.2              1.7              0.7             25.0  \n",
       "705186          3.0              1.0              1.2             10.5  \n",
       "709403          2.9              3.8              0.8              3.6  \n",
       "719935          1.4              3.6              0.8              4.6  \n",
       "\n",
       "[20 rows x 65 columns]"
      ]
     },
     "execution_count": 194,
     "metadata": {},
     "output_type": "execute_result"
    }
   ],
   "source": [
    "data_horm"
   ]
  },
  {
   "cell_type": "code",
   "execution_count": 195,
   "metadata": {},
   "outputs": [
    {
     "data": {
      "text/html": [
       "<div>\n",
       "<style scoped>\n",
       "    .dataframe tbody tr th:only-of-type {\n",
       "        vertical-align: middle;\n",
       "    }\n",
       "\n",
       "    .dataframe tbody tr th {\n",
       "        vertical-align: top;\n",
       "    }\n",
       "\n",
       "    .dataframe thead th {\n",
       "        text-align: right;\n",
       "    }\n",
       "</style>\n",
       "<table border=\"1\" class=\"dataframe\">\n",
       "  <thead>\n",
       "    <tr style=\"text-align: right;\">\n",
       "      <th></th>\n",
       "      <th>ID</th>\n",
       "      <th>Serum C14:0</th>\n",
       "      <th>Serum C16:0</th>\n",
       "      <th>Serum C16:1</th>\n",
       "      <th>Serum C18:0</th>\n",
       "      <th>Serum C18:1 n-9</th>\n",
       "      <th>Serum total C18:1</th>\n",
       "      <th>Serum C18:2 n-6</th>\n",
       "      <th>Serum C18:3 n-6</th>\n",
       "      <th>Serum C20:1 n-9</th>\n",
       "      <th>...</th>\n",
       "      <th>Sperm C20:1 n-9</th>\n",
       "      <th>Sperm C20:2 n-6</th>\n",
       "      <th>Sperm C22:0</th>\n",
       "      <th>Sperm C20:3 n-6</th>\n",
       "      <th>Sperm C20:4 n-6 &amp; C22:1 n-9</th>\n",
       "      <th>Sperm C20:5 n-3</th>\n",
       "      <th>Sperm C24:0</th>\n",
       "      <th>Sperm C24:1 n-9</th>\n",
       "      <th>Sperm C22:5 n-3</th>\n",
       "      <th>Sperm C22:6 n-3</th>\n",
       "    </tr>\n",
       "  </thead>\n",
       "  <tbody>\n",
       "    <tr>\n",
       "      <th>0</th>\n",
       "      <td>47</td>\n",
       "      <td>0.20</td>\n",
       "      <td>30.84</td>\n",
       "      <td>0.62</td>\n",
       "      <td>13.85</td>\n",
       "      <td>8.59</td>\n",
       "      <td>10.41</td>\n",
       "      <td>20.13</td>\n",
       "      <td>0.12</td>\n",
       "      <td>0.12</td>\n",
       "      <td>...</td>\n",
       "      <td>0.4</td>\n",
       "      <td>0.4</td>\n",
       "      <td>2.1</td>\n",
       "      <td>2.4</td>\n",
       "      <td>1.7</td>\n",
       "      <td>0.04</td>\n",
       "      <td>1.6</td>\n",
       "      <td>1.6</td>\n",
       "      <td>0.9</td>\n",
       "      <td>23.3</td>\n",
       "    </tr>\n",
       "    <tr>\n",
       "      <th>13821</th>\n",
       "      <td>12</td>\n",
       "      <td>0.17</td>\n",
       "      <td>29.77</td>\n",
       "      <td>0.45</td>\n",
       "      <td>13.99</td>\n",
       "      <td>6.66</td>\n",
       "      <td>8.23</td>\n",
       "      <td>18.50</td>\n",
       "      <td>0.15</td>\n",
       "      <td>0.18</td>\n",
       "      <td>...</td>\n",
       "      <td>0.4</td>\n",
       "      <td>0.5</td>\n",
       "      <td>1.6</td>\n",
       "      <td>1.8</td>\n",
       "      <td>2.4</td>\n",
       "      <td>0.08</td>\n",
       "      <td>0.9</td>\n",
       "      <td>1.4</td>\n",
       "      <td>2.0</td>\n",
       "      <td>25.0</td>\n",
       "    </tr>\n",
       "    <tr>\n",
       "      <th>60564</th>\n",
       "      <td>21</td>\n",
       "      <td>0.20</td>\n",
       "      <td>27.26</td>\n",
       "      <td>0.47</td>\n",
       "      <td>16.65</td>\n",
       "      <td>8.41</td>\n",
       "      <td>10.00</td>\n",
       "      <td>27.12</td>\n",
       "      <td>0.15</td>\n",
       "      <td>0.15</td>\n",
       "      <td>...</td>\n",
       "      <td>0.4</td>\n",
       "      <td>0.5</td>\n",
       "      <td>1.2</td>\n",
       "      <td>3.2</td>\n",
       "      <td>2.5</td>\n",
       "      <td>0.06</td>\n",
       "      <td>1.5</td>\n",
       "      <td>2.3</td>\n",
       "      <td>0.9</td>\n",
       "      <td>17.4</td>\n",
       "    </tr>\n",
       "    <tr>\n",
       "      <th>92918</th>\n",
       "      <td>82</td>\n",
       "      <td>0.24</td>\n",
       "      <td>26.62</td>\n",
       "      <td>0.26</td>\n",
       "      <td>15.03</td>\n",
       "      <td>8.24</td>\n",
       "      <td>10.62</td>\n",
       "      <td>27.21</td>\n",
       "      <td>0.23</td>\n",
       "      <td>0.31</td>\n",
       "      <td>...</td>\n",
       "      <td>0.5</td>\n",
       "      <td>1.3</td>\n",
       "      <td>3.0</td>\n",
       "      <td>2.1</td>\n",
       "      <td>1.9</td>\n",
       "      <td>0.04</td>\n",
       "      <td>0.7</td>\n",
       "      <td>1.1</td>\n",
       "      <td>1.3</td>\n",
       "      <td>23.6</td>\n",
       "    </tr>\n",
       "    <tr>\n",
       "      <th>133848</th>\n",
       "      <td>35</td>\n",
       "      <td>0.24</td>\n",
       "      <td>29.94</td>\n",
       "      <td>0.56</td>\n",
       "      <td>14.17</td>\n",
       "      <td>9.43</td>\n",
       "      <td>11.26</td>\n",
       "      <td>19.10</td>\n",
       "      <td>0.14</td>\n",
       "      <td>0.14</td>\n",
       "      <td>...</td>\n",
       "      <td>0.3</td>\n",
       "      <td>1.0</td>\n",
       "      <td>0.7</td>\n",
       "      <td>3.5</td>\n",
       "      <td>2.3</td>\n",
       "      <td>0.06</td>\n",
       "      <td>0.8</td>\n",
       "      <td>1.1</td>\n",
       "      <td>1.6</td>\n",
       "      <td>25.4</td>\n",
       "    </tr>\n",
       "    <tr>\n",
       "      <th>203001</th>\n",
       "      <td>38</td>\n",
       "      <td>0.34</td>\n",
       "      <td>27.48</td>\n",
       "      <td>0.88</td>\n",
       "      <td>17.33</td>\n",
       "      <td>13.60</td>\n",
       "      <td>15.00</td>\n",
       "      <td>18.99</td>\n",
       "      <td>0.42</td>\n",
       "      <td>0.12</td>\n",
       "      <td>...</td>\n",
       "      <td>0.3</td>\n",
       "      <td>0.6</td>\n",
       "      <td>1.5</td>\n",
       "      <td>3.3</td>\n",
       "      <td>2.4</td>\n",
       "      <td>0.08</td>\n",
       "      <td>1.6</td>\n",
       "      <td>1.7</td>\n",
       "      <td>1.6</td>\n",
       "      <td>22.4</td>\n",
       "    </tr>\n",
       "    <tr>\n",
       "      <th>215566</th>\n",
       "      <td>54</td>\n",
       "      <td>0.27</td>\n",
       "      <td>28.42</td>\n",
       "      <td>0.67</td>\n",
       "      <td>15.97</td>\n",
       "      <td>11.47</td>\n",
       "      <td>13.07</td>\n",
       "      <td>22.40</td>\n",
       "      <td>0.13</td>\n",
       "      <td>0.11</td>\n",
       "      <td>...</td>\n",
       "      <td>0.3</td>\n",
       "      <td>0.4</td>\n",
       "      <td>1.6</td>\n",
       "      <td>4.2</td>\n",
       "      <td>2.6</td>\n",
       "      <td>0.39</td>\n",
       "      <td>1.5</td>\n",
       "      <td>1.3</td>\n",
       "      <td>1.3</td>\n",
       "      <td>20.5</td>\n",
       "    </tr>\n",
       "    <tr>\n",
       "      <th>267903</th>\n",
       "      <td>15</td>\n",
       "      <td>0.26</td>\n",
       "      <td>28.94</td>\n",
       "      <td>0.41</td>\n",
       "      <td>14.79</td>\n",
       "      <td>11.45</td>\n",
       "      <td>13.47</td>\n",
       "      <td>18.84</td>\n",
       "      <td>0.20</td>\n",
       "      <td>0.11</td>\n",
       "      <td>...</td>\n",
       "      <td>0.7</td>\n",
       "      <td>0.6</td>\n",
       "      <td>2.3</td>\n",
       "      <td>1.7</td>\n",
       "      <td>2.1</td>\n",
       "      <td>0.06</td>\n",
       "      <td>1.9</td>\n",
       "      <td>1.8</td>\n",
       "      <td>1.0</td>\n",
       "      <td>16.0</td>\n",
       "    </tr>\n",
       "    <tr>\n",
       "      <th>289395</th>\n",
       "      <td>19</td>\n",
       "      <td>0.12</td>\n",
       "      <td>32.15</td>\n",
       "      <td>0.33</td>\n",
       "      <td>12.09</td>\n",
       "      <td>6.95</td>\n",
       "      <td>8.91</td>\n",
       "      <td>20.81</td>\n",
       "      <td>0.13</td>\n",
       "      <td>0.15</td>\n",
       "      <td>...</td>\n",
       "      <td>0.7</td>\n",
       "      <td>0.6</td>\n",
       "      <td>1.8</td>\n",
       "      <td>2.2</td>\n",
       "      <td>6.3</td>\n",
       "      <td>0.66</td>\n",
       "      <td>2.6</td>\n",
       "      <td>5.1</td>\n",
       "      <td>1.5</td>\n",
       "      <td>7.3</td>\n",
       "    </tr>\n",
       "    <tr>\n",
       "      <th>324986</th>\n",
       "      <td>36</td>\n",
       "      <td>0.26</td>\n",
       "      <td>28.09</td>\n",
       "      <td>0.36</td>\n",
       "      <td>15.76</td>\n",
       "      <td>7.68</td>\n",
       "      <td>9.70</td>\n",
       "      <td>20.79</td>\n",
       "      <td>0.16</td>\n",
       "      <td>0.15</td>\n",
       "      <td>...</td>\n",
       "      <td>0.5</td>\n",
       "      <td>0.4</td>\n",
       "      <td>2.0</td>\n",
       "      <td>1.8</td>\n",
       "      <td>2.6</td>\n",
       "      <td>0.26</td>\n",
       "      <td>1.8</td>\n",
       "      <td>2.1</td>\n",
       "      <td>0.9</td>\n",
       "      <td>13.9</td>\n",
       "    </tr>\n",
       "    <tr>\n",
       "      <th>378105</th>\n",
       "      <td>52</td>\n",
       "      <td>0.29</td>\n",
       "      <td>29.13</td>\n",
       "      <td>0.42</td>\n",
       "      <td>16.69</td>\n",
       "      <td>8.61</td>\n",
       "      <td>10.12</td>\n",
       "      <td>19.82</td>\n",
       "      <td>0.16</td>\n",
       "      <td>0.12</td>\n",
       "      <td>...</td>\n",
       "      <td>0.6</td>\n",
       "      <td>0.3</td>\n",
       "      <td>1.7</td>\n",
       "      <td>0.9</td>\n",
       "      <td>1.6</td>\n",
       "      <td>0.14</td>\n",
       "      <td>3.9</td>\n",
       "      <td>1.7</td>\n",
       "      <td>0.6</td>\n",
       "      <td>4.2</td>\n",
       "    </tr>\n",
       "    <tr>\n",
       "      <th>394197</th>\n",
       "      <td>11</td>\n",
       "      <td>0.26</td>\n",
       "      <td>29.64</td>\n",
       "      <td>0.37</td>\n",
       "      <td>14.92</td>\n",
       "      <td>7.43</td>\n",
       "      <td>9.02</td>\n",
       "      <td>23.22</td>\n",
       "      <td>0.14</td>\n",
       "      <td>0.19</td>\n",
       "      <td>...</td>\n",
       "      <td>0.5</td>\n",
       "      <td>0.6</td>\n",
       "      <td>1.2</td>\n",
       "      <td>1.7</td>\n",
       "      <td>1.6</td>\n",
       "      <td>0.02</td>\n",
       "      <td>1.0</td>\n",
       "      <td>1.2</td>\n",
       "      <td>0.9</td>\n",
       "      <td>18.6</td>\n",
       "    </tr>\n",
       "    <tr>\n",
       "      <th>485141</th>\n",
       "      <td>23</td>\n",
       "      <td>0.19</td>\n",
       "      <td>29.36</td>\n",
       "      <td>0.41</td>\n",
       "      <td>15.47</td>\n",
       "      <td>7.74</td>\n",
       "      <td>9.68</td>\n",
       "      <td>23.24</td>\n",
       "      <td>0.13</td>\n",
       "      <td>0.13</td>\n",
       "      <td>...</td>\n",
       "      <td>1.0</td>\n",
       "      <td>0.5</td>\n",
       "      <td>2.1</td>\n",
       "      <td>1.0</td>\n",
       "      <td>1.0</td>\n",
       "      <td>0.21</td>\n",
       "      <td>8.5</td>\n",
       "      <td>1.5</td>\n",
       "      <td>0.4</td>\n",
       "      <td>5.3</td>\n",
       "    </tr>\n",
       "    <tr>\n",
       "      <th>495255</th>\n",
       "      <td>13</td>\n",
       "      <td>0.20</td>\n",
       "      <td>29.22</td>\n",
       "      <td>0.48</td>\n",
       "      <td>15.34</td>\n",
       "      <td>8.32</td>\n",
       "      <td>9.90</td>\n",
       "      <td>20.98</td>\n",
       "      <td>0.29</td>\n",
       "      <td>0.13</td>\n",
       "      <td>...</td>\n",
       "      <td>0.5</td>\n",
       "      <td>0.4</td>\n",
       "      <td>1.4</td>\n",
       "      <td>1.9</td>\n",
       "      <td>2.0</td>\n",
       "      <td>0.07</td>\n",
       "      <td>1.2</td>\n",
       "      <td>1.3</td>\n",
       "      <td>0.8</td>\n",
       "      <td>16.1</td>\n",
       "    </tr>\n",
       "    <tr>\n",
       "      <th>572636</th>\n",
       "      <td>60</td>\n",
       "      <td>0.27</td>\n",
       "      <td>32.23</td>\n",
       "      <td>0.69</td>\n",
       "      <td>12.35</td>\n",
       "      <td>11.80</td>\n",
       "      <td>13.89</td>\n",
       "      <td>20.33</td>\n",
       "      <td>0.18</td>\n",
       "      <td>0.16</td>\n",
       "      <td>...</td>\n",
       "      <td>0.4</td>\n",
       "      <td>0.7</td>\n",
       "      <td>2.0</td>\n",
       "      <td>2.5</td>\n",
       "      <td>2.9</td>\n",
       "      <td>0.09</td>\n",
       "      <td>1.7</td>\n",
       "      <td>1.7</td>\n",
       "      <td>1.0</td>\n",
       "      <td>20.1</td>\n",
       "    </tr>\n",
       "    <tr>\n",
       "      <th>591679</th>\n",
       "      <td>24</td>\n",
       "      <td>0.27</td>\n",
       "      <td>29.15</td>\n",
       "      <td>0.40</td>\n",
       "      <td>16.48</td>\n",
       "      <td>7.82</td>\n",
       "      <td>9.17</td>\n",
       "      <td>23.33</td>\n",
       "      <td>0.27</td>\n",
       "      <td>0.11</td>\n",
       "      <td>...</td>\n",
       "      <td>0.3</td>\n",
       "      <td>0.5</td>\n",
       "      <td>2.0</td>\n",
       "      <td>1.6</td>\n",
       "      <td>2.5</td>\n",
       "      <td>0.07</td>\n",
       "      <td>1.2</td>\n",
       "      <td>1.7</td>\n",
       "      <td>1.0</td>\n",
       "      <td>24.9</td>\n",
       "    </tr>\n",
       "    <tr>\n",
       "      <th>683988</th>\n",
       "      <td>30</td>\n",
       "      <td>0.25</td>\n",
       "      <td>27.58</td>\n",
       "      <td>0.40</td>\n",
       "      <td>15.96</td>\n",
       "      <td>8.36</td>\n",
       "      <td>10.28</td>\n",
       "      <td>27.96</td>\n",
       "      <td>0.28</td>\n",
       "      <td>0.14</td>\n",
       "      <td>...</td>\n",
       "      <td>0.3</td>\n",
       "      <td>0.6</td>\n",
       "      <td>1.9</td>\n",
       "      <td>2.9</td>\n",
       "      <td>2.7</td>\n",
       "      <td>0.05</td>\n",
       "      <td>1.2</td>\n",
       "      <td>1.7</td>\n",
       "      <td>0.7</td>\n",
       "      <td>25.0</td>\n",
       "    </tr>\n",
       "    <tr>\n",
       "      <th>705186</th>\n",
       "      <td>29</td>\n",
       "      <td>0.36</td>\n",
       "      <td>29.49</td>\n",
       "      <td>0.33</td>\n",
       "      <td>14.35</td>\n",
       "      <td>7.44</td>\n",
       "      <td>9.09</td>\n",
       "      <td>25.62</td>\n",
       "      <td>0.21</td>\n",
       "      <td>0.17</td>\n",
       "      <td>...</td>\n",
       "      <td>0.5</td>\n",
       "      <td>0.6</td>\n",
       "      <td>2.1</td>\n",
       "      <td>1.9</td>\n",
       "      <td>1.0</td>\n",
       "      <td>0.02</td>\n",
       "      <td>3.0</td>\n",
       "      <td>1.0</td>\n",
       "      <td>1.2</td>\n",
       "      <td>10.5</td>\n",
       "    </tr>\n",
       "    <tr>\n",
       "      <th>709403</th>\n",
       "      <td>14</td>\n",
       "      <td>0.31</td>\n",
       "      <td>28.76</td>\n",
       "      <td>0.49</td>\n",
       "      <td>17.03</td>\n",
       "      <td>7.73</td>\n",
       "      <td>9.37</td>\n",
       "      <td>22.50</td>\n",
       "      <td>0.20</td>\n",
       "      <td>0.09</td>\n",
       "      <td>...</td>\n",
       "      <td>0.8</td>\n",
       "      <td>0.4</td>\n",
       "      <td>2.2</td>\n",
       "      <td>1.0</td>\n",
       "      <td>4.2</td>\n",
       "      <td>0.31</td>\n",
       "      <td>2.9</td>\n",
       "      <td>3.8</td>\n",
       "      <td>0.8</td>\n",
       "      <td>3.6</td>\n",
       "    </tr>\n",
       "    <tr>\n",
       "      <th>719935</th>\n",
       "      <td>22</td>\n",
       "      <td>0.35</td>\n",
       "      <td>29.04</td>\n",
       "      <td>0.53</td>\n",
       "      <td>14.67</td>\n",
       "      <td>9.76</td>\n",
       "      <td>11.91</td>\n",
       "      <td>21.86</td>\n",
       "      <td>0.34</td>\n",
       "      <td>0.14</td>\n",
       "      <td>...</td>\n",
       "      <td>0.8</td>\n",
       "      <td>0.5</td>\n",
       "      <td>1.2</td>\n",
       "      <td>1.3</td>\n",
       "      <td>5.8</td>\n",
       "      <td>0.12</td>\n",
       "      <td>1.4</td>\n",
       "      <td>3.6</td>\n",
       "      <td>0.8</td>\n",
       "      <td>4.6</td>\n",
       "    </tr>\n",
       "  </tbody>\n",
       "</table>\n",
       "<p>20 rows × 65 columns</p>\n",
       "</div>"
      ],
      "text/plain": [
       "        ID  Serum C14:0  Serum C16:0  Serum C16:1  Serum C18:0  \\\n",
       "0       47         0.20        30.84         0.62        13.85   \n",
       "13821   12         0.17        29.77         0.45        13.99   \n",
       "60564   21         0.20        27.26         0.47        16.65   \n",
       "92918   82         0.24        26.62         0.26        15.03   \n",
       "133848  35         0.24        29.94         0.56        14.17   \n",
       "203001  38         0.34        27.48         0.88        17.33   \n",
       "215566  54         0.27        28.42         0.67        15.97   \n",
       "267903  15         0.26        28.94         0.41        14.79   \n",
       "289395  19         0.12        32.15         0.33        12.09   \n",
       "324986  36         0.26        28.09         0.36        15.76   \n",
       "378105  52         0.29        29.13         0.42        16.69   \n",
       "394197  11         0.26        29.64         0.37        14.92   \n",
       "485141  23         0.19        29.36         0.41        15.47   \n",
       "495255  13         0.20        29.22         0.48        15.34   \n",
       "572636  60         0.27        32.23         0.69        12.35   \n",
       "591679  24         0.27        29.15         0.40        16.48   \n",
       "683988  30         0.25        27.58         0.40        15.96   \n",
       "705186  29         0.36        29.49         0.33        14.35   \n",
       "709403  14         0.31        28.76         0.49        17.03   \n",
       "719935  22         0.35        29.04         0.53        14.67   \n",
       "\n",
       "        Serum C18:1 n-9  Serum total C18:1  Serum C18:2 n-6  Serum C18:3 n-6  \\\n",
       "0                  8.59              10.41            20.13             0.12   \n",
       "13821              6.66               8.23            18.50             0.15   \n",
       "60564              8.41              10.00            27.12             0.15   \n",
       "92918              8.24              10.62            27.21             0.23   \n",
       "133848             9.43              11.26            19.10             0.14   \n",
       "203001            13.60              15.00            18.99             0.42   \n",
       "215566            11.47              13.07            22.40             0.13   \n",
       "267903            11.45              13.47            18.84             0.20   \n",
       "289395             6.95               8.91            20.81             0.13   \n",
       "324986             7.68               9.70            20.79             0.16   \n",
       "378105             8.61              10.12            19.82             0.16   \n",
       "394197             7.43               9.02            23.22             0.14   \n",
       "485141             7.74               9.68            23.24             0.13   \n",
       "495255             8.32               9.90            20.98             0.29   \n",
       "572636            11.80              13.89            20.33             0.18   \n",
       "591679             7.82               9.17            23.33             0.27   \n",
       "683988             8.36              10.28            27.96             0.28   \n",
       "705186             7.44               9.09            25.62             0.21   \n",
       "709403             7.73               9.37            22.50             0.20   \n",
       "719935             9.76              11.91            21.86             0.34   \n",
       "\n",
       "        Serum C20:1 n-9  ...  Sperm C20:1 n-9  Sperm C20:2 n-6  Sperm C22:0  \\\n",
       "0                  0.12  ...              0.4              0.4          2.1   \n",
       "13821              0.18  ...              0.4              0.5          1.6   \n",
       "60564              0.15  ...              0.4              0.5          1.2   \n",
       "92918              0.31  ...              0.5              1.3          3.0   \n",
       "133848             0.14  ...              0.3              1.0          0.7   \n",
       "203001             0.12  ...              0.3              0.6          1.5   \n",
       "215566             0.11  ...              0.3              0.4          1.6   \n",
       "267903             0.11  ...              0.7              0.6          2.3   \n",
       "289395             0.15  ...              0.7              0.6          1.8   \n",
       "324986             0.15  ...              0.5              0.4          2.0   \n",
       "378105             0.12  ...              0.6              0.3          1.7   \n",
       "394197             0.19  ...              0.5              0.6          1.2   \n",
       "485141             0.13  ...              1.0              0.5          2.1   \n",
       "495255             0.13  ...              0.5              0.4          1.4   \n",
       "572636             0.16  ...              0.4              0.7          2.0   \n",
       "591679             0.11  ...              0.3              0.5          2.0   \n",
       "683988             0.14  ...              0.3              0.6          1.9   \n",
       "705186             0.17  ...              0.5              0.6          2.1   \n",
       "709403             0.09  ...              0.8              0.4          2.2   \n",
       "719935             0.14  ...              0.8              0.5          1.2   \n",
       "\n",
       "        Sperm C20:3 n-6  Sperm C20:4 n-6 & C22:1 n-9  Sperm C20:5 n-3  \\\n",
       "0                   2.4                          1.7             0.04   \n",
       "13821               1.8                          2.4             0.08   \n",
       "60564               3.2                          2.5             0.06   \n",
       "92918               2.1                          1.9             0.04   \n",
       "133848              3.5                          2.3             0.06   \n",
       "203001              3.3                          2.4             0.08   \n",
       "215566              4.2                          2.6             0.39   \n",
       "267903              1.7                          2.1             0.06   \n",
       "289395              2.2                          6.3             0.66   \n",
       "324986              1.8                          2.6             0.26   \n",
       "378105              0.9                          1.6             0.14   \n",
       "394197              1.7                          1.6             0.02   \n",
       "485141              1.0                          1.0             0.21   \n",
       "495255              1.9                          2.0             0.07   \n",
       "572636              2.5                          2.9             0.09   \n",
       "591679              1.6                          2.5             0.07   \n",
       "683988              2.9                          2.7             0.05   \n",
       "705186              1.9                          1.0             0.02   \n",
       "709403              1.0                          4.2             0.31   \n",
       "719935              1.3                          5.8             0.12   \n",
       "\n",
       "        Sperm C24:0  Sperm C24:1 n-9  Sperm C22:5 n-3  Sperm C22:6 n-3  \n",
       "0               1.6              1.6              0.9             23.3  \n",
       "13821           0.9              1.4              2.0             25.0  \n",
       "60564           1.5              2.3              0.9             17.4  \n",
       "92918           0.7              1.1              1.3             23.6  \n",
       "133848          0.8              1.1              1.6             25.4  \n",
       "203001          1.6              1.7              1.6             22.4  \n",
       "215566          1.5              1.3              1.3             20.5  \n",
       "267903          1.9              1.8              1.0             16.0  \n",
       "289395          2.6              5.1              1.5              7.3  \n",
       "324986          1.8              2.1              0.9             13.9  \n",
       "378105          3.9              1.7              0.6              4.2  \n",
       "394197          1.0              1.2              0.9             18.6  \n",
       "485141          8.5              1.5              0.4              5.3  \n",
       "495255          1.2              1.3              0.8             16.1  \n",
       "572636          1.7              1.7              1.0             20.1  \n",
       "591679          1.2              1.7              1.0             24.9  \n",
       "683988          1.2              1.7              0.7             25.0  \n",
       "705186          3.0              1.0              1.2             10.5  \n",
       "709403          2.9              3.8              0.8              3.6  \n",
       "719935          1.4              3.6              0.8              4.6  \n",
       "\n",
       "[20 rows x 65 columns]"
      ]
     },
     "execution_count": 195,
     "metadata": {},
     "output_type": "execute_result"
    }
   ],
   "source": [
    "data_horm"
   ]
  },
  {
   "cell_type": "code",
   "execution_count": 216,
   "metadata": {},
   "outputs": [
    {
     "data": {
      "application/vnd.plotly.v1+json": {
       "config": {
        "plotlyServerURL": "https://plot.ly"
       },
       "data": [
        {
         "customdata": [
          47
         ],
         "hovertemplate": "ID: %{customdata}<br>PCA1: %{x}<br>PCA2: %{y}<extra></extra>",
         "legendgroup": "Q3",
         "marker": {
          "color": "red",
          "size": 10
         },
         "mode": "markers",
         "name": "Quadrante 3",
         "showlegend": true,
         "type": "scatter",
         "x": [
          -14.016811598758428
         ],
         "y": [
          -21.964911654082737
         ]
        },
        {
         "customdata": [
          12
         ],
         "hovertemplate": "ID: %{customdata}<br>PCA1: %{x}<br>PCA2: %{y}<extra></extra>",
         "legendgroup": "Q4",
         "marker": {
          "color": "purple",
          "size": 10
         },
         "mode": "markers",
         "name": "Quadrante 4",
         "showlegend": true,
         "type": "scatter",
         "x": [
          87.0575526522424
         ],
         "y": [
          -67.2801431454451
         ]
        },
        {
         "customdata": [
          21
         ],
         "hovertemplate": "ID: %{customdata}<br>PCA1: %{x}<br>PCA2: %{y}<extra></extra>",
         "legendgroup": "Q3",
         "marker": {
          "color": "red",
          "size": 10
         },
         "mode": "markers",
         "name": "Quadrante 3",
         "showlegend": false,
         "type": "scatter",
         "x": [
          -7.627481167348137
         ],
         "y": [
          -21.701416339697662
         ]
        },
        {
         "customdata": [
          82
         ],
         "hovertemplate": "ID: %{customdata}<br>PCA1: %{x}<br>PCA2: %{y}<extra></extra>",
         "legendgroup": "Q4",
         "marker": {
          "color": "purple",
          "size": 10
         },
         "mode": "markers",
         "name": "Quadrante 4",
         "showlegend": false,
         "type": "scatter",
         "x": [
          34.64543405470554
         ],
         "y": [
          -29.928088712748806
         ]
        },
        {
         "customdata": [
          35
         ],
         "hovertemplate": "ID: %{customdata}<br>PCA1: %{x}<br>PCA2: %{y}<extra></extra>",
         "legendgroup": "Q1",
         "marker": {
          "color": "blue",
          "size": 10
         },
         "mode": "markers",
         "name": "Quadrante 1",
         "showlegend": true,
         "type": "scatter",
         "x": [
          197.770230429216
         ],
         "y": [
          123.8155786180791
         ]
        },
        {
         "customdata": [
          38
         ],
         "hovertemplate": "ID: %{customdata}<br>PCA1: %{x}<br>PCA2: %{y}<extra></extra>",
         "legendgroup": "Q3",
         "marker": {
          "color": "red",
          "size": 10
         },
         "mode": "markers",
         "name": "Quadrante 3",
         "showlegend": false,
         "type": "scatter",
         "x": [
          -26.418914602564154
         ],
         "y": [
          -32.26034240782783
         ]
        },
        {
         "customdata": [
          54
         ],
         "hovertemplate": "ID: %{customdata}<br>PCA1: %{x}<br>PCA2: %{y}<extra></extra>",
         "legendgroup": "Q3",
         "marker": {
          "color": "red",
          "size": 10
         },
         "mode": "markers",
         "name": "Quadrante 3",
         "showlegend": false,
         "type": "scatter",
         "x": [
          -50.294038907381534
         ],
         "y": [
          -13.91220847252182
         ]
        },
        {
         "customdata": [
          15
         ],
         "hovertemplate": "ID: %{customdata}<br>PCA1: %{x}<br>PCA2: %{y}<extra></extra>",
         "legendgroup": "Q2",
         "marker": {
          "color": "green",
          "size": 10
         },
         "mode": "markers",
         "name": "Quadrante 2",
         "showlegend": true,
         "type": "scatter",
         "x": [
          -112.1556673050467
         ],
         "y": [
          18.39396386269009
         ]
        },
        {
         "customdata": [
          19
         ],
         "hovertemplate": "ID: %{customdata}<br>PCA1: %{x}<br>PCA2: %{y}<extra></extra>",
         "legendgroup": "Q2",
         "marker": {
          "color": "green",
          "size": 10
         },
         "mode": "markers",
         "name": "Quadrante 2",
         "showlegend": false,
         "type": "scatter",
         "x": [
          -43.25555684763438
         ],
         "y": [
          27.29831958942496
         ]
        },
        {
         "customdata": [
          36
         ],
         "hovertemplate": "ID: %{customdata}<br>PCA1: %{x}<br>PCA2: %{y}<extra></extra>",
         "legendgroup": "Q4",
         "marker": {
          "color": "purple",
          "size": 10
         },
         "mode": "markers",
         "name": "Quadrante 4",
         "showlegend": false,
         "type": "scatter",
         "x": [
          31.345599711705617
         ],
         "y": [
          -0.5271105014790486
         ]
        },
        {
         "customdata": [
          52
         ],
         "hovertemplate": "ID: %{customdata}<br>PCA1: %{x}<br>PCA2: %{y}<extra></extra>",
         "legendgroup": "Q2",
         "marker": {
          "color": "green",
          "size": 10
         },
         "mode": "markers",
         "name": "Quadrante 2",
         "showlegend": false,
         "type": "scatter",
         "x": [
          -118.36009921025197
         ],
         "y": [
          8.13372152576849
         ]
        },
        {
         "customdata": [
          11
         ],
         "hovertemplate": "ID: %{customdata}<br>PCA1: %{x}<br>PCA2: %{y}<extra></extra>",
         "legendgroup": "Q1",
         "marker": {
          "color": "blue",
          "size": 10
         },
         "mode": "markers",
         "name": "Quadrante 1",
         "showlegend": false,
         "type": "scatter",
         "x": [
          62.11559868437858
         ],
         "y": [
          28.928211973569514
         ]
        },
        {
         "customdata": [
          23
         ],
         "hovertemplate": "ID: %{customdata}<br>PCA1: %{x}<br>PCA2: %{y}<extra></extra>",
         "legendgroup": "Q2",
         "marker": {
          "color": "green",
          "size": 10
         },
         "mode": "markers",
         "name": "Quadrante 2",
         "showlegend": false,
         "type": "scatter",
         "x": [
          -99.48715412378458
         ],
         "y": [
          12.62961459513292
         ]
        },
        {
         "customdata": [
          13
         ],
         "hovertemplate": "ID: %{customdata}<br>PCA1: %{x}<br>PCA2: %{y}<extra></extra>",
         "legendgroup": "Q1",
         "marker": {
          "color": "blue",
          "size": 10
         },
         "mode": "markers",
         "name": "Quadrante 1",
         "showlegend": false,
         "type": "scatter",
         "x": [
          82.40045395699909
         ],
         "y": [
          77.35308385679924
         ]
        },
        {
         "customdata": [
          60
         ],
         "hovertemplate": "ID: %{customdata}<br>PCA1: %{x}<br>PCA2: %{y}<extra></extra>",
         "legendgroup": "Q1",
         "marker": {
          "color": "blue",
          "size": 10
         },
         "mode": "markers",
         "name": "Quadrante 1",
         "showlegend": false,
         "type": "scatter",
         "x": [
          0.7852123461093833
         ],
         "y": [
          35.670883552647304
         ]
        },
        {
         "customdata": [
          24
         ],
         "hovertemplate": "ID: %{customdata}<br>PCA1: %{x}<br>PCA2: %{y}<extra></extra>",
         "legendgroup": "Q4",
         "marker": {
          "color": "purple",
          "size": 10
         },
         "mode": "markers",
         "name": "Quadrante 4",
         "showlegend": false,
         "type": "scatter",
         "x": [
          175.85488939604573
         ],
         "y": [
          -76.13449956052445
         ]
        },
        {
         "customdata": [
          30
         ],
         "hovertemplate": "ID: %{customdata}<br>PCA1: %{x}<br>PCA2: %{y}<extra></extra>",
         "legendgroup": "Q4",
         "marker": {
          "color": "purple",
          "size": 10
         },
         "mode": "markers",
         "name": "Quadrante 4",
         "showlegend": false,
         "type": "scatter",
         "x": [
          120.6029720527428
         ],
         "y": [
          -71.09123158722342
         ]
        },
        {
         "customdata": [
          29
         ],
         "hovertemplate": "ID: %{customdata}<br>PCA1: %{x}<br>PCA2: %{y}<extra></extra>",
         "legendgroup": "Q2",
         "marker": {
          "color": "green",
          "size": 10
         },
         "mode": "markers",
         "name": "Quadrante 2",
         "showlegend": false,
         "type": "scatter",
         "x": [
          -104.64881365058682
         ],
         "y": [
          18.454687430475733
         ]
        },
        {
         "customdata": [
          14
         ],
         "hovertemplate": "ID: %{customdata}<br>PCA1: %{x}<br>PCA2: %{y}<extra></extra>",
         "legendgroup": "Q3",
         "marker": {
          "color": "red",
          "size": 10
         },
         "mode": "markers",
         "name": "Quadrante 3",
         "showlegend": false,
         "type": "scatter",
         "x": [
          -134.8791783858354
         ],
         "y": [
          -4.921756513935653
         ]
        },
        {
         "customdata": [
          22
         ],
         "hovertemplate": "ID: %{customdata}<br>PCA1: %{x}<br>PCA2: %{y}<extra></extra>",
         "legendgroup": "Q3",
         "marker": {
          "color": "red",
          "size": 10
         },
         "mode": "markers",
         "name": "Quadrante 3",
         "showlegend": false,
         "type": "scatter",
         "x": [
          -81.43422748495304
         ],
         "y": [
          -10.956356109100925
         ]
        },
        {
         "line": {
          "color": "red",
          "dash": "dash"
         },
         "mode": "lines",
         "showlegend": false,
         "type": "scatter",
         "x": [
          -134.8791783858354,
          197.770230429216
         ],
         "y": [
          0,
          0
         ]
        },
        {
         "line": {
          "color": "red",
          "dash": "dash"
         },
         "mode": "lines",
         "showlegend": false,
         "type": "scatter",
         "x": [
          0,
          0
         ],
         "y": [
          -76.13449956052445,
          123.8155786180791
         ]
        }
       ],
       "layout": {
        "height": 900,
        "legend": {
         "itemsizing": "constant"
        },
        "showlegend": true,
        "template": {
         "data": {
          "bar": [
           {
            "error_x": {
             "color": "#2a3f5f"
            },
            "error_y": {
             "color": "#2a3f5f"
            },
            "marker": {
             "line": {
              "color": "#E5ECF6",
              "width": 0.5
             },
             "pattern": {
              "fillmode": "overlay",
              "size": 10,
              "solidity": 0.2
             }
            },
            "type": "bar"
           }
          ],
          "barpolar": [
           {
            "marker": {
             "line": {
              "color": "#E5ECF6",
              "width": 0.5
             },
             "pattern": {
              "fillmode": "overlay",
              "size": 10,
              "solidity": 0.2
             }
            },
            "type": "barpolar"
           }
          ],
          "carpet": [
           {
            "aaxis": {
             "endlinecolor": "#2a3f5f",
             "gridcolor": "white",
             "linecolor": "white",
             "minorgridcolor": "white",
             "startlinecolor": "#2a3f5f"
            },
            "baxis": {
             "endlinecolor": "#2a3f5f",
             "gridcolor": "white",
             "linecolor": "white",
             "minorgridcolor": "white",
             "startlinecolor": "#2a3f5f"
            },
            "type": "carpet"
           }
          ],
          "choropleth": [
           {
            "colorbar": {
             "outlinewidth": 0,
             "ticks": ""
            },
            "type": "choropleth"
           }
          ],
          "contour": [
           {
            "colorbar": {
             "outlinewidth": 0,
             "ticks": ""
            },
            "colorscale": [
             [
              0,
              "#0d0887"
             ],
             [
              0.1111111111111111,
              "#46039f"
             ],
             [
              0.2222222222222222,
              "#7201a8"
             ],
             [
              0.3333333333333333,
              "#9c179e"
             ],
             [
              0.4444444444444444,
              "#bd3786"
             ],
             [
              0.5555555555555556,
              "#d8576b"
             ],
             [
              0.6666666666666666,
              "#ed7953"
             ],
             [
              0.7777777777777778,
              "#fb9f3a"
             ],
             [
              0.8888888888888888,
              "#fdca26"
             ],
             [
              1,
              "#f0f921"
             ]
            ],
            "type": "contour"
           }
          ],
          "contourcarpet": [
           {
            "colorbar": {
             "outlinewidth": 0,
             "ticks": ""
            },
            "type": "contourcarpet"
           }
          ],
          "heatmap": [
           {
            "colorbar": {
             "outlinewidth": 0,
             "ticks": ""
            },
            "colorscale": [
             [
              0,
              "#0d0887"
             ],
             [
              0.1111111111111111,
              "#46039f"
             ],
             [
              0.2222222222222222,
              "#7201a8"
             ],
             [
              0.3333333333333333,
              "#9c179e"
             ],
             [
              0.4444444444444444,
              "#bd3786"
             ],
             [
              0.5555555555555556,
              "#d8576b"
             ],
             [
              0.6666666666666666,
              "#ed7953"
             ],
             [
              0.7777777777777778,
              "#fb9f3a"
             ],
             [
              0.8888888888888888,
              "#fdca26"
             ],
             [
              1,
              "#f0f921"
             ]
            ],
            "type": "heatmap"
           }
          ],
          "heatmapgl": [
           {
            "colorbar": {
             "outlinewidth": 0,
             "ticks": ""
            },
            "colorscale": [
             [
              0,
              "#0d0887"
             ],
             [
              0.1111111111111111,
              "#46039f"
             ],
             [
              0.2222222222222222,
              "#7201a8"
             ],
             [
              0.3333333333333333,
              "#9c179e"
             ],
             [
              0.4444444444444444,
              "#bd3786"
             ],
             [
              0.5555555555555556,
              "#d8576b"
             ],
             [
              0.6666666666666666,
              "#ed7953"
             ],
             [
              0.7777777777777778,
              "#fb9f3a"
             ],
             [
              0.8888888888888888,
              "#fdca26"
             ],
             [
              1,
              "#f0f921"
             ]
            ],
            "type": "heatmapgl"
           }
          ],
          "histogram": [
           {
            "marker": {
             "pattern": {
              "fillmode": "overlay",
              "size": 10,
              "solidity": 0.2
             }
            },
            "type": "histogram"
           }
          ],
          "histogram2d": [
           {
            "colorbar": {
             "outlinewidth": 0,
             "ticks": ""
            },
            "colorscale": [
             [
              0,
              "#0d0887"
             ],
             [
              0.1111111111111111,
              "#46039f"
             ],
             [
              0.2222222222222222,
              "#7201a8"
             ],
             [
              0.3333333333333333,
              "#9c179e"
             ],
             [
              0.4444444444444444,
              "#bd3786"
             ],
             [
              0.5555555555555556,
              "#d8576b"
             ],
             [
              0.6666666666666666,
              "#ed7953"
             ],
             [
              0.7777777777777778,
              "#fb9f3a"
             ],
             [
              0.8888888888888888,
              "#fdca26"
             ],
             [
              1,
              "#f0f921"
             ]
            ],
            "type": "histogram2d"
           }
          ],
          "histogram2dcontour": [
           {
            "colorbar": {
             "outlinewidth": 0,
             "ticks": ""
            },
            "colorscale": [
             [
              0,
              "#0d0887"
             ],
             [
              0.1111111111111111,
              "#46039f"
             ],
             [
              0.2222222222222222,
              "#7201a8"
             ],
             [
              0.3333333333333333,
              "#9c179e"
             ],
             [
              0.4444444444444444,
              "#bd3786"
             ],
             [
              0.5555555555555556,
              "#d8576b"
             ],
             [
              0.6666666666666666,
              "#ed7953"
             ],
             [
              0.7777777777777778,
              "#fb9f3a"
             ],
             [
              0.8888888888888888,
              "#fdca26"
             ],
             [
              1,
              "#f0f921"
             ]
            ],
            "type": "histogram2dcontour"
           }
          ],
          "mesh3d": [
           {
            "colorbar": {
             "outlinewidth": 0,
             "ticks": ""
            },
            "type": "mesh3d"
           }
          ],
          "parcoords": [
           {
            "line": {
             "colorbar": {
              "outlinewidth": 0,
              "ticks": ""
             }
            },
            "type": "parcoords"
           }
          ],
          "pie": [
           {
            "automargin": true,
            "type": "pie"
           }
          ],
          "scatter": [
           {
            "fillpattern": {
             "fillmode": "overlay",
             "size": 10,
             "solidity": 0.2
            },
            "type": "scatter"
           }
          ],
          "scatter3d": [
           {
            "line": {
             "colorbar": {
              "outlinewidth": 0,
              "ticks": ""
             }
            },
            "marker": {
             "colorbar": {
              "outlinewidth": 0,
              "ticks": ""
             }
            },
            "type": "scatter3d"
           }
          ],
          "scattercarpet": [
           {
            "marker": {
             "colorbar": {
              "outlinewidth": 0,
              "ticks": ""
             }
            },
            "type": "scattercarpet"
           }
          ],
          "scattergeo": [
           {
            "marker": {
             "colorbar": {
              "outlinewidth": 0,
              "ticks": ""
             }
            },
            "type": "scattergeo"
           }
          ],
          "scattergl": [
           {
            "marker": {
             "colorbar": {
              "outlinewidth": 0,
              "ticks": ""
             }
            },
            "type": "scattergl"
           }
          ],
          "scattermapbox": [
           {
            "marker": {
             "colorbar": {
              "outlinewidth": 0,
              "ticks": ""
             }
            },
            "type": "scattermapbox"
           }
          ],
          "scatterpolar": [
           {
            "marker": {
             "colorbar": {
              "outlinewidth": 0,
              "ticks": ""
             }
            },
            "type": "scatterpolar"
           }
          ],
          "scatterpolargl": [
           {
            "marker": {
             "colorbar": {
              "outlinewidth": 0,
              "ticks": ""
             }
            },
            "type": "scatterpolargl"
           }
          ],
          "scatterternary": [
           {
            "marker": {
             "colorbar": {
              "outlinewidth": 0,
              "ticks": ""
             }
            },
            "type": "scatterternary"
           }
          ],
          "surface": [
           {
            "colorbar": {
             "outlinewidth": 0,
             "ticks": ""
            },
            "colorscale": [
             [
              0,
              "#0d0887"
             ],
             [
              0.1111111111111111,
              "#46039f"
             ],
             [
              0.2222222222222222,
              "#7201a8"
             ],
             [
              0.3333333333333333,
              "#9c179e"
             ],
             [
              0.4444444444444444,
              "#bd3786"
             ],
             [
              0.5555555555555556,
              "#d8576b"
             ],
             [
              0.6666666666666666,
              "#ed7953"
             ],
             [
              0.7777777777777778,
              "#fb9f3a"
             ],
             [
              0.8888888888888888,
              "#fdca26"
             ],
             [
              1,
              "#f0f921"
             ]
            ],
            "type": "surface"
           }
          ],
          "table": [
           {
            "cells": {
             "fill": {
              "color": "#EBF0F8"
             },
             "line": {
              "color": "white"
             }
            },
            "header": {
             "fill": {
              "color": "#C8D4E3"
             },
             "line": {
              "color": "white"
             }
            },
            "type": "table"
           }
          ]
         },
         "layout": {
          "annotationdefaults": {
           "arrowcolor": "#2a3f5f",
           "arrowhead": 0,
           "arrowwidth": 1
          },
          "autotypenumbers": "strict",
          "coloraxis": {
           "colorbar": {
            "outlinewidth": 0,
            "ticks": ""
           }
          },
          "colorscale": {
           "diverging": [
            [
             0,
             "#8e0152"
            ],
            [
             0.1,
             "#c51b7d"
            ],
            [
             0.2,
             "#de77ae"
            ],
            [
             0.3,
             "#f1b6da"
            ],
            [
             0.4,
             "#fde0ef"
            ],
            [
             0.5,
             "#f7f7f7"
            ],
            [
             0.6,
             "#e6f5d0"
            ],
            [
             0.7,
             "#b8e186"
            ],
            [
             0.8,
             "#7fbc41"
            ],
            [
             0.9,
             "#4d9221"
            ],
            [
             1,
             "#276419"
            ]
           ],
           "sequential": [
            [
             0,
             "#0d0887"
            ],
            [
             0.1111111111111111,
             "#46039f"
            ],
            [
             0.2222222222222222,
             "#7201a8"
            ],
            [
             0.3333333333333333,
             "#9c179e"
            ],
            [
             0.4444444444444444,
             "#bd3786"
            ],
            [
             0.5555555555555556,
             "#d8576b"
            ],
            [
             0.6666666666666666,
             "#ed7953"
            ],
            [
             0.7777777777777778,
             "#fb9f3a"
            ],
            [
             0.8888888888888888,
             "#fdca26"
            ],
            [
             1,
             "#f0f921"
            ]
           ],
           "sequentialminus": [
            [
             0,
             "#0d0887"
            ],
            [
             0.1111111111111111,
             "#46039f"
            ],
            [
             0.2222222222222222,
             "#7201a8"
            ],
            [
             0.3333333333333333,
             "#9c179e"
            ],
            [
             0.4444444444444444,
             "#bd3786"
            ],
            [
             0.5555555555555556,
             "#d8576b"
            ],
            [
             0.6666666666666666,
             "#ed7953"
            ],
            [
             0.7777777777777778,
             "#fb9f3a"
            ],
            [
             0.8888888888888888,
             "#fdca26"
            ],
            [
             1,
             "#f0f921"
            ]
           ]
          },
          "colorway": [
           "#636efa",
           "#EF553B",
           "#00cc96",
           "#ab63fa",
           "#FFA15A",
           "#19d3f3",
           "#FF6692",
           "#B6E880",
           "#FF97FF",
           "#FECB52"
          ],
          "font": {
           "color": "#2a3f5f"
          },
          "geo": {
           "bgcolor": "white",
           "lakecolor": "white",
           "landcolor": "#E5ECF6",
           "showlakes": true,
           "showland": true,
           "subunitcolor": "white"
          },
          "hoverlabel": {
           "align": "left"
          },
          "hovermode": "closest",
          "mapbox": {
           "style": "light"
          },
          "paper_bgcolor": "white",
          "plot_bgcolor": "#E5ECF6",
          "polar": {
           "angularaxis": {
            "gridcolor": "white",
            "linecolor": "white",
            "ticks": ""
           },
           "bgcolor": "#E5ECF6",
           "radialaxis": {
            "gridcolor": "white",
            "linecolor": "white",
            "ticks": ""
           }
          },
          "scene": {
           "xaxis": {
            "backgroundcolor": "#E5ECF6",
            "gridcolor": "white",
            "gridwidth": 2,
            "linecolor": "white",
            "showbackground": true,
            "ticks": "",
            "zerolinecolor": "white"
           },
           "yaxis": {
            "backgroundcolor": "#E5ECF6",
            "gridcolor": "white",
            "gridwidth": 2,
            "linecolor": "white",
            "showbackground": true,
            "ticks": "",
            "zerolinecolor": "white"
           },
           "zaxis": {
            "backgroundcolor": "#E5ECF6",
            "gridcolor": "white",
            "gridwidth": 2,
            "linecolor": "white",
            "showbackground": true,
            "ticks": "",
            "zerolinecolor": "white"
           }
          },
          "shapedefaults": {
           "line": {
            "color": "#2a3f5f"
           }
          },
          "ternary": {
           "aaxis": {
            "gridcolor": "white",
            "linecolor": "white",
            "ticks": ""
           },
           "baxis": {
            "gridcolor": "white",
            "linecolor": "white",
            "ticks": ""
           },
           "bgcolor": "#E5ECF6",
           "caxis": {
            "gridcolor": "white",
            "linecolor": "white",
            "ticks": ""
           }
          },
          "title": {
           "x": 0.05
          },
          "xaxis": {
           "automargin": true,
           "gridcolor": "white",
           "linecolor": "white",
           "ticks": "",
           "title": {
            "standoff": 15
           },
           "zerolinecolor": "white",
           "zerolinewidth": 2
          },
          "yaxis": {
           "automargin": true,
           "gridcolor": "white",
           "linecolor": "white",
           "ticks": "",
           "title": {
            "standoff": 15
           },
           "zerolinecolor": "white",
           "zerolinewidth": 2
          }
         }
        },
        "title": {
         "text": "Scatter Plot do PCA de cada individuo"
        },
        "width": 1500,
        "xaxis": {
         "title": {
          "text": "PCA1"
         }
        },
        "yaxis": {
         "title": {
          "text": "PCA2"
         }
        }
       }
      },
      "text/html": [
       "<div>                            <div id=\"4dde664a-7082-48db-9711-6479d1473d9d\" class=\"plotly-graph-div\" style=\"height:900px; width:1500px;\"></div>            <script type=\"text/javascript\">                require([\"plotly\"], function(Plotly) {                    window.PLOTLYENV=window.PLOTLYENV || {};                                    if (document.getElementById(\"4dde664a-7082-48db-9711-6479d1473d9d\")) {                    Plotly.newPlot(                        \"4dde664a-7082-48db-9711-6479d1473d9d\",                        [{\"customdata\":[47],\"hovertemplate\":\"ID: %{customdata}\\u003cbr\\u003ePCA1: %{x}\\u003cbr\\u003ePCA2: %{y}\\u003cextra\\u003e\\u003c\\u002fextra\\u003e\",\"legendgroup\":\"Q3\",\"marker\":{\"color\":\"red\",\"size\":10},\"mode\":\"markers\",\"name\":\"Quadrante 3\",\"showlegend\":true,\"x\":[-14.016811598758428],\"y\":[-21.964911654082737],\"type\":\"scatter\"},{\"customdata\":[12],\"hovertemplate\":\"ID: %{customdata}\\u003cbr\\u003ePCA1: %{x}\\u003cbr\\u003ePCA2: %{y}\\u003cextra\\u003e\\u003c\\u002fextra\\u003e\",\"legendgroup\":\"Q4\",\"marker\":{\"color\":\"purple\",\"size\":10},\"mode\":\"markers\",\"name\":\"Quadrante 4\",\"showlegend\":true,\"x\":[87.0575526522424],\"y\":[-67.2801431454451],\"type\":\"scatter\"},{\"customdata\":[21],\"hovertemplate\":\"ID: %{customdata}\\u003cbr\\u003ePCA1: %{x}\\u003cbr\\u003ePCA2: %{y}\\u003cextra\\u003e\\u003c\\u002fextra\\u003e\",\"legendgroup\":\"Q3\",\"marker\":{\"color\":\"red\",\"size\":10},\"mode\":\"markers\",\"name\":\"Quadrante 3\",\"showlegend\":false,\"x\":[-7.627481167348137],\"y\":[-21.701416339697662],\"type\":\"scatter\"},{\"customdata\":[82],\"hovertemplate\":\"ID: %{customdata}\\u003cbr\\u003ePCA1: %{x}\\u003cbr\\u003ePCA2: %{y}\\u003cextra\\u003e\\u003c\\u002fextra\\u003e\",\"legendgroup\":\"Q4\",\"marker\":{\"color\":\"purple\",\"size\":10},\"mode\":\"markers\",\"name\":\"Quadrante 4\",\"showlegend\":false,\"x\":[34.64543405470554],\"y\":[-29.928088712748806],\"type\":\"scatter\"},{\"customdata\":[35],\"hovertemplate\":\"ID: %{customdata}\\u003cbr\\u003ePCA1: %{x}\\u003cbr\\u003ePCA2: %{y}\\u003cextra\\u003e\\u003c\\u002fextra\\u003e\",\"legendgroup\":\"Q1\",\"marker\":{\"color\":\"blue\",\"size\":10},\"mode\":\"markers\",\"name\":\"Quadrante 1\",\"showlegend\":true,\"x\":[197.770230429216],\"y\":[123.8155786180791],\"type\":\"scatter\"},{\"customdata\":[38],\"hovertemplate\":\"ID: %{customdata}\\u003cbr\\u003ePCA1: %{x}\\u003cbr\\u003ePCA2: %{y}\\u003cextra\\u003e\\u003c\\u002fextra\\u003e\",\"legendgroup\":\"Q3\",\"marker\":{\"color\":\"red\",\"size\":10},\"mode\":\"markers\",\"name\":\"Quadrante 3\",\"showlegend\":false,\"x\":[-26.418914602564154],\"y\":[-32.26034240782783],\"type\":\"scatter\"},{\"customdata\":[54],\"hovertemplate\":\"ID: %{customdata}\\u003cbr\\u003ePCA1: %{x}\\u003cbr\\u003ePCA2: %{y}\\u003cextra\\u003e\\u003c\\u002fextra\\u003e\",\"legendgroup\":\"Q3\",\"marker\":{\"color\":\"red\",\"size\":10},\"mode\":\"markers\",\"name\":\"Quadrante 3\",\"showlegend\":false,\"x\":[-50.294038907381534],\"y\":[-13.91220847252182],\"type\":\"scatter\"},{\"customdata\":[15],\"hovertemplate\":\"ID: %{customdata}\\u003cbr\\u003ePCA1: %{x}\\u003cbr\\u003ePCA2: %{y}\\u003cextra\\u003e\\u003c\\u002fextra\\u003e\",\"legendgroup\":\"Q2\",\"marker\":{\"color\":\"green\",\"size\":10},\"mode\":\"markers\",\"name\":\"Quadrante 2\",\"showlegend\":true,\"x\":[-112.1556673050467],\"y\":[18.39396386269009],\"type\":\"scatter\"},{\"customdata\":[19],\"hovertemplate\":\"ID: %{customdata}\\u003cbr\\u003ePCA1: %{x}\\u003cbr\\u003ePCA2: %{y}\\u003cextra\\u003e\\u003c\\u002fextra\\u003e\",\"legendgroup\":\"Q2\",\"marker\":{\"color\":\"green\",\"size\":10},\"mode\":\"markers\",\"name\":\"Quadrante 2\",\"showlegend\":false,\"x\":[-43.25555684763438],\"y\":[27.29831958942496],\"type\":\"scatter\"},{\"customdata\":[36],\"hovertemplate\":\"ID: %{customdata}\\u003cbr\\u003ePCA1: %{x}\\u003cbr\\u003ePCA2: %{y}\\u003cextra\\u003e\\u003c\\u002fextra\\u003e\",\"legendgroup\":\"Q4\",\"marker\":{\"color\":\"purple\",\"size\":10},\"mode\":\"markers\",\"name\":\"Quadrante 4\",\"showlegend\":false,\"x\":[31.345599711705617],\"y\":[-0.5271105014790486],\"type\":\"scatter\"},{\"customdata\":[52],\"hovertemplate\":\"ID: %{customdata}\\u003cbr\\u003ePCA1: %{x}\\u003cbr\\u003ePCA2: %{y}\\u003cextra\\u003e\\u003c\\u002fextra\\u003e\",\"legendgroup\":\"Q2\",\"marker\":{\"color\":\"green\",\"size\":10},\"mode\":\"markers\",\"name\":\"Quadrante 2\",\"showlegend\":false,\"x\":[-118.36009921025197],\"y\":[8.13372152576849],\"type\":\"scatter\"},{\"customdata\":[11],\"hovertemplate\":\"ID: %{customdata}\\u003cbr\\u003ePCA1: %{x}\\u003cbr\\u003ePCA2: %{y}\\u003cextra\\u003e\\u003c\\u002fextra\\u003e\",\"legendgroup\":\"Q1\",\"marker\":{\"color\":\"blue\",\"size\":10},\"mode\":\"markers\",\"name\":\"Quadrante 1\",\"showlegend\":false,\"x\":[62.11559868437858],\"y\":[28.928211973569514],\"type\":\"scatter\"},{\"customdata\":[23],\"hovertemplate\":\"ID: %{customdata}\\u003cbr\\u003ePCA1: %{x}\\u003cbr\\u003ePCA2: %{y}\\u003cextra\\u003e\\u003c\\u002fextra\\u003e\",\"legendgroup\":\"Q2\",\"marker\":{\"color\":\"green\",\"size\":10},\"mode\":\"markers\",\"name\":\"Quadrante 2\",\"showlegend\":false,\"x\":[-99.48715412378458],\"y\":[12.62961459513292],\"type\":\"scatter\"},{\"customdata\":[13],\"hovertemplate\":\"ID: %{customdata}\\u003cbr\\u003ePCA1: %{x}\\u003cbr\\u003ePCA2: %{y}\\u003cextra\\u003e\\u003c\\u002fextra\\u003e\",\"legendgroup\":\"Q1\",\"marker\":{\"color\":\"blue\",\"size\":10},\"mode\":\"markers\",\"name\":\"Quadrante 1\",\"showlegend\":false,\"x\":[82.40045395699909],\"y\":[77.35308385679924],\"type\":\"scatter\"},{\"customdata\":[60],\"hovertemplate\":\"ID: %{customdata}\\u003cbr\\u003ePCA1: %{x}\\u003cbr\\u003ePCA2: %{y}\\u003cextra\\u003e\\u003c\\u002fextra\\u003e\",\"legendgroup\":\"Q1\",\"marker\":{\"color\":\"blue\",\"size\":10},\"mode\":\"markers\",\"name\":\"Quadrante 1\",\"showlegend\":false,\"x\":[0.7852123461093833],\"y\":[35.670883552647304],\"type\":\"scatter\"},{\"customdata\":[24],\"hovertemplate\":\"ID: %{customdata}\\u003cbr\\u003ePCA1: %{x}\\u003cbr\\u003ePCA2: %{y}\\u003cextra\\u003e\\u003c\\u002fextra\\u003e\",\"legendgroup\":\"Q4\",\"marker\":{\"color\":\"purple\",\"size\":10},\"mode\":\"markers\",\"name\":\"Quadrante 4\",\"showlegend\":false,\"x\":[175.85488939604573],\"y\":[-76.13449956052445],\"type\":\"scatter\"},{\"customdata\":[30],\"hovertemplate\":\"ID: %{customdata}\\u003cbr\\u003ePCA1: %{x}\\u003cbr\\u003ePCA2: %{y}\\u003cextra\\u003e\\u003c\\u002fextra\\u003e\",\"legendgroup\":\"Q4\",\"marker\":{\"color\":\"purple\",\"size\":10},\"mode\":\"markers\",\"name\":\"Quadrante 4\",\"showlegend\":false,\"x\":[120.6029720527428],\"y\":[-71.09123158722342],\"type\":\"scatter\"},{\"customdata\":[29],\"hovertemplate\":\"ID: %{customdata}\\u003cbr\\u003ePCA1: %{x}\\u003cbr\\u003ePCA2: %{y}\\u003cextra\\u003e\\u003c\\u002fextra\\u003e\",\"legendgroup\":\"Q2\",\"marker\":{\"color\":\"green\",\"size\":10},\"mode\":\"markers\",\"name\":\"Quadrante 2\",\"showlegend\":false,\"x\":[-104.64881365058682],\"y\":[18.454687430475733],\"type\":\"scatter\"},{\"customdata\":[14],\"hovertemplate\":\"ID: %{customdata}\\u003cbr\\u003ePCA1: %{x}\\u003cbr\\u003ePCA2: %{y}\\u003cextra\\u003e\\u003c\\u002fextra\\u003e\",\"legendgroup\":\"Q3\",\"marker\":{\"color\":\"red\",\"size\":10},\"mode\":\"markers\",\"name\":\"Quadrante 3\",\"showlegend\":false,\"x\":[-134.8791783858354],\"y\":[-4.921756513935653],\"type\":\"scatter\"},{\"customdata\":[22],\"hovertemplate\":\"ID: %{customdata}\\u003cbr\\u003ePCA1: %{x}\\u003cbr\\u003ePCA2: %{y}\\u003cextra\\u003e\\u003c\\u002fextra\\u003e\",\"legendgroup\":\"Q3\",\"marker\":{\"color\":\"red\",\"size\":10},\"mode\":\"markers\",\"name\":\"Quadrante 3\",\"showlegend\":false,\"x\":[-81.43422748495304],\"y\":[-10.956356109100925],\"type\":\"scatter\"},{\"line\":{\"color\":\"red\",\"dash\":\"dash\"},\"mode\":\"lines\",\"showlegend\":false,\"x\":[-134.8791783858354,197.770230429216],\"y\":[0,0],\"type\":\"scatter\"},{\"line\":{\"color\":\"red\",\"dash\":\"dash\"},\"mode\":\"lines\",\"showlegend\":false,\"x\":[0,0],\"y\":[-76.13449956052445,123.8155786180791],\"type\":\"scatter\"}],                        {\"template\":{\"data\":{\"histogram2dcontour\":[{\"type\":\"histogram2dcontour\",\"colorbar\":{\"outlinewidth\":0,\"ticks\":\"\"},\"colorscale\":[[0.0,\"#0d0887\"],[0.1111111111111111,\"#46039f\"],[0.2222222222222222,\"#7201a8\"],[0.3333333333333333,\"#9c179e\"],[0.4444444444444444,\"#bd3786\"],[0.5555555555555556,\"#d8576b\"],[0.6666666666666666,\"#ed7953\"],[0.7777777777777778,\"#fb9f3a\"],[0.8888888888888888,\"#fdca26\"],[1.0,\"#f0f921\"]]}],\"choropleth\":[{\"type\":\"choropleth\",\"colorbar\":{\"outlinewidth\":0,\"ticks\":\"\"}}],\"histogram2d\":[{\"type\":\"histogram2d\",\"colorbar\":{\"outlinewidth\":0,\"ticks\":\"\"},\"colorscale\":[[0.0,\"#0d0887\"],[0.1111111111111111,\"#46039f\"],[0.2222222222222222,\"#7201a8\"],[0.3333333333333333,\"#9c179e\"],[0.4444444444444444,\"#bd3786\"],[0.5555555555555556,\"#d8576b\"],[0.6666666666666666,\"#ed7953\"],[0.7777777777777778,\"#fb9f3a\"],[0.8888888888888888,\"#fdca26\"],[1.0,\"#f0f921\"]]}],\"heatmap\":[{\"type\":\"heatmap\",\"colorbar\":{\"outlinewidth\":0,\"ticks\":\"\"},\"colorscale\":[[0.0,\"#0d0887\"],[0.1111111111111111,\"#46039f\"],[0.2222222222222222,\"#7201a8\"],[0.3333333333333333,\"#9c179e\"],[0.4444444444444444,\"#bd3786\"],[0.5555555555555556,\"#d8576b\"],[0.6666666666666666,\"#ed7953\"],[0.7777777777777778,\"#fb9f3a\"],[0.8888888888888888,\"#fdca26\"],[1.0,\"#f0f921\"]]}],\"heatmapgl\":[{\"type\":\"heatmapgl\",\"colorbar\":{\"outlinewidth\":0,\"ticks\":\"\"},\"colorscale\":[[0.0,\"#0d0887\"],[0.1111111111111111,\"#46039f\"],[0.2222222222222222,\"#7201a8\"],[0.3333333333333333,\"#9c179e\"],[0.4444444444444444,\"#bd3786\"],[0.5555555555555556,\"#d8576b\"],[0.6666666666666666,\"#ed7953\"],[0.7777777777777778,\"#fb9f3a\"],[0.8888888888888888,\"#fdca26\"],[1.0,\"#f0f921\"]]}],\"contourcarpet\":[{\"type\":\"contourcarpet\",\"colorbar\":{\"outlinewidth\":0,\"ticks\":\"\"}}],\"contour\":[{\"type\":\"contour\",\"colorbar\":{\"outlinewidth\":0,\"ticks\":\"\"},\"colorscale\":[[0.0,\"#0d0887\"],[0.1111111111111111,\"#46039f\"],[0.2222222222222222,\"#7201a8\"],[0.3333333333333333,\"#9c179e\"],[0.4444444444444444,\"#bd3786\"],[0.5555555555555556,\"#d8576b\"],[0.6666666666666666,\"#ed7953\"],[0.7777777777777778,\"#fb9f3a\"],[0.8888888888888888,\"#fdca26\"],[1.0,\"#f0f921\"]]}],\"surface\":[{\"type\":\"surface\",\"colorbar\":{\"outlinewidth\":0,\"ticks\":\"\"},\"colorscale\":[[0.0,\"#0d0887\"],[0.1111111111111111,\"#46039f\"],[0.2222222222222222,\"#7201a8\"],[0.3333333333333333,\"#9c179e\"],[0.4444444444444444,\"#bd3786\"],[0.5555555555555556,\"#d8576b\"],[0.6666666666666666,\"#ed7953\"],[0.7777777777777778,\"#fb9f3a\"],[0.8888888888888888,\"#fdca26\"],[1.0,\"#f0f921\"]]}],\"mesh3d\":[{\"type\":\"mesh3d\",\"colorbar\":{\"outlinewidth\":0,\"ticks\":\"\"}}],\"scatter\":[{\"fillpattern\":{\"fillmode\":\"overlay\",\"size\":10,\"solidity\":0.2},\"type\":\"scatter\"}],\"parcoords\":[{\"type\":\"parcoords\",\"line\":{\"colorbar\":{\"outlinewidth\":0,\"ticks\":\"\"}}}],\"scatterpolargl\":[{\"type\":\"scatterpolargl\",\"marker\":{\"colorbar\":{\"outlinewidth\":0,\"ticks\":\"\"}}}],\"bar\":[{\"error_x\":{\"color\":\"#2a3f5f\"},\"error_y\":{\"color\":\"#2a3f5f\"},\"marker\":{\"line\":{\"color\":\"#E5ECF6\",\"width\":0.5},\"pattern\":{\"fillmode\":\"overlay\",\"size\":10,\"solidity\":0.2}},\"type\":\"bar\"}],\"scattergeo\":[{\"type\":\"scattergeo\",\"marker\":{\"colorbar\":{\"outlinewidth\":0,\"ticks\":\"\"}}}],\"scatterpolar\":[{\"type\":\"scatterpolar\",\"marker\":{\"colorbar\":{\"outlinewidth\":0,\"ticks\":\"\"}}}],\"histogram\":[{\"marker\":{\"pattern\":{\"fillmode\":\"overlay\",\"size\":10,\"solidity\":0.2}},\"type\":\"histogram\"}],\"scattergl\":[{\"type\":\"scattergl\",\"marker\":{\"colorbar\":{\"outlinewidth\":0,\"ticks\":\"\"}}}],\"scatter3d\":[{\"type\":\"scatter3d\",\"line\":{\"colorbar\":{\"outlinewidth\":0,\"ticks\":\"\"}},\"marker\":{\"colorbar\":{\"outlinewidth\":0,\"ticks\":\"\"}}}],\"scattermapbox\":[{\"type\":\"scattermapbox\",\"marker\":{\"colorbar\":{\"outlinewidth\":0,\"ticks\":\"\"}}}],\"scatterternary\":[{\"type\":\"scatterternary\",\"marker\":{\"colorbar\":{\"outlinewidth\":0,\"ticks\":\"\"}}}],\"scattercarpet\":[{\"type\":\"scattercarpet\",\"marker\":{\"colorbar\":{\"outlinewidth\":0,\"ticks\":\"\"}}}],\"carpet\":[{\"aaxis\":{\"endlinecolor\":\"#2a3f5f\",\"gridcolor\":\"white\",\"linecolor\":\"white\",\"minorgridcolor\":\"white\",\"startlinecolor\":\"#2a3f5f\"},\"baxis\":{\"endlinecolor\":\"#2a3f5f\",\"gridcolor\":\"white\",\"linecolor\":\"white\",\"minorgridcolor\":\"white\",\"startlinecolor\":\"#2a3f5f\"},\"type\":\"carpet\"}],\"table\":[{\"cells\":{\"fill\":{\"color\":\"#EBF0F8\"},\"line\":{\"color\":\"white\"}},\"header\":{\"fill\":{\"color\":\"#C8D4E3\"},\"line\":{\"color\":\"white\"}},\"type\":\"table\"}],\"barpolar\":[{\"marker\":{\"line\":{\"color\":\"#E5ECF6\",\"width\":0.5},\"pattern\":{\"fillmode\":\"overlay\",\"size\":10,\"solidity\":0.2}},\"type\":\"barpolar\"}],\"pie\":[{\"automargin\":true,\"type\":\"pie\"}]},\"layout\":{\"autotypenumbers\":\"strict\",\"colorway\":[\"#636efa\",\"#EF553B\",\"#00cc96\",\"#ab63fa\",\"#FFA15A\",\"#19d3f3\",\"#FF6692\",\"#B6E880\",\"#FF97FF\",\"#FECB52\"],\"font\":{\"color\":\"#2a3f5f\"},\"hovermode\":\"closest\",\"hoverlabel\":{\"align\":\"left\"},\"paper_bgcolor\":\"white\",\"plot_bgcolor\":\"#E5ECF6\",\"polar\":{\"bgcolor\":\"#E5ECF6\",\"angularaxis\":{\"gridcolor\":\"white\",\"linecolor\":\"white\",\"ticks\":\"\"},\"radialaxis\":{\"gridcolor\":\"white\",\"linecolor\":\"white\",\"ticks\":\"\"}},\"ternary\":{\"bgcolor\":\"#E5ECF6\",\"aaxis\":{\"gridcolor\":\"white\",\"linecolor\":\"white\",\"ticks\":\"\"},\"baxis\":{\"gridcolor\":\"white\",\"linecolor\":\"white\",\"ticks\":\"\"},\"caxis\":{\"gridcolor\":\"white\",\"linecolor\":\"white\",\"ticks\":\"\"}},\"coloraxis\":{\"colorbar\":{\"outlinewidth\":0,\"ticks\":\"\"}},\"colorscale\":{\"sequential\":[[0.0,\"#0d0887\"],[0.1111111111111111,\"#46039f\"],[0.2222222222222222,\"#7201a8\"],[0.3333333333333333,\"#9c179e\"],[0.4444444444444444,\"#bd3786\"],[0.5555555555555556,\"#d8576b\"],[0.6666666666666666,\"#ed7953\"],[0.7777777777777778,\"#fb9f3a\"],[0.8888888888888888,\"#fdca26\"],[1.0,\"#f0f921\"]],\"sequentialminus\":[[0.0,\"#0d0887\"],[0.1111111111111111,\"#46039f\"],[0.2222222222222222,\"#7201a8\"],[0.3333333333333333,\"#9c179e\"],[0.4444444444444444,\"#bd3786\"],[0.5555555555555556,\"#d8576b\"],[0.6666666666666666,\"#ed7953\"],[0.7777777777777778,\"#fb9f3a\"],[0.8888888888888888,\"#fdca26\"],[1.0,\"#f0f921\"]],\"diverging\":[[0,\"#8e0152\"],[0.1,\"#c51b7d\"],[0.2,\"#de77ae\"],[0.3,\"#f1b6da\"],[0.4,\"#fde0ef\"],[0.5,\"#f7f7f7\"],[0.6,\"#e6f5d0\"],[0.7,\"#b8e186\"],[0.8,\"#7fbc41\"],[0.9,\"#4d9221\"],[1,\"#276419\"]]},\"xaxis\":{\"gridcolor\":\"white\",\"linecolor\":\"white\",\"ticks\":\"\",\"title\":{\"standoff\":15},\"zerolinecolor\":\"white\",\"automargin\":true,\"zerolinewidth\":2},\"yaxis\":{\"gridcolor\":\"white\",\"linecolor\":\"white\",\"ticks\":\"\",\"title\":{\"standoff\":15},\"zerolinecolor\":\"white\",\"automargin\":true,\"zerolinewidth\":2},\"scene\":{\"xaxis\":{\"backgroundcolor\":\"#E5ECF6\",\"gridcolor\":\"white\",\"linecolor\":\"white\",\"showbackground\":true,\"ticks\":\"\",\"zerolinecolor\":\"white\",\"gridwidth\":2},\"yaxis\":{\"backgroundcolor\":\"#E5ECF6\",\"gridcolor\":\"white\",\"linecolor\":\"white\",\"showbackground\":true,\"ticks\":\"\",\"zerolinecolor\":\"white\",\"gridwidth\":2},\"zaxis\":{\"backgroundcolor\":\"#E5ECF6\",\"gridcolor\":\"white\",\"linecolor\":\"white\",\"showbackground\":true,\"ticks\":\"\",\"zerolinecolor\":\"white\",\"gridwidth\":2}},\"shapedefaults\":{\"line\":{\"color\":\"#2a3f5f\"}},\"annotationdefaults\":{\"arrowcolor\":\"#2a3f5f\",\"arrowhead\":0,\"arrowwidth\":1},\"geo\":{\"bgcolor\":\"white\",\"landcolor\":\"#E5ECF6\",\"subunitcolor\":\"white\",\"showland\":true,\"showlakes\":true,\"lakecolor\":\"white\"},\"title\":{\"x\":0.05},\"mapbox\":{\"style\":\"light\"}}},\"legend\":{\"itemsizing\":\"constant\"},\"title\":{\"text\":\"Scatter Plot do PCA de cada individuo\"},\"xaxis\":{\"title\":{\"text\":\"PCA1\"}},\"yaxis\":{\"title\":{\"text\":\"PCA2\"}},\"showlegend\":true,\"height\":900,\"width\":1500},                        {\"responsive\": true}                    ).then(function(){\n",
       "                            \n",
       "var gd = document.getElementById('4dde664a-7082-48db-9711-6479d1473d9d');\n",
       "var x = new MutationObserver(function (mutations, observer) {{\n",
       "        var display = window.getComputedStyle(gd).display;\n",
       "        if (!display || display === 'none') {{\n",
       "            console.log([gd, 'removed!']);\n",
       "            Plotly.purge(gd);\n",
       "            observer.disconnect();\n",
       "        }}\n",
       "}});\n",
       "\n",
       "// Listen for the removal of the full notebook cells\n",
       "var notebookContainer = gd.closest('#notebook-container');\n",
       "if (notebookContainer) {{\n",
       "    x.observe(notebookContainer, {childList: true});\n",
       "}}\n",
       "\n",
       "// Listen for the clearing of the current output cell\n",
       "var outputEl = gd.closest('.output');\n",
       "if (outputEl) {{\n",
       "    x.observe(outputEl, {childList: true});\n",
       "}}\n",
       "\n",
       "                        })                };                });            </script>        </div>"
      ]
     },
     "metadata": {},
     "output_type": "display_data"
    }
   ],
   "source": [
    "import plotly.graph_objects as go\n",
    "\n",
    "fig = go.Figure()\n",
    "\n",
    "colors = {\n",
    "    'Q1': 'blue',    # Quadrante 1 (x > 0, y > 0)\n",
    "    'Q2': 'green',   # Quadrante 2 (x < 0, y > 0)\n",
    "    'Q3': 'red',     # Quadrante 3 (x < 0, y < 0)\n",
    "    'Q4': 'purple'   # Quadrante 4 (x > 0, y < 0)\n",
    "}\n",
    "\n",
    "# Função para determinar o quadrante\n",
    "def get_quadrant(x, y):\n",
    "    if x > 0 and y > 0:\n",
    "        return 'Q1'\n",
    "    elif x < 0 and y > 0:\n",
    "        return 'Q2'\n",
    "    elif x < 0 and y < 0:\n",
    "        return 'Q3'\n",
    "    else:\n",
    "        return 'Q4'\n",
    "\n",
    "# Adicionando os pontos ao gráfico\n",
    "for idx, index in enumerate(data_horm[\"ID\"]):\n",
    "    x = X_pca.loc[idx, \"PCA1\"]\n",
    "    y = X_pca.loc[idx, \"PCA2\"]\n",
    "    quadrant = get_quadrant(x, y)\n",
    "    color = colors[quadrant]\n",
    "    label = f'Quadrante {quadrant[-1]}'\n",
    "    \n",
    "    fig.add_trace(go.Scatter(\n",
    "        x=[x], y=[y],\n",
    "        mode='markers',\n",
    "        marker=dict(color=color, size=10),\n",
    "        name=label,\n",
    "        customdata=[index],  # Adiciona o ID ao customdata\n",
    "        hovertemplate='ID: %{customdata}<br>PCA1: %{x}<br>PCA2: %{y}<extra></extra>',  # Formata o texto de hover\n",
    "        legendgroup=quadrant,  # Agrupa os pontos por quadrante\n",
    "        showlegend=(label not in [trace.name for trace in fig.data])  # Mostra a legenda apenas uma vez por quadrante\n",
    "    ))\n",
    "\n",
    "# Adicionando as linhas divisórias\n",
    "fig.add_trace(go.Scatter(\n",
    "    x=[min(X_pca[\"PCA1\"]), max(X_pca[\"PCA1\"])],\n",
    "    y=[0, 0],\n",
    "    mode='lines',\n",
    "    line=dict(color='red', dash='dash'),\n",
    "    showlegend=False\n",
    "))\n",
    "fig.add_trace(go.Scatter(\n",
    "    x=[0, 0],\n",
    "    y=[min(X_pca[\"PCA2\"]), max(X_pca[\"PCA2\"])],\n",
    "    mode='lines',\n",
    "    line=dict(color='red', dash='dash'),\n",
    "    showlegend=False\n",
    "))\n",
    "\n",
    "# Atualizando o layout\n",
    "fig.update_layout(\n",
    "    title='Scatter Plot do PCA de cada individuo',\n",
    "    xaxis_title='PCA1',\n",
    "    yaxis_title='PCA2',\n",
    "    showlegend=True,\n",
    "    height=900,  # Aumenta a altura do gráfico\n",
    "    width=1500,   # Largura do gráfico\n",
    "    legend=dict(itemsizing='constant')\n",
    ")\n",
    "\n",
    "fig.show()"
   ]
  },
  {
   "cell_type": "code",
   "execution_count": 158,
   "metadata": {},
   "outputs": [],
   "source": [
    "data_horm.loc[((X_pca[\"PCA1\"] > 0) & (X_pca[\"PCA2\"] > 0)).values, \"quadrante\"] = \"Q1\"\n",
    "data_horm.loc[((X_pca[\"PCA1\"] < 0) & (X_pca[\"PCA2\"] > 0)).values, \"quadrante\"] = \"Q2\"\n",
    "data_horm.loc[((X_pca[\"PCA1\"] < 0) & (X_pca[\"PCA2\"] < 0)).values, \"quadrante\"] = \"Q3\"\n",
    "data_horm.loc[((X_pca[\"PCA1\"] > 0) & (X_pca[\"PCA2\"] < 0)).values, \"quadrante\"] = \"Q4\""
   ]
  },
  {
   "cell_type": "code",
   "execution_count": 181,
   "metadata": {},
   "outputs": [
    {
     "data": {
      "text/html": [
       "<div>\n",
       "<style scoped>\n",
       "    .dataframe tbody tr th:only-of-type {\n",
       "        vertical-align: middle;\n",
       "    }\n",
       "\n",
       "    .dataframe tbody tr th {\n",
       "        vertical-align: top;\n",
       "    }\n",
       "\n",
       "    .dataframe thead th {\n",
       "        text-align: right;\n",
       "    }\n",
       "</style>\n",
       "<table border=\"1\" class=\"dataframe\">\n",
       "  <thead>\n",
       "    <tr style=\"text-align: right;\">\n",
       "      <th></th>\n",
       "      <th>Total sperm count</th>\n",
       "      <th>Sperm conc</th>\n",
       "      <th>Progressive motility</th>\n",
       "      <th>Non progressive motility</th>\n",
       "      <th>Sperm vitality</th>\n",
       "      <th>Serum SHBG</th>\n",
       "      <th>Serum AMH</th>\n",
       "      <th>Serum inhibin B</th>\n",
       "      <th>Immotile sperm</th>\n",
       "      <th>Seminal AMH</th>\n",
       "    </tr>\n",
       "    <tr>\n",
       "      <th>quadrante</th>\n",
       "      <th></th>\n",
       "      <th></th>\n",
       "      <th></th>\n",
       "      <th></th>\n",
       "      <th></th>\n",
       "      <th></th>\n",
       "      <th></th>\n",
       "      <th></th>\n",
       "      <th></th>\n",
       "      <th></th>\n",
       "    </tr>\n",
       "  </thead>\n",
       "  <tbody>\n",
       "    <tr>\n",
       "      <th>Q1</th>\n",
       "      <td>150.275000</td>\n",
       "      <td>54.65</td>\n",
       "      <td>16.000000</td>\n",
       "      <td>29.250000</td>\n",
       "      <td>84.500000</td>\n",
       "      <td>33.25</td>\n",
       "      <td>56.250000</td>\n",
       "      <td>199.000000</td>\n",
       "      <td>54.75</td>\n",
       "      <td>114.250000</td>\n",
       "    </tr>\n",
       "    <tr>\n",
       "      <th>Q2</th>\n",
       "      <td>26.280000</td>\n",
       "      <td>6.82</td>\n",
       "      <td>21.800000</td>\n",
       "      <td>30.200000</td>\n",
       "      <td>84.400000</td>\n",
       "      <td>27.80</td>\n",
       "      <td>33.000000</td>\n",
       "      <td>114.000000</td>\n",
       "      <td>48.00</td>\n",
       "      <td>12.200000</td>\n",
       "    </tr>\n",
       "    <tr>\n",
       "      <th>Q3</th>\n",
       "      <td>81.283333</td>\n",
       "      <td>17.75</td>\n",
       "      <td>33.166667</td>\n",
       "      <td>34.833333</td>\n",
       "      <td>87.166667</td>\n",
       "      <td>19.50</td>\n",
       "      <td>27.833333</td>\n",
       "      <td>97.333333</td>\n",
       "      <td>32.00</td>\n",
       "      <td>8.833333</td>\n",
       "    </tr>\n",
       "    <tr>\n",
       "      <th>Q4</th>\n",
       "      <td>206.940000</td>\n",
       "      <td>60.72</td>\n",
       "      <td>29.400000</td>\n",
       "      <td>37.400000</td>\n",
       "      <td>87.600000</td>\n",
       "      <td>27.00</td>\n",
       "      <td>29.000000</td>\n",
       "      <td>163.000000</td>\n",
       "      <td>33.20</td>\n",
       "      <td>24.200000</td>\n",
       "    </tr>\n",
       "  </tbody>\n",
       "</table>\n",
       "</div>"
      ],
      "text/plain": [
       "           Total sperm count  Sperm conc  Progressive motility  \\\n",
       "quadrante                                                        \n",
       "Q1                150.275000       54.65             16.000000   \n",
       "Q2                 26.280000        6.82             21.800000   \n",
       "Q3                 81.283333       17.75             33.166667   \n",
       "Q4                206.940000       60.72             29.400000   \n",
       "\n",
       "           Non progressive motility  Sperm vitality  Serum SHBG  Serum AMH  \\\n",
       "quadrante                                                                    \n",
       "Q1                        29.250000       84.500000       33.25  56.250000   \n",
       "Q2                        30.200000       84.400000       27.80  33.000000   \n",
       "Q3                        34.833333       87.166667       19.50  27.833333   \n",
       "Q4                        37.400000       87.600000       27.00  29.000000   \n",
       "\n",
       "           Serum inhibin B  Immotile sperm  Seminal AMH  \n",
       "quadrante                                                \n",
       "Q1              199.000000           54.75   114.250000  \n",
       "Q2              114.000000           48.00    12.200000  \n",
       "Q3               97.333333           32.00     8.833333  \n",
       "Q4              163.000000           33.20    24.200000  "
      ]
     },
     "execution_count": 181,
     "metadata": {},
     "output_type": "execute_result"
    }
   ],
   "source": [
    "list_feats_impo = list(loadings[\"PCA2\"].sort_values().index)\n",
    "data_horm.drop(\"ID\", axis=1).groupby([\"quadrante\"]).mean().loc[:, list_feats_impo[:5] + list_feats_impo[(-5):]]"
   ]
  },
  {
   "cell_type": "code",
   "execution_count": 104,
   "metadata": {},
   "outputs": [
    {
     "data": {
      "text/html": [
       "<div>\n",
       "<style scoped>\n",
       "    .dataframe tbody tr th:only-of-type {\n",
       "        vertical-align: middle;\n",
       "    }\n",
       "\n",
       "    .dataframe tbody tr th {\n",
       "        vertical-align: top;\n",
       "    }\n",
       "\n",
       "    .dataframe thead th {\n",
       "        text-align: right;\n",
       "    }\n",
       "</style>\n",
       "<table border=\"1\" class=\"dataframe\">\n",
       "  <thead>\n",
       "    <tr style=\"text-align: right;\">\n",
       "      <th></th>\n",
       "      <th>Total sperm count</th>\n",
       "      <th>Seminal AMH</th>\n",
       "      <th>linhas</th>\n",
       "    </tr>\n",
       "    <tr>\n",
       "      <th>classe_test</th>\n",
       "      <th></th>\n",
       "      <th></th>\n",
       "      <th></th>\n",
       "    </tr>\n",
       "  </thead>\n",
       "  <tbody>\n",
       "    <tr>\n",
       "      <th>0</th>\n",
       "      <td>85.533333</td>\n",
       "      <td>12.333333</td>\n",
       "      <td>3</td>\n",
       "    </tr>\n",
       "    <tr>\n",
       "      <th>1</th>\n",
       "      <td>124.188889</td>\n",
       "      <td>32.555556</td>\n",
       "      <td>9</td>\n",
       "    </tr>\n",
       "    <tr>\n",
       "      <th>2</th>\n",
       "      <td>72.220000</td>\n",
       "      <td>50.800000</td>\n",
       "      <td>5</td>\n",
       "    </tr>\n",
       "    <tr>\n",
       "      <th>3</th>\n",
       "      <td>173.166667</td>\n",
       "      <td>36.000000</td>\n",
       "      <td>3</td>\n",
       "    </tr>\n",
       "  </tbody>\n",
       "</table>\n",
       "</div>"
      ],
      "text/plain": [
       "             Total sperm count  Seminal AMH  linhas\n",
       "classe_test                                        \n",
       "0                    85.533333    12.333333       3\n",
       "1                   124.188889    32.555556       9\n",
       "2                    72.220000    50.800000       5\n",
       "3                   173.166667    36.000000       3"
      ]
     },
     "execution_count": 104,
     "metadata": {},
     "output_type": "execute_result"
    }
   ],
   "source": [
    "# data_horm[\"classe_test\"] = 0\n",
    "# data_horm.loc[data_horm[\"Age\"] < 30, \"classe_test\"] = 0\n",
    "# data_horm.loc[(data_horm[\"Age\"] >= 30) & (data_horm[\"Age\"] < 40), \"classe_test\"] = 1\n",
    "# data_horm.loc[(data_horm[\"Age\"] >= 40) & (data_horm[\"Age\"] < 50), \"classe_test\"] = 2\n",
    "# data_horm.loc[(data_horm[\"Age\"] >= 50), \"classe_test\"] = 3\n",
    "# data_horm[[\"classe_test\", \"Total sperm count\", \"Seminal AMH\"]].groupby(\"classe_test\").mean().join(\n",
    "#     data_horm[[\"classe_test\", \"Total sperm count\"]].groupby(\"classe_test\").count().rename(columns={\"Total sperm count\": \"linhas\"}),\n",
    "#     how=\"inner\"\n",
    "# )"
   ]
  }
 ],
 "metadata": {
  "kernelspec": {
   "display_name": "template-hooks-75HnZkhL-py3.10",
   "language": "python",
   "name": "python3"
  },
  "language_info": {
   "codemirror_mode": {
    "name": "ipython",
    "version": 3
   },
   "file_extension": ".py",
   "mimetype": "text/x-python",
   "name": "python",
   "nbconvert_exporter": "python",
   "pygments_lexer": "ipython3",
   "version": "3.10.12"
  }
 },
 "nbformat": 4,
 "nbformat_minor": 2
}
