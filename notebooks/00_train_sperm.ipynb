{
 "cells": [
  {
   "cell_type": "markdown",
   "metadata": {},
   "source": [
    "# Imports"
   ]
  },
  {
   "cell_type": "code",
   "execution_count": 1,
   "metadata": {},
   "outputs": [],
   "source": [
    "# %pip install ultralytics"
   ]
  },
  {
   "cell_type": "code",
   "execution_count": 28,
   "metadata": {},
   "outputs": [
    {
     "data": {
      "text/plain": [
       "PosixPath('/home/manuel/projects/repos/cin-dataviz')"
      ]
     },
     "execution_count": 28,
     "metadata": {},
     "output_type": "execute_result"
    }
   ],
   "source": [
    "from nb_utils import set_root\n",
    "PROJECT_DIR = set_root(2)"
   ]
  },
  {
   "cell_type": "code",
   "execution_count": 2,
   "metadata": {},
   "outputs": [
    {
     "name": "stdout",
     "output_type": "stream",
     "text": [
      "Ultralytics YOLOv8.2.103 🚀 Python-3.10.12 torch-2.4.1+cu121 CUDA:0 (NVIDIA GeForce RTX 4060 Ti, 8188MiB)\n",
      "Setup complete ✅ (16 CPUs, 15.6 GB RAM, 109.0/1006.9 GB disk)\n"
     ]
    }
   ],
   "source": [
    "import numpy as np\n",
    "import pandas as pd\n",
    "import supervision as sv\n",
    "\n",
    "import ultralytics\n",
    "from ultralytics import YOLO\n",
    "ultralytics.checks()"
   ]
  },
  {
   "cell_type": "markdown",
   "metadata": {},
   "source": [
    "# Parameters"
   ]
  },
  {
   "cell_type": "code",
   "execution_count": 29,
   "metadata": {},
   "outputs": [],
   "source": [
    "path_data = PROJECT_DIR / 'data'\n",
    "path_intermediate = path_data / \"02_intermediate\"\n",
    "\n",
    "file_path_tracker = path_intermediate / 'tracker.csv'"
   ]
  },
  {
   "cell_type": "markdown",
   "metadata": {},
   "source": [
    "# Treinamento do Modelo"
   ]
  },
  {
   "cell_type": "code",
   "execution_count": 4,
   "metadata": {},
   "outputs": [
    {
     "name": "stdout",
     "output_type": "stream",
     "text": [
      "New https://pypi.org/project/ultralytics/8.3.6 available 😃 Update with 'pip install -U ultralytics'\n",
      "Ultralytics YOLOv8.2.103 🚀 Python-3.10.12 torch-2.4.1+cu121 CUDA:0 (NVIDIA GeForce RTX 4060 Ti, 8188MiB)\n",
      "\u001b[34m\u001b[1mengine/trainer: \u001b[0mtask=detect, mode=train, model=yolov8s.pt, data=data.yaml, epochs=3, time=None, patience=100, batch=16, imgsz=640, save=True, save_period=-1, cache=False, device=None, workers=8, project=None, name=train14, exist_ok=False, pretrained=True, optimizer=auto, verbose=True, seed=0, deterministic=True, single_cls=False, rect=False, cos_lr=False, close_mosaic=10, resume=False, amp=True, fraction=1.0, profile=False, freeze=None, multi_scale=False, overlap_mask=True, mask_ratio=4, dropout=0.0, val=True, split=val, save_json=False, save_hybrid=False, conf=None, iou=0.7, max_det=300, half=False, dnn=False, plots=True, source=None, vid_stride=1, stream_buffer=False, visualize=False, augment=False, agnostic_nms=False, classes=None, retina_masks=False, embed=None, show=False, save_frames=False, save_txt=False, save_conf=False, save_crop=False, show_labels=True, show_conf=True, show_boxes=True, line_width=None, format=torchscript, keras=False, optimize=False, int8=False, dynamic=False, simplify=True, opset=None, workspace=4, nms=False, lr0=0.01, lrf=0.01, momentum=0.937, weight_decay=0.0005, warmup_epochs=3.0, warmup_momentum=0.8, warmup_bias_lr=0.1, box=7.5, cls=0.5, dfl=1.5, pose=12.0, kobj=1.0, label_smoothing=0.0, nbs=64, hsv_h=0.015, hsv_s=0.7, hsv_v=0.4, degrees=0.0, translate=0.1, scale=0.5, shear=0.0, perspective=0.0, flipud=0.0, fliplr=0.5, bgr=0.0, mosaic=1.0, mixup=0.0, copy_paste=0.0, auto_augment=randaugment, erasing=0.4, crop_fraction=1.0, cfg=None, tracker=botsort.yaml, save_dir=runs/detect/train14\n",
      "Overriding model.yaml nc=80 with nc=3\n",
      "\n",
      "                   from  n    params  module                                       arguments                     \n",
      "  0                  -1  1       928  ultralytics.nn.modules.conv.Conv             [3, 32, 3, 2]                 \n",
      "  1                  -1  1     18560  ultralytics.nn.modules.conv.Conv             [32, 64, 3, 2]                \n",
      "  2                  -1  1     29056  ultralytics.nn.modules.block.C2f             [64, 64, 1, True]             \n",
      "  3                  -1  1     73984  ultralytics.nn.modules.conv.Conv             [64, 128, 3, 2]               \n",
      "  4                  -1  2    197632  ultralytics.nn.modules.block.C2f             [128, 128, 2, True]           \n",
      "  5                  -1  1    295424  ultralytics.nn.modules.conv.Conv             [128, 256, 3, 2]              \n",
      "  6                  -1  2    788480  ultralytics.nn.modules.block.C2f             [256, 256, 2, True]           \n",
      "  7                  -1  1   1180672  ultralytics.nn.modules.conv.Conv             [256, 512, 3, 2]              \n",
      "  8                  -1  1   1838080  ultralytics.nn.modules.block.C2f             [512, 512, 1, True]           \n",
      "  9                  -1  1    656896  ultralytics.nn.modules.block.SPPF            [512, 512, 5]                 \n",
      " 10                  -1  1         0  torch.nn.modules.upsampling.Upsample         [None, 2, 'nearest']          \n",
      " 11             [-1, 6]  1         0  ultralytics.nn.modules.conv.Concat           [1]                           \n",
      " 12                  -1  1    591360  ultralytics.nn.modules.block.C2f             [768, 256, 1]                 \n",
      " 13                  -1  1         0  torch.nn.modules.upsampling.Upsample         [None, 2, 'nearest']          \n",
      " 14             [-1, 4]  1         0  ultralytics.nn.modules.conv.Concat           [1]                           \n",
      " 15                  -1  1    148224  ultralytics.nn.modules.block.C2f             [384, 128, 1]                 \n",
      " 16                  -1  1    147712  ultralytics.nn.modules.conv.Conv             [128, 128, 3, 2]              \n",
      " 17            [-1, 12]  1         0  ultralytics.nn.modules.conv.Concat           [1]                           \n",
      " 18                  -1  1    493056  ultralytics.nn.modules.block.C2f             [384, 256, 1]                 \n",
      " 19                  -1  1    590336  ultralytics.nn.modules.conv.Conv             [256, 256, 3, 2]              \n",
      " 20             [-1, 9]  1         0  ultralytics.nn.modules.conv.Concat           [1]                           \n",
      " 21                  -1  1   1969152  ultralytics.nn.modules.block.C2f             [768, 512, 1]                 \n",
      " 22        [15, 18, 21]  1   2117209  ultralytics.nn.modules.head.Detect           [3, [128, 256, 512]]          \n",
      "Model summary: 225 layers, 11,136,761 parameters, 11,136,745 gradients, 28.7 GFLOPs\n",
      "\n",
      "Transferred 349/355 items from pretrained weights\n",
      "Freezing layer 'model.22.dfl.conv.weight'\n",
      "\u001b[34m\u001b[1mAMP: \u001b[0mrunning Automatic Mixed Precision (AMP) checks with YOLOv8n...\n",
      "\u001b[34m\u001b[1mAMP: \u001b[0mchecks passed ✅\n"
     ]
    },
    {
     "name": "stderr",
     "output_type": "stream",
     "text": [
      "\u001b[34m\u001b[1mtrain: \u001b[0mScanning /home/manuel/projects/repos/cin-dataviz/datasets/data/train/labels.cache... 191 images, 0 backgrounds, 0 corrupt: 100%|██████████| 191/191 [00:00<?, ?it/s]\n",
      "\u001b[34m\u001b[1mval: \u001b[0mScanning /home/manuel/projects/repos/cin-dataviz/datasets/data/valid/labels.cache... 10 images, 0 backgrounds, 0 corrupt: 100%|██████████| 10/10 [00:00<?, ?it/s]\n"
     ]
    },
    {
     "name": "stdout",
     "output_type": "stream",
     "text": [
      "Plotting labels to runs/detect/train14/labels.jpg... \n",
      "\u001b[34m\u001b[1moptimizer:\u001b[0m 'optimizer=auto' found, ignoring 'lr0=0.01' and 'momentum=0.937' and determining best 'optimizer', 'lr0' and 'momentum' automatically... \n",
      "\u001b[34m\u001b[1moptimizer:\u001b[0m AdamW(lr=0.001429, momentum=0.9) with parameter groups 57 weight(decay=0.0), 64 weight(decay=0.0005), 63 bias(decay=0.0)\n",
      "Image sizes 640 train, 640 val\n",
      "Using 8 dataloader workers\n",
      "Logging results to \u001b[1mruns/detect/train14\u001b[0m\n",
      "Starting training for 3 epochs...\n",
      "\n",
      "      Epoch    GPU_mem   box_loss   cls_loss   dfl_loss  Instances       Size\n"
     ]
    },
    {
     "name": "stderr",
     "output_type": "stream",
     "text": [
      "        1/3      4.55G      3.196      4.125      1.468        989        640: 100%|██████████| 12/12 [00:04<00:00,  2.44it/s]\n",
      "                 Class     Images  Instances      Box(P          R      mAP50  mAP50-95): 100%|██████████| 1/1 [00:00<00:00,  9.21it/s]"
     ]
    },
    {
     "name": "stdout",
     "output_type": "stream",
     "text": [
      "                   all         10        400      0.742      0.298      0.216     0.0701\n"
     ]
    },
    {
     "name": "stderr",
     "output_type": "stream",
     "text": [
      "\n"
     ]
    },
    {
     "name": "stdout",
     "output_type": "stream",
     "text": [
      "\n",
      "      Epoch    GPU_mem   box_loss   cls_loss   dfl_loss  Instances       Size\n"
     ]
    },
    {
     "name": "stderr",
     "output_type": "stream",
     "text": [
      "        2/3       4.6G      2.024      1.187     0.9983        934        640: 100%|██████████| 12/12 [00:02<00:00,  4.68it/s]\n",
      "                 Class     Images  Instances      Box(P          R      mAP50  mAP50-95): 100%|██████████| 1/1 [00:00<00:00, 15.30it/s]"
     ]
    },
    {
     "name": "stdout",
     "output_type": "stream",
     "text": [
      "                   all         10        400      0.807      0.359       0.47      0.157\n"
     ]
    },
    {
     "name": "stderr",
     "output_type": "stream",
     "text": [
      "\n"
     ]
    },
    {
     "name": "stdout",
     "output_type": "stream",
     "text": [
      "\n",
      "      Epoch    GPU_mem   box_loss   cls_loss   dfl_loss  Instances       Size\n"
     ]
    },
    {
     "name": "stderr",
     "output_type": "stream",
     "text": [
      "        3/3      4.91G      1.885     0.9676      0.977        816        640: 100%|██████████| 12/12 [00:02<00:00,  4.82it/s]\n",
      "                 Class     Images  Instances      Box(P          R      mAP50  mAP50-95): 100%|██████████| 1/1 [00:00<00:00, 15.88it/s]"
     ]
    },
    {
     "name": "stdout",
     "output_type": "stream",
     "text": [
      "                   all         10        400      0.395      0.597      0.601      0.201\n"
     ]
    },
    {
     "name": "stderr",
     "output_type": "stream",
     "text": [
      "\n"
     ]
    },
    {
     "name": "stdout",
     "output_type": "stream",
     "text": [
      "\n",
      "3 epochs completed in 0.003 hours.\n",
      "Optimizer stripped from runs/detect/train14/weights/last.pt, 22.5MB\n",
      "Optimizer stripped from runs/detect/train14/weights/best.pt, 22.5MB\n",
      "\n",
      "Validating runs/detect/train14/weights/best.pt...\n",
      "Ultralytics YOLOv8.2.103 🚀 Python-3.10.12 torch-2.4.1+cu121 CUDA:0 (NVIDIA GeForce RTX 4060 Ti, 8188MiB)\n",
      "Model summary (fused): 168 layers, 11,126,745 parameters, 0 gradients, 28.4 GFLOPs\n"
     ]
    },
    {
     "name": "stderr",
     "output_type": "stream",
     "text": [
      "                 Class     Images  Instances      Box(P          R      mAP50  mAP50-95): 100%|██████████| 1/1 [00:00<00:00,  4.13it/s]\n"
     ]
    },
    {
     "name": "stdout",
     "output_type": "stream",
     "text": [
      "                   all         10        400      0.394      0.597      0.604      0.201\n",
      "                 sperm         10        380       0.43      0.832      0.687      0.211\n",
      "               cluster         10         20      0.358      0.363       0.52      0.192\n",
      "Speed: 0.2ms preprocess, 7.7ms inference, 0.0ms loss, 1.4ms postprocess per image\n",
      "Results saved to \u001b[1mruns/detect/train14\u001b[0m\n",
      "Ultralytics YOLOv8.2.103 🚀 Python-3.10.12 torch-2.4.1+cu121 CUDA:0 (NVIDIA GeForce RTX 4060 Ti, 8188MiB)\n",
      "Model summary (fused): 168 layers, 11,126,745 parameters, 0 gradients, 28.4 GFLOPs\n"
     ]
    },
    {
     "name": "stderr",
     "output_type": "stream",
     "text": [
      "\u001b[34m\u001b[1mval: \u001b[0mScanning /home/manuel/projects/repos/cin-dataviz/datasets/data/valid/labels.cache... 10 images, 0 backgrounds, 0 corrupt: 100%|██████████| 10/10 [00:00<?, ?it/s]\n",
      "                 Class     Images  Instances      Box(P          R      mAP50  mAP50-95): 100%|██████████| 1/1 [00:00<00:00,  2.06it/s]\n"
     ]
    },
    {
     "name": "stdout",
     "output_type": "stream",
     "text": [
      "                   all         10        400      0.399      0.604      0.598        0.2\n",
      "                 sperm         10        380      0.433      0.834      0.676      0.209\n",
      "               cluster         10         20      0.365      0.374      0.521      0.192\n",
      "Speed: 0.5ms preprocess, 13.2ms inference, 0.0ms loss, 7.8ms postprocess per image\n",
      "Results saved to \u001b[1mruns/detect/train142\u001b[0m\n"
     ]
    }
   ],
   "source": [
    "# Load a model\n",
    "model = YOLO('yolov8s.yaml')  # build a new model from scratch\n",
    "model = YOLO('yolov8s.pt')  # load a pretrained model (recommended for training)\n",
    "\n",
    "# Use the model\n",
    "results = model.train(data='data.yaml', epochs=3)  # train the model\n",
    "results = model.val()  # evaluate model performance on the validation set"
   ]
  },
  {
   "cell_type": "markdown",
   "metadata": {},
   "source": [
    "**Detecção em Vídeo**"
   ]
  },
  {
   "cell_type": "code",
   "execution_count": 7,
   "metadata": {},
   "outputs": [
    {
     "name": "stdout",
     "output_type": "stream",
     "text": [
      "\n",
      "0: 416x640 24 sperms, 38.8ms\n",
      "Speed: 1.3ms preprocess, 38.8ms inference, 1.9ms postprocess per image at shape (1, 3, 416, 640)\n",
      "\n",
      "0: 416x640 25 sperms, 12.1ms\n",
      "Speed: 3.6ms preprocess, 12.1ms inference, 1.5ms postprocess per image at shape (1, 3, 416, 640)\n",
      "\n",
      "0: 416x640 22 sperms, 16.2ms\n",
      "Speed: 2.3ms preprocess, 16.2ms inference, 2.1ms postprocess per image at shape (1, 3, 416, 640)\n",
      "\n",
      "0: 416x640 24 sperms, 11.7ms\n",
      "Speed: 1.6ms preprocess, 11.7ms inference, 5.8ms postprocess per image at shape (1, 3, 416, 640)\n",
      "\n",
      "0: 416x640 26 sperms, 10.4ms\n",
      "Speed: 1.6ms preprocess, 10.4ms inference, 6.0ms postprocess per image at shape (1, 3, 416, 640)\n",
      "\n",
      "0: 416x640 28 sperms, 8.1ms\n",
      "Speed: 1.5ms preprocess, 8.1ms inference, 1.3ms postprocess per image at shape (1, 3, 416, 640)\n",
      "\n",
      "0: 416x640 28 sperms, 8.8ms\n",
      "Speed: 1.5ms preprocess, 8.8ms inference, 1.5ms postprocess per image at shape (1, 3, 416, 640)\n",
      "\n",
      "0: 416x640 26 sperms, 8.1ms\n",
      "Speed: 1.3ms preprocess, 8.1ms inference, 1.2ms postprocess per image at shape (1, 3, 416, 640)\n",
      "\n",
      "0: 416x640 23 sperms, 8.9ms\n",
      "Speed: 1.3ms preprocess, 8.9ms inference, 1.3ms postprocess per image at shape (1, 3, 416, 640)\n",
      "\n",
      "0: 416x640 21 sperms, 7.9ms\n",
      "Speed: 1.6ms preprocess, 7.9ms inference, 1.2ms postprocess per image at shape (1, 3, 416, 640)\n",
      "\n",
      "0: 416x640 20 sperms, 9.1ms\n",
      "Speed: 1.7ms preprocess, 9.1ms inference, 1.4ms postprocess per image at shape (1, 3, 416, 640)\n",
      "\n",
      "0: 416x640 27 sperms, 7.1ms\n",
      "Speed: 1.5ms preprocess, 7.1ms inference, 1.3ms postprocess per image at shape (1, 3, 416, 640)\n",
      "\n",
      "0: 416x640 27 sperms, 8.4ms\n",
      "Speed: 1.7ms preprocess, 8.4ms inference, 1.3ms postprocess per image at shape (1, 3, 416, 640)\n",
      "\n",
      "0: 416x640 23 sperms, 6.7ms\n",
      "Speed: 1.4ms preprocess, 6.7ms inference, 1.5ms postprocess per image at shape (1, 3, 416, 640)\n",
      "\n",
      "0: 416x640 20 sperms, 6.7ms\n",
      "Speed: 1.9ms preprocess, 6.7ms inference, 3.3ms postprocess per image at shape (1, 3, 416, 640)\n",
      "\n",
      "0: 416x640 19 sperms, 7.9ms\n",
      "Speed: 1.5ms preprocess, 7.9ms inference, 1.2ms postprocess per image at shape (1, 3, 416, 640)\n",
      "\n",
      "0: 416x640 28 sperms, 7.3ms\n",
      "Speed: 1.4ms preprocess, 7.3ms inference, 1.3ms postprocess per image at shape (1, 3, 416, 640)\n",
      "\n",
      "0: 416x640 27 sperms, 6.5ms\n",
      "Speed: 1.4ms preprocess, 6.5ms inference, 3.0ms postprocess per image at shape (1, 3, 416, 640)\n",
      "\n",
      "0: 416x640 27 sperms, 7.2ms\n",
      "Speed: 1.6ms preprocess, 7.2ms inference, 1.3ms postprocess per image at shape (1, 3, 416, 640)\n",
      "\n",
      "0: 416x640 24 sperms, 6.9ms\n",
      "Speed: 1.6ms preprocess, 6.9ms inference, 1.3ms postprocess per image at shape (1, 3, 416, 640)\n",
      "\n",
      "0: 416x640 21 sperms, 8.2ms\n",
      "Speed: 1.5ms preprocess, 8.2ms inference, 1.3ms postprocess per image at shape (1, 3, 416, 640)\n",
      "\n",
      "0: 416x640 21 sperms, 7.2ms\n",
      "Speed: 1.6ms preprocess, 7.2ms inference, 1.3ms postprocess per image at shape (1, 3, 416, 640)\n",
      "\n",
      "0: 416x640 25 sperms, 6.5ms\n",
      "Speed: 3.5ms preprocess, 6.5ms inference, 3.3ms postprocess per image at shape (1, 3, 416, 640)\n",
      "\n",
      "0: 416x640 24 sperms, 8.0ms\n",
      "Speed: 1.4ms preprocess, 8.0ms inference, 1.2ms postprocess per image at shape (1, 3, 416, 640)\n",
      "\n",
      "0: 416x640 27 sperms, 6.9ms\n",
      "Speed: 1.4ms preprocess, 6.9ms inference, 1.3ms postprocess per image at shape (1, 3, 416, 640)\n",
      "\n",
      "0: 416x640 25 sperms, 6.6ms\n",
      "Speed: 3.3ms preprocess, 6.6ms inference, 3.5ms postprocess per image at shape (1, 3, 416, 640)\n",
      "\n",
      "0: 416x640 26 sperms, 7.1ms\n",
      "Speed: 1.9ms preprocess, 7.1ms inference, 1.3ms postprocess per image at shape (1, 3, 416, 640)\n",
      "\n",
      "0: 416x640 24 sperms, 6.2ms\n",
      "Speed: 2.5ms preprocess, 6.2ms inference, 1.3ms postprocess per image at shape (1, 3, 416, 640)\n",
      "\n",
      "0: 416x640 23 sperms, 7.7ms\n",
      "Speed: 1.6ms preprocess, 7.7ms inference, 1.2ms postprocess per image at shape (1, 3, 416, 640)\n",
      "\n",
      "0: 416x640 25 sperms, 6.6ms\n",
      "Speed: 1.5ms preprocess, 6.6ms inference, 1.5ms postprocess per image at shape (1, 3, 416, 640)\n",
      "\n",
      "0: 416x640 31 sperms, 6.5ms\n",
      "Speed: 1.4ms preprocess, 6.5ms inference, 3.4ms postprocess per image at shape (1, 3, 416, 640)\n",
      "\n",
      "0: 416x640 26 sperms, 6.9ms\n",
      "Speed: 1.9ms preprocess, 6.9ms inference, 1.2ms postprocess per image at shape (1, 3, 416, 640)\n",
      "\n",
      "0: 416x640 20 sperms, 10.7ms\n",
      "Speed: 2.6ms preprocess, 10.7ms inference, 1.3ms postprocess per image at shape (1, 3, 416, 640)\n",
      "\n",
      "0: 416x640 25 sperms, 6.8ms\n",
      "Speed: 1.6ms preprocess, 6.8ms inference, 1.2ms postprocess per image at shape (1, 3, 416, 640)\n",
      "\n",
      "0: 416x640 25 sperms, 6.8ms\n",
      "Speed: 2.3ms preprocess, 6.8ms inference, 3.4ms postprocess per image at shape (1, 3, 416, 640)\n",
      "\n",
      "0: 416x640 26 sperms, 7.5ms\n",
      "Speed: 1.5ms preprocess, 7.5ms inference, 1.2ms postprocess per image at shape (1, 3, 416, 640)\n",
      "\n",
      "0: 416x640 25 sperms, 7.9ms\n",
      "Speed: 1.7ms preprocess, 7.9ms inference, 1.3ms postprocess per image at shape (1, 3, 416, 640)\n",
      "\n",
      "0: 416x640 24 sperms, 7.9ms\n",
      "Speed: 1.5ms preprocess, 7.9ms inference, 1.3ms postprocess per image at shape (1, 3, 416, 640)\n",
      "\n",
      "0: 416x640 22 sperms, 7.4ms\n",
      "Speed: 1.5ms preprocess, 7.4ms inference, 1.3ms postprocess per image at shape (1, 3, 416, 640)\n",
      "\n",
      "0: 416x640 23 sperms, 6.3ms\n",
      "Speed: 1.7ms preprocess, 6.3ms inference, 1.4ms postprocess per image at shape (1, 3, 416, 640)\n",
      "\n",
      "0: 416x640 28 sperms, 8.2ms\n",
      "Speed: 1.3ms preprocess, 8.2ms inference, 1.3ms postprocess per image at shape (1, 3, 416, 640)\n",
      "\n",
      "0: 416x640 24 sperms, 6.5ms\n",
      "Speed: 1.6ms preprocess, 6.5ms inference, 1.2ms postprocess per image at shape (1, 3, 416, 640)\n",
      "\n",
      "0: 416x640 25 sperms, 8.0ms\n",
      "Speed: 1.4ms preprocess, 8.0ms inference, 1.4ms postprocess per image at shape (1, 3, 416, 640)\n",
      "\n",
      "0: 416x640 21 sperms, 7.0ms\n",
      "Speed: 1.7ms preprocess, 7.0ms inference, 1.2ms postprocess per image at shape (1, 3, 416, 640)\n",
      "\n",
      "0: 416x640 24 sperms, 8.4ms\n",
      "Speed: 1.7ms preprocess, 8.4ms inference, 1.4ms postprocess per image at shape (1, 3, 416, 640)\n",
      "\n",
      "0: 416x640 20 sperms, 7.1ms\n",
      "Speed: 1.7ms preprocess, 7.1ms inference, 1.3ms postprocess per image at shape (1, 3, 416, 640)\n",
      "\n",
      "0: 416x640 21 sperms, 8.5ms\n",
      "Speed: 1.6ms preprocess, 8.5ms inference, 1.3ms postprocess per image at shape (1, 3, 416, 640)\n",
      "\n",
      "0: 416x640 27 sperms, 7.1ms\n",
      "Speed: 1.7ms preprocess, 7.1ms inference, 1.2ms postprocess per image at shape (1, 3, 416, 640)\n",
      "\n",
      "0: 416x640 25 sperms, 8.8ms\n",
      "Speed: 1.6ms preprocess, 8.8ms inference, 1.3ms postprocess per image at shape (1, 3, 416, 640)\n",
      "\n",
      "0: 416x640 24 sperms, 6.6ms\n",
      "Speed: 1.7ms preprocess, 6.6ms inference, 1.3ms postprocess per image at shape (1, 3, 416, 640)\n",
      "\n",
      "0: 416x640 25 sperms, 7.9ms\n",
      "Speed: 1.4ms preprocess, 7.9ms inference, 1.3ms postprocess per image at shape (1, 3, 416, 640)\n",
      "\n",
      "0: 416x640 24 sperms, 6.8ms\n",
      "Speed: 1.6ms preprocess, 6.8ms inference, 1.7ms postprocess per image at shape (1, 3, 416, 640)\n",
      "\n",
      "0: 416x640 27 sperms, 12.8ms\n",
      "Speed: 2.3ms preprocess, 12.8ms inference, 2.7ms postprocess per image at shape (1, 3, 416, 640)\n",
      "\n",
      "0: 416x640 24 sperms, 8.3ms\n",
      "Speed: 1.6ms preprocess, 8.3ms inference, 1.3ms postprocess per image at shape (1, 3, 416, 640)\n",
      "\n",
      "0: 416x640 26 sperms, 7.4ms\n",
      "Speed: 1.8ms preprocess, 7.4ms inference, 1.2ms postprocess per image at shape (1, 3, 416, 640)\n",
      "\n",
      "0: 416x640 25 sperms, 8.3ms\n",
      "Speed: 1.5ms preprocess, 8.3ms inference, 1.3ms postprocess per image at shape (1, 3, 416, 640)\n",
      "\n",
      "0: 416x640 28 sperms, 6.9ms\n",
      "Speed: 1.3ms preprocess, 6.9ms inference, 1.4ms postprocess per image at shape (1, 3, 416, 640)\n",
      "\n",
      "0: 416x640 26 sperms, 6.3ms\n",
      "Speed: 1.5ms preprocess, 6.3ms inference, 1.4ms postprocess per image at shape (1, 3, 416, 640)\n",
      "\n",
      "0: 416x640 30 sperms, 7.6ms\n",
      "Speed: 1.7ms preprocess, 7.6ms inference, 1.4ms postprocess per image at shape (1, 3, 416, 640)\n",
      "\n",
      "0: 416x640 27 sperms, 6.1ms\n",
      "Speed: 3.3ms preprocess, 6.1ms inference, 1.3ms postprocess per image at shape (1, 3, 416, 640)\n",
      "\n",
      "0: 416x640 27 sperms, 8.1ms\n",
      "Speed: 1.6ms preprocess, 8.1ms inference, 1.2ms postprocess per image at shape (1, 3, 416, 640)\n",
      "\n",
      "0: 416x640 27 sperms, 6.8ms\n",
      "Speed: 1.3ms preprocess, 6.8ms inference, 1.3ms postprocess per image at shape (1, 3, 416, 640)\n",
      "\n",
      "0: 416x640 24 sperms, 7.1ms\n",
      "Speed: 2.7ms preprocess, 7.1ms inference, 4.0ms postprocess per image at shape (1, 3, 416, 640)\n",
      "\n",
      "0: 416x640 27 sperms, 7.2ms\n",
      "Speed: 1.4ms preprocess, 7.2ms inference, 1.4ms postprocess per image at shape (1, 3, 416, 640)\n",
      "\n",
      "0: 416x640 26 sperms, 6.3ms\n",
      "Speed: 2.3ms preprocess, 6.3ms inference, 3.2ms postprocess per image at shape (1, 3, 416, 640)\n",
      "\n",
      "0: 416x640 23 sperms, 7.0ms\n",
      "Speed: 1.5ms preprocess, 7.0ms inference, 1.2ms postprocess per image at shape (1, 3, 416, 640)\n",
      "\n",
      "0: 416x640 23 sperms, 6.2ms\n",
      "Speed: 2.3ms preprocess, 6.2ms inference, 4.2ms postprocess per image at shape (1, 3, 416, 640)\n",
      "\n",
      "0: 416x640 25 sperms, 7.1ms\n",
      "Speed: 1.6ms preprocess, 7.1ms inference, 1.3ms postprocess per image at shape (1, 3, 416, 640)\n",
      "\n",
      "0: 416x640 24 sperms, 6.5ms\n",
      "Speed: 2.2ms preprocess, 6.5ms inference, 3.4ms postprocess per image at shape (1, 3, 416, 640)\n",
      "\n",
      "0: 416x640 22 sperms, 6.9ms\n",
      "Speed: 1.6ms preprocess, 6.9ms inference, 1.2ms postprocess per image at shape (1, 3, 416, 640)\n",
      "\n",
      "0: 416x640 23 sperms, 6.8ms\n",
      "Speed: 1.9ms preprocess, 6.8ms inference, 3.4ms postprocess per image at shape (1, 3, 416, 640)\n",
      "\n",
      "0: 416x640 24 sperms, 7.5ms\n",
      "Speed: 1.5ms preprocess, 7.5ms inference, 1.3ms postprocess per image at shape (1, 3, 416, 640)\n",
      "\n",
      "0: 416x640 24 sperms, 6.7ms\n",
      "Speed: 2.9ms preprocess, 6.7ms inference, 3.4ms postprocess per image at shape (1, 3, 416, 640)\n",
      "\n",
      "0: 416x640 28 sperms, 6.7ms\n",
      "Speed: 1.6ms preprocess, 6.7ms inference, 1.3ms postprocess per image at shape (1, 3, 416, 640)\n",
      "\n",
      "0: 416x640 30 sperms, 6.2ms\n",
      "Speed: 2.4ms preprocess, 6.2ms inference, 1.3ms postprocess per image at shape (1, 3, 416, 640)\n",
      "\n",
      "0: 416x640 27 sperms, 7.6ms\n",
      "Speed: 1.5ms preprocess, 7.6ms inference, 1.3ms postprocess per image at shape (1, 3, 416, 640)\n",
      "\n",
      "0: 416x640 23 sperms, 6.7ms\n",
      "Speed: 2.1ms preprocess, 6.7ms inference, 3.5ms postprocess per image at shape (1, 3, 416, 640)\n",
      "\n",
      "0: 416x640 24 sperms, 7.1ms\n",
      "Speed: 1.6ms preprocess, 7.1ms inference, 1.2ms postprocess per image at shape (1, 3, 416, 640)\n",
      "\n",
      "0: 416x640 25 sperms, 6.4ms\n",
      "Speed: 1.4ms preprocess, 6.4ms inference, 1.3ms postprocess per image at shape (1, 3, 416, 640)\n",
      "\n",
      "0: 416x640 20 sperms, 8.1ms\n",
      "Speed: 1.7ms preprocess, 8.1ms inference, 1.3ms postprocess per image at shape (1, 3, 416, 640)\n",
      "\n",
      "0: 416x640 20 sperms, 6.8ms\n",
      "Speed: 3.8ms preprocess, 6.8ms inference, 3.2ms postprocess per image at shape (1, 3, 416, 640)\n",
      "\n",
      "0: 416x640 14 sperms, 7.4ms\n",
      "Speed: 2.0ms preprocess, 7.4ms inference, 1.5ms postprocess per image at shape (1, 3, 416, 640)\n",
      "\n",
      "0: 416x640 13 sperms, 9.4ms\n",
      "Speed: 1.6ms preprocess, 9.4ms inference, 1.5ms postprocess per image at shape (1, 3, 416, 640)\n",
      "\n",
      "0: 416x640 15 sperms, 7.3ms\n",
      "Speed: 1.5ms preprocess, 7.3ms inference, 1.3ms postprocess per image at shape (1, 3, 416, 640)\n",
      "\n",
      "0: 416x640 19 sperms, 7.0ms\n",
      "Speed: 1.5ms preprocess, 7.0ms inference, 1.2ms postprocess per image at shape (1, 3, 416, 640)\n",
      "\n",
      "0: 416x640 18 sperms, 6.8ms\n",
      "Speed: 3.2ms preprocess, 6.8ms inference, 3.5ms postprocess per image at shape (1, 3, 416, 640)\n",
      "\n",
      "0: 416x640 22 sperms, 8.2ms\n",
      "Speed: 1.5ms preprocess, 8.2ms inference, 1.2ms postprocess per image at shape (1, 3, 416, 640)\n",
      "\n",
      "0: 416x640 17 sperms, 6.9ms\n",
      "Speed: 3.0ms preprocess, 6.9ms inference, 3.7ms postprocess per image at shape (1, 3, 416, 640)\n",
      "\n",
      "0: 416x640 18 sperms, 7.5ms\n",
      "Speed: 1.4ms preprocess, 7.5ms inference, 1.4ms postprocess per image at shape (1, 3, 416, 640)\n",
      "\n",
      "0: 416x640 22 sperms, 7.2ms\n",
      "Speed: 3.7ms preprocess, 7.2ms inference, 3.6ms postprocess per image at shape (1, 3, 416, 640)\n",
      "\n",
      "0: 416x640 19 sperms, 7.6ms\n",
      "Speed: 1.4ms preprocess, 7.6ms inference, 1.3ms postprocess per image at shape (1, 3, 416, 640)\n",
      "\n",
      "0: 416x640 24 sperms, 6.8ms\n",
      "Speed: 1.5ms preprocess, 6.8ms inference, 1.4ms postprocess per image at shape (1, 3, 416, 640)\n",
      "\n",
      "0: 416x640 20 sperms, 8.9ms\n",
      "Speed: 1.5ms preprocess, 8.9ms inference, 1.3ms postprocess per image at shape (1, 3, 416, 640)\n",
      "\n",
      "0: 416x640 23 sperms, 7.1ms\n",
      "Speed: 1.5ms preprocess, 7.1ms inference, 1.2ms postprocess per image at shape (1, 3, 416, 640)\n",
      "\n",
      "0: 416x640 17 sperms, 7.0ms\n",
      "Speed: 2.7ms preprocess, 7.0ms inference, 3.8ms postprocess per image at shape (1, 3, 416, 640)\n",
      "\n",
      "0: 416x640 18 sperms, 7.6ms\n",
      "Speed: 1.3ms preprocess, 7.6ms inference, 1.3ms postprocess per image at shape (1, 3, 416, 640)\n",
      "\n",
      "0: 416x640 17 sperms, 7.4ms\n",
      "Speed: 1.3ms preprocess, 7.4ms inference, 1.2ms postprocess per image at shape (1, 3, 416, 640)\n",
      "\n",
      "0: 416x640 19 sperms, 6.6ms\n",
      "Speed: 1.4ms preprocess, 6.6ms inference, 1.2ms postprocess per image at shape (1, 3, 416, 640)\n",
      "  tracker_id class_id        x_min       y_min        x_max       y_max\n",
      "0          1        0   647.209595  589.079590   685.848877  632.157288\n",
      "1          2        0   319.812164  370.250580   355.217896  410.914764\n",
      "2          3        0  1267.440918  452.922394  1309.288208  494.093994\n",
      "3          4        0   146.338654  707.259155   188.505234  752.012329\n",
      "4          5        0   873.423035  373.475739   914.815857  412.739807\n"
     ]
    }
   ],
   "source": [
    "\n",
    "# Inicializando o modelo, o rastreador e os anotadores\n",
    "model = YOLO('runs/detect/train/weights/best.pt')\n",
    "tracker = sv.ByteTrack()\n",
    "annotator = sv.RoundBoxAnnotator()\n",
    "label_annotator = sv.LabelAnnotator()\n",
    "trace_annotator = sv.TraceAnnotator()\n",
    "\n",
    "# Criando um DataFrame vazio para armazenar as detecções\n",
    "df_detections = pd.DataFrame(columns=[\"tracker_id\", \"class_id\", \"x_min\", \"y_min\", \"x_max\", \"y_max\"])\n",
    "\n",
    "# Função de callback para processar cada frame\n",
    "def callback(frame: np.ndarray, _: int) -> np.ndarray:\n",
    "    global df_detections\n",
    "\n",
    "    # Fazendo a predição no frame atual\n",
    "    results = model(frame)[0]\n",
    "\n",
    "    # Convertendo resultados para o formato de detecção\n",
    "    detections = sv.Detections.from_ultralytics(results)\n",
    "\n",
    "    # Atualizando os rastreamentos com o ByteTrack\n",
    "    detections = tracker.update_with_detections(detections)\n",
    "    \n",
    "    # Extraindo informações das detecções para o DataFrame\n",
    "    new_data = []\n",
    "    for i, (class_id, tracker_id, box) in enumerate(zip(detections.class_id, detections.tracker_id, detections.xyxy)):\n",
    "        # Extraindo coordenadas da bounding box\n",
    "        x_min, y_min, x_max, y_max = box\n",
    "        \n",
    "        # Adicionando as informações à lista de novas linhas\n",
    "        new_data.append({\n",
    "            \"tracker_id\": tracker_id,\n",
    "            \"class_id\": class_id,\n",
    "            \"x_min\": x_min,\n",
    "            \"y_min\": y_min,\n",
    "            \"x_max\": x_max,\n",
    "            \"y_max\": y_max\n",
    "        })\n",
    "\n",
    "    # Concatenando novas linhas ao DataFrame\n",
    "    df_detections = pd.concat([df_detections, pd.DataFrame(new_data)], ignore_index=True)\n",
    "\n",
    "    # Criando rótulos para cada detecção\n",
    "    labels = [\n",
    "        f\"#{tracker_id} {results.names[class_id]}\"\n",
    "        for class_id, tracker_id\n",
    "        in zip(detections.class_id, detections.tracker_id)\n",
    "    ]\n",
    "\n",
    "    # Anotando o frame com as caixas de detecção, rótulos e rastros\n",
    "    annotated_frame = annotator.annotate(frame.copy(), detections=detections)\n",
    "    annotated_frame = label_annotator.annotate(annotated_frame, detections=detections, labels=labels)\n",
    "    return trace_annotator.annotate(annotated_frame, detections=detections)\n",
    "\n",
    "# Processando o vídeo e salvando o resultado\n",
    "sv.process_video(\n",
    "    source_path=\"11.2.mp4\",\n",
    "    target_path=\"resultIDTraceRo.mp4\",\n",
    "    callback=callback\n",
    ")\n",
    "\n",
    "# Exibindo as primeiras linhas do DataFrame ao final do processamento\n",
    "print(df_detections.head())\n"
   ]
  },
  {
   "cell_type": "markdown",
   "metadata": {},
   "source": [
    "# Save"
   ]
  },
  {
   "cell_type": "code",
   "execution_count": 32,
   "metadata": {},
   "outputs": [],
   "source": [
    "df_detections.to_csv(file_path_tracker, index=False)"
   ]
  }
 ],
 "metadata": {
  "kernelspec": {
   "display_name": "template-hooks-75HnZkhL-py3.10",
   "language": "python",
   "name": "python3"
  },
  "language_info": {
   "codemirror_mode": {
    "name": "ipython",
    "version": 3
   },
   "file_extension": ".py",
   "mimetype": "text/x-python",
   "name": "python",
   "nbconvert_exporter": "python",
   "pygments_lexer": "ipython3",
   "version": "3.10.12"
  }
 },
 "nbformat": 4,
 "nbformat_minor": 2
}
