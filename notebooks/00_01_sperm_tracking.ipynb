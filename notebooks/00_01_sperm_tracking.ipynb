{
 "cells": [
  {
   "cell_type": "markdown",
   "metadata": {},
   "source": [
    "# Imports"
   ]
  },
  {
   "cell_type": "code",
   "execution_count": 1,
   "metadata": {},
   "outputs": [],
   "source": [
    "# %pip install ultralytics"
   ]
  },
  {
   "cell_type": "code",
   "execution_count": 2,
   "metadata": {},
   "outputs": [],
   "source": [
    "from nb_utils import set_root\n",
    "PROJECT_DIR = set_root(2)"
   ]
  },
  {
   "cell_type": "code",
   "execution_count": 3,
   "metadata": {},
   "outputs": [
    {
     "name": "stdout",
     "output_type": "stream",
     "text": [
      "Ultralytics 8.3.18 🚀 Python-3.10.12 torch-2.5.0+cu124 CUDA:0 (NVIDIA GeForce RTX 4060 Ti, 8188MiB)\n",
      "Setup complete ✅ (16 CPUs, 15.6 GB RAM, 122.4/1006.9 GB disk)\n"
     ]
    }
   ],
   "source": [
    "import os\n",
    "import re\n",
    "from src.detector import VideoProcessor\n",
    "import ultralytics\n",
    "from IPython.display import clear_output\n",
    "\n",
    "ultralytics.checks()"
   ]
  },
  {
   "cell_type": "markdown",
   "metadata": {},
   "source": [
    "# Methods"
   ]
  },
  {
   "cell_type": "code",
   "execution_count": 4,
   "metadata": {},
   "outputs": [],
   "source": [
    "def is_numeric(string):\n",
    "    pattern = re.compile(r"^\\d+$")\n",
    "    return bool(pattern.match(string))"
   ]
  },
  {
   "cell_type": "markdown",
   "metadata": {},
   "source": [
    "# Parameters"
   ]
  },
  {
   "cell_type": "code",
   "execution_count": 5,
   "metadata": {},
   "outputs": [],
   "source": [
    "path_data = PROJECT_DIR / "data"\n",
    "path_weights = PROJECT_DIR / \"notebooks\" / \"runs\" / \"detect\" / \"train\" / \"weights\"\n",
    "path_datasets = PROJECT_DIR / \"datasets\" / \"data\" / \"train\"\n",
    "path_primary = path_data / \"03_primary\"\n",
    "path_tracker_data = path_primary / "tracker_data"\n",
    "path_tracker_video = path_primary / "tracker_video"\n",
    "\n",
    "file_model = path_weights / \"best.pt\"\n",
    "files_sample = [i for i in os.listdir(path_datasets) if is_numeric(i)]"
   ]
  },
  {
   "cell_type": "code",
   "execution_count": 6,
   "metadata": {},
   "outputs": [
    {
     "name": "stdout",
     "output_type": "stream",
     "text": [
      "/home/manuel/projects/repos/cin-dataviz/data/03_primary/tracker_video\n",
      "/home/manuel/projects/repos/cin-dataviz/data/03_primary/tracker_data\n"
     ]
    }
   ],
   "source": [
    "for file_create in [path_tracker_video, path_tracker_data]:\n",
    "    print(file_create)\n",
    "    if os.makedirs(file_create, exist_ok=True):\n",
    "        os.makedirs(file_create)"
   ]
  },
  {
   "cell_type": "code",
   "execution_count": 7,
   "metadata": {},
   "outputs": [],
   "source": [
    "source_paths = {\n",
    "    n: str(path_datasets / n / f\"{n}.mp4\") for n in files_sample\n",
    "}\n",
    "target_paths_video = [path_tracker_video / f\"{n}.mp4\" for n in files_sample]\n",
    "target_paths_data = [path_tracker_data / f\"{n}.parquet\" for n in files_sample]"
   ]
  },
  {
   "cell_type": "markdown",
   "metadata": {},
   "source": [
    "# Detecção em Vídeo"
   ]
  },
  {
   "cell_type": "code",
   "execution_count": 8,
   "metadata": {},
   "outputs": [],
   "source": [
    "processor = VideoProcessor(\n",
    "    model_path=file_model,\n",
    "    source_paths=source_paths,\n",
    "    target_paths=target_paths_video,\n",
    "    save_paths=target_paths_data\n",
    ")\n",
    "tracker = processor.process_video()\n",
    "clear_output()"
   ]
  }
 ],
 "metadata": {
  "kernelspec": {
   "display_name": "template-hooks-75HnZkhL-py3.10",
   "language": "python",
   "name": "python3"
  },
  "language_info": {
   "codemirror_mode": {
    "name": "ipython",
    "version": 3
   },
   "file_extension": ".py",
   "mimetype": "text/x-python",
   "name": "python",
   "nbconvert_exporter": "python",
   "pygments_lexer": "ipython3",
   "version": "3.10.12"
  }
 },
 "nbformat": 4,
 "nbformat_minor": 2
}
